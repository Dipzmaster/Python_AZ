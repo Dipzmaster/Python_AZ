{
 "cells": [
  {
   "cell_type": "code",
   "execution_count": 1,
   "id": "c89041a2",
   "metadata": {},
   "outputs": [
    {
     "name": "stdout",
     "output_type": "stream",
     "text": [
      "Hello, my name is Peter!\n",
      "Hello, my name is Anna!\n",
      "Peter\n",
      "20\n",
      "Anna\n",
      "19\n"
     ]
    }
   ],
   "source": [
    "class Person:\n",
    "    def __init__(self, name, age): # class constructor\n",
    "        self.name = name # class variable\n",
    "        self.age = age # class variable\n",
    "\n",
    "    def greet(self): # class function to print a greeting\n",
    "        print(\"Hello, my name is %s!\" % self.name)\n",
    "        \n",
    "\n",
    "a = Person(\"Peter\", 20) # instantiation\n",
    "b = Person(\"Anna\", 19) # instantiation\n",
    "\n",
    "a.greet() # call a's greet method\n",
    "b.greet() # call b's greet method\n",
    "\n",
    "print(a.name)\n",
    "print(a.age)  # We can also access the attributes of an object\n",
    "\n",
    "print(b.name)\n",
    "print(b.age)  # We can also access the attributes of an object"
   ]
  },
  {
   "cell_type": "code",
   "execution_count": 2,
   "id": "b706061b",
   "metadata": {},
   "outputs": [],
   "source": [
    "class Rectangle:\n",
    "    def __init__(self, x1, y1, x2, y2): # class constructor\n",
    "        if x1 < x2 and y1 > y2:\n",
    "            self.x1 = x1 # class variable\n",
    "            self.y1 = y1 # class variable\n",
    "            self.x2 = x2 # class variable\n",
    "            self.y2 = y2 # class variable\n",
    "        else:\n",
    "            print(\"Incorrect coordinates of the rectangle!\")\n",
    "        \n",
    "r = Rectangle(2, 7, 8, 4)"
   ]
  },
  {
   "cell_type": "code",
   "execution_count": 3,
   "id": "bad77602",
   "metadata": {},
   "outputs": [
    {
     "name": "stdout",
     "output_type": "stream",
     "text": [
      "6\n",
      "3\n"
     ]
    }
   ],
   "source": [
    "class Rectangle:\n",
    "    def __init__(self, x1, y1, x2, y2): # class constructor\n",
    "        if x1<x2 and y1>y2:\n",
    "            self.x1 = x1 # class variable\n",
    "            self.y1 = y1 # class variable\n",
    "            self.x2 = x2 # class variable\n",
    "            self.y2 = y2 # class variable\n",
    "        else:\n",
    "            print(\"Incorrect coordinates of the rectangle!\")\n",
    "        \n",
    "    def width(self):\n",
    "        return self.x2-self.x1\n",
    "      \n",
    "    def height(self):\n",
    "        return self.y1-self.y2\n",
    "rectangle = Rectangle(2, 7, 8, 4)\n",
    "print(rectangle.width())\n",
    "print(rectangle.height())"
   ]
  },
  {
   "cell_type": "code",
   "execution_count": 4,
   "id": "ce999478",
   "metadata": {},
   "outputs": [
    {
     "name": "stdout",
     "output_type": "stream",
     "text": [
      "Area: 18\n",
      "Perimeter: 18\n"
     ]
    }
   ],
   "source": [
    "class Rectangle:\n",
    "    def __init__(self, x1, y1, x2, y2): # class constructor\n",
    "        if x1<x2 and y1>y2:\n",
    "            self.x1 = x1 # class variable\n",
    "            self.y1 = y1 # class variable\n",
    "            self.x2 = x2 # class variable\n",
    "            self.y2 = y2 # class variable\n",
    "        else:\n",
    "            print(\"Incorrect coordinates of the rectangle!\")\n",
    "        \n",
    "    def width(self):\n",
    "        return self.x2-self.x1\n",
    "      \n",
    "    def height(self):\n",
    "        return self.y1-self.y2\n",
    "  \n",
    "    def area(self):\n",
    "        return self.width()*self.height()\n",
    "  \n",
    "    def perimeter(self):\n",
    "        return 2 * self.width() + 2 * self.height()\n",
    "\n",
    "# test your code\n",
    "r = Rectangle (2, 7, 8, 4)\n",
    "print(\"Area: \" + str(r.area()))\n",
    "print(\"Perimeter: \" + str(r.perimeter()))"
   ]
  },
  {
   "cell_type": "code",
   "execution_count": 5,
   "id": "48059121",
   "metadata": {},
   "outputs": [
    {
     "name": "stdout",
     "output_type": "stream",
     "text": [
      "<__main__.Rectangle object at 0x0000018E15D33E20>\n"
     ]
    }
   ],
   "source": [
    "class Rectangle:\n",
    "    def __init__(self, x1, y1, x2, y2): # class constructor\n",
    "        if x1 < x2 and y1 > y2:\n",
    "            self.x1 = x1 # class variable\n",
    "            self.y1 = y1 # class variable\n",
    "            self.x2 = x2 # class variable\n",
    "            self.y2 = y2 # class variable\n",
    "        else:\n",
    "            print(\"Incorrect coordinates of the rectangle!\")\n",
    "        \n",
    "# test your code\n",
    "r = Rectangle (2, 7, 8, 4)\n",
    "print (r)"
   ]
  },
  {
   "cell_type": "markdown",
   "id": "53419f07",
   "metadata": {},
   "source": [
    "# Using __str__"
   ]
  },
  {
   "cell_type": "code",
   "execution_count": 6,
   "id": "d3227bab",
   "metadata": {},
   "outputs": [
    {
     "name": "stdout",
     "output_type": "stream",
     "text": [
      "2, 7, 8, 4\n"
     ]
    }
   ],
   "source": [
    "class Rectangle:\n",
    "    def __init__(self, x1, y1, x2, y2): # class constructor\n",
    "        if x1 < x2 and y1 > y2:\n",
    "            self.x1 = x1 # class variable\n",
    "            self.y1 = y1 # class variable\n",
    "            self.x2 = x2 # class variable\n",
    "            self.y2 = y2 # class variable\n",
    "        else:\n",
    "            print(\"Incorrect coordinates of the rectangle!\")\n",
    "        \n",
    "    def __str__(self):\n",
    "        return(str(self.x1) + ', ' + str(self.y1) + ', ' + str(self.x2) + ', '+str(self.y2))\n",
    "# test your code\n",
    "r = Rectangle (2, 7, 8, 4)\n",
    "print (r)"
   ]
  },
  {
   "cell_type": "markdown",
   "id": "00753801",
   "metadata": {},
   "source": [
    "# Using __repr__"
   ]
  },
  {
   "cell_type": "code",
   "execution_count": 7,
   "id": "6d9156c5",
   "metadata": {},
   "outputs": [
    {
     "name": "stdout",
     "output_type": "stream",
     "text": [
      "2, 7, 8, 4\n"
     ]
    }
   ],
   "source": [
    "class Rectangle:\n",
    "    def __init__(self, x1, y1, x2, y2): # class constructor\n",
    "        if x1 < x2 and y1 > y2:\n",
    "            self.x1 = x1 # class variable\n",
    "            self.y1 = y1 # class variable\n",
    "            self.x2 = x2 # class variable\n",
    "            self.y2 = y2 # class variable\n",
    "        else:\n",
    "            print(\"Incorrect coordinates of the rectangle!\")\n",
    "        \n",
    "    def __repr__(self):\n",
    "        return(str(self.x1) + ', ' + str(self.y1) + ', ' + str(self.x2) + ', '+str(self.y2))\n",
    "# test your code\n",
    "r = Rectangle (2, 7, 8, 4)\n",
    "print (r)"
   ]
  },
  {
   "cell_type": "code",
   "execution_count": null,
   "id": "3189b7ca",
   "metadata": {},
   "outputs": [],
   "source": []
  }
 ],
 "metadata": {
  "kernelspec": {
   "display_name": "Python 3 (ipykernel)",
   "language": "python",
   "name": "python3"
  },
  "language_info": {
   "codemirror_mode": {
    "name": "ipython",
    "version": 3
   },
   "file_extension": ".py",
   "mimetype": "text/x-python",
   "name": "python",
   "nbconvert_exporter": "python",
   "pygments_lexer": "ipython3",
   "version": "3.8.8"
  }
 },
 "nbformat": 4,
 "nbformat_minor": 5
}
