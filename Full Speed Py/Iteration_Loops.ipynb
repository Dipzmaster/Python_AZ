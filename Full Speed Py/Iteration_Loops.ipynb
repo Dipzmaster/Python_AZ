{
 "cells": [
  {
   "cell_type": "markdown",
   "id": "4c33b0de",
   "metadata": {},
   "source": [
    "# Looping Through a List"
   ]
  },
  {
   "cell_type": "code",
   "execution_count": 1,
   "id": "e1af9816",
   "metadata": {},
   "outputs": [
    {
     "name": "stdout",
     "output_type": "stream",
     "text": [
      "0\n",
      "1\n",
      "4\n",
      "9\n",
      "16\n",
      "25\n"
     ]
    }
   ],
   "source": [
    "for value in [0, 1, 2, 3, 4, 5]:\n",
    "    print(value * value)"
   ]
  },
  {
   "cell_type": "code",
   "execution_count": 2,
   "id": "9ec58aad",
   "metadata": {},
   "outputs": [
    {
     "name": "stdout",
     "output_type": "stream",
     "text": [
      "13\n"
     ]
    }
   ],
   "source": [
    "mylist = [1,5,7]\n",
    "sum = 0\n",
    "for value in mylist:\n",
    "    sum = sum + value\n",
    "print(sum)"
   ]
  },
  {
   "cell_type": "code",
   "execution_count": 3,
   "id": "6b8e8889",
   "metadata": {},
   "outputs": [
    {
     "name": "stdout",
     "output_type": "stream",
     "text": [
      "0\n",
      "1\n",
      "2\n",
      "3\n",
      "4\n",
      "5\n"
     ]
    }
   ],
   "source": [
    "for x in range(6):\n",
    "    print(x)"
   ]
  },
  {
   "cell_type": "code",
   "execution_count": 4,
   "id": "3d73219b",
   "metadata": {},
   "outputs": [
    {
     "name": "stdout",
     "output_type": "stream",
     "text": [
      "Index: 0 Value: 1\n",
      "Index: 1 Value: 5\n",
      "Index: 2 Value: 7\n"
     ]
    }
   ],
   "source": [
    "mylist = [1,5,7]\n",
    "for i in range(len(mylist)):\n",
    "    print (\"Index:\", i, \"Value:\", mylist[i]) "
   ]
  },
  {
   "cell_type": "code",
   "execution_count": 6,
   "id": "8e216d24",
   "metadata": {},
   "outputs": [
    {
     "name": "stdout",
     "output_type": "stream",
     "text": [
      "Index: 0 Value: 1\n",
      "Index: 1 Value: 5\n",
      "Index: 2 Value: 7\n"
     ]
    }
   ],
   "source": [
    "mylist = [1, 5, 7]\n",
    "\n",
    "for i, value in enumerate(mylist):\n",
    "    print(\"Index:\", i, \"Value:\", value)"
   ]
  },
  {
   "cell_type": "code",
   "execution_count": 7,
   "id": "16d6273a",
   "metadata": {},
   "outputs": [
    {
     "name": "stdout",
     "output_type": "stream",
     "text": [
      "F\n",
      "u\n",
      "l\n",
      "l\n",
      " \n",
      "S\n",
      "p\n",
      "e\n",
      "e\n",
      "d\n",
      " \n",
      "P\n",
      "y\n",
      "t\n",
      "h\n",
      "o\n",
      "n\n"
     ]
    }
   ],
   "source": [
    "for x in \"Full Speed Python\":\n",
    "    print(x)"
   ]
  },
  {
   "cell_type": "markdown",
   "id": "8725553d",
   "metadata": {},
   "source": [
    "# While Loop"
   ]
  },
  {
   "cell_type": "code",
   "execution_count": 8,
   "id": "c4c79e89",
   "metadata": {},
   "outputs": [
    {
     "name": "stdout",
     "output_type": "stream",
     "text": [
      "10\n",
      "9\n",
      "8\n",
      "7\n",
      "6\n",
      "5\n",
      "4\n",
      "3\n",
      "2\n",
      "1\n"
     ]
    }
   ],
   "source": [
    "n = 10\n",
    "while n > 0:\n",
    "    print(n)\n",
    "    n = n-1"
   ]
  },
  {
   "cell_type": "code",
   "execution_count": 9,
   "id": "e3d4ebd8",
   "metadata": {},
   "outputs": [
    {
     "name": "stdout",
     "output_type": "stream",
     "text": [
      "15\n"
     ]
    }
   ],
   "source": [
    "def sumList(l):\n",
    "    sum = 0\n",
    "    for x in l:\n",
    "        sum += x\n",
    "    return sum\n",
    "l = [1, 2, 3, 4, 5]\n",
    "print(sumList(l))"
   ]
  },
  {
   "cell_type": "code",
   "execution_count": 10,
   "id": "d471332a",
   "metadata": {},
   "outputs": [
    {
     "name": "stdout",
     "output_type": "stream",
     "text": [
      "7\n"
     ]
    }
   ],
   "source": [
    "def findMaximum(list):\n",
    "    \n",
    "    maximum = list[0]\n",
    "    for x in list:\n",
    "        if x > maximum:\n",
    "            maximum = x\n",
    "    return maximum\n",
    "\n",
    "list=[1, 2, 7, 4, 5]\n",
    "\n",
    "print(findMaximum(list))"
   ]
  },
  {
   "cell_type": "code",
   "execution_count": 11,
   "id": "d2a56517",
   "metadata": {},
   "outputs": [
    {
     "name": "stdout",
     "output_type": "stream",
     "text": [
      "Index: 2\n",
      "Maximum Value: 7\n"
     ]
    }
   ],
   "source": [
    "def findMaximumValueIndex(list):\n",
    "    maximum = list[0]\n",
    "    index = 0\n",
    "    for i, value in enumerate(list):\n",
    "        if value > maximum:\n",
    "            maximum = value \n",
    "            index = i\n",
    "    return [index, maximum]\n",
    "\n",
    "list = [1, 2, 7, 4, 5]    \n",
    "[index, maximum] = findMaximumValueIndex(list)\n",
    "\n",
    "print(\"Index:\", index)\n",
    "print(\"Maximum Value:\", maximum)"
   ]
  },
  {
   "cell_type": "markdown",
   "id": "c8cda475",
   "metadata": {},
   "source": [
    "# Reverse list"
   ]
  },
  {
   "cell_type": "code",
   "execution_count": 12,
   "id": "fa382603",
   "metadata": {},
   "outputs": [
    {
     "name": "stdout",
     "output_type": "stream",
     "text": [
      "[5, 4, 3, 2, 1]\n"
     ]
    }
   ],
   "source": [
    "def reverse(list):\n",
    "    length = len(list)\n",
    "    s = length\n",
    "\n",
    "    new_list = [None]*length\n",
    "\n",
    "    for item in list:\n",
    "        s = s - 1\n",
    "        new_list[s] = item\n",
    "    return new_list\n",
    "    \n",
    "list=[1, 2, 3, 4, 5]\n",
    "print(reverse(list))"
   ]
  },
  {
   "cell_type": "code",
   "execution_count": 13,
   "id": "d598de3a",
   "metadata": {},
   "outputs": [
    {
     "name": "stdout",
     "output_type": "stream",
     "text": [
      "True\n",
      "False\n"
     ]
    }
   ],
   "source": [
    "def isSorted(list):\n",
    "    flag = 0\n",
    "    i = 1\n",
    "    while i < len(list): \n",
    "        if(list[i] < list[i - 1]): # compare with the previous element\n",
    "            flag = 1\n",
    "        i += 1\n",
    "      \n",
    "    if (not flag) : \n",
    "        return True \n",
    "    else : \n",
    "        return False \n",
    "print(isSorted([1,2,3,4,5]))\n",
    "print(isSorted([1,2,5,4,2]))"
   ]
  },
  {
   "cell_type": "markdown",
   "id": "2fa2d846",
   "metadata": {},
   "source": [
    "# Use a Nested for Loop"
   ]
  },
  {
   "cell_type": "code",
   "execution_count": 14,
   "id": "8b04478e",
   "metadata": {},
   "outputs": [
    {
     "name": "stdout",
     "output_type": "stream",
     "text": [
      "False\n",
      "True\n"
     ]
    }
   ],
   "source": [
    "def has_duplicates(list):\n",
    "    flag = 0\n",
    "    for i in range (len(list)):\n",
    "        for j in range (i+1,len(list)):\n",
    "            if (list[i] == list[j]):\n",
    "                flag = 1\n",
    "    if (flag == 1): \n",
    "        return True\n",
    "    else:\n",
    "        return False\n",
    "l=[1, 2, 3, 4, 5]  \n",
    "print(has_duplicates(l))\n",
    "l=[1, 2, 3, 3, 4]  \n",
    "print(has_duplicates(l))"
   ]
  },
  {
   "cell_type": "markdown",
   "id": "07e17d58",
   "metadata": {},
   "source": [
    "# Use a while Loop"
   ]
  },
  {
   "cell_type": "code",
   "execution_count": 15,
   "id": "30cdf726",
   "metadata": {},
   "outputs": [
    {
     "name": "stdout",
     "output_type": "stream",
     "text": [
      "Even number: 10\n",
      "Odd number: 9\n",
      "Even number: 8\n",
      "Odd number: 7\n",
      "Even number: 6\n",
      "Odd number: 5\n",
      "Even number: 4\n",
      "Odd number: 3\n",
      "Even number: 2\n",
      "Odd number: 1\n"
     ]
    }
   ],
   "source": [
    "def printEvenOdd(n):\n",
    "    while(n > 0):\n",
    "        if (n % 2 == 0):\n",
    "            print (\"Even number:\",n)\n",
    "        else:\n",
    "            print (\"Odd number:\",n)\n",
    "        n = n - 1 \n",
    "\n",
    "printEvenOdd(10)   "
   ]
  },
  {
   "cell_type": "code",
   "execution_count": 16,
   "id": "9ecb000d",
   "metadata": {},
   "outputs": [
    {
     "name": "stdout",
     "output_type": "stream",
     "text": [
      "P\n",
      "y\n",
      "t\n",
      "h\n",
      "o\n",
      "n\n"
     ]
    }
   ],
   "source": [
    "for a in \"Python\":\n",
    "    print (a)"
   ]
  },
  {
   "cell_type": "code",
   "execution_count": 17,
   "id": "9e07a07c",
   "metadata": {},
   "outputs": [
    {
     "name": "stdout",
     "output_type": "stream",
     "text": [
      "Python\n"
     ]
    }
   ],
   "source": [
    "Languages = [\"Python\", \"Java\", \"R\"]\n",
    "for x in Languages:\n",
    "    if x == \"Java\":\n",
    "        break\n",
    "    print(x) "
   ]
  },
  {
   "cell_type": "code",
   "execution_count": 18,
   "id": "ffb6f62d",
   "metadata": {},
   "outputs": [
    {
     "name": "stdout",
     "output_type": "stream",
     "text": [
      "1\n",
      "2\n",
      "3\n"
     ]
    }
   ],
   "source": [
    "i = 1\n",
    "while i < 7:\n",
    "    print(i)\n",
    "    if (i == 3):\n",
    "        break\n",
    "    i += 1"
   ]
  },
  {
   "cell_type": "code",
   "execution_count": 19,
   "id": "0fe85b2c",
   "metadata": {},
   "outputs": [
    {
     "name": "stdout",
     "output_type": "stream",
     "text": [
      "2\n",
      "4\n",
      "5\n",
      "6\n",
      "7\n",
      "8\n"
     ]
    }
   ],
   "source": [
    "i = 1\n",
    "while i <= 7:\n",
    "    i += 1\n",
    "    if (i == 3):\n",
    "        continue\n",
    "    print(i)"
   ]
  },
  {
   "cell_type": "code",
   "execution_count": null,
   "id": "2082a657",
   "metadata": {},
   "outputs": [],
   "source": []
  }
 ],
 "metadata": {
  "kernelspec": {
   "display_name": "Python 3 (ipykernel)",
   "language": "python",
   "name": "python3"
  },
  "language_info": {
   "codemirror_mode": {
    "name": "ipython",
    "version": 3
   },
   "file_extension": ".py",
   "mimetype": "text/x-python",
   "name": "python",
   "nbconvert_exporter": "python",
   "pygments_lexer": "ipython3",
   "version": "3.8.8"
  }
 },
 "nbformat": 4,
 "nbformat_minor": 5
}
