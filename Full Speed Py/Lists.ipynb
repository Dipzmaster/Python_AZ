{
 "cells": [
  {
   "cell_type": "code",
   "execution_count": 4,
   "id": "914c70b8",
   "metadata": {},
   "outputs": [
    {
     "name": "stdout",
     "output_type": "stream",
     "text": [
      "[1, 2, 3, 4, 5]\n",
      "1\n",
      "2\n"
     ]
    }
   ],
   "source": [
    "l = [1, 2, 3, 4, 5]\n",
    "print(l) #prints the entire list\n",
    "print(l[0]) #prints value at index 0\n",
    "print(l[1]) #prints value at index 1"
   ]
  },
  {
   "cell_type": "markdown",
   "id": "aea4aed2",
   "metadata": {},
   "source": [
    "# Sublist"
   ]
  },
  {
   "cell_type": "code",
   "execution_count": 6,
   "id": "9317e994",
   "metadata": {},
   "outputs": [
    {
     "name": "stdout",
     "output_type": "stream",
     "text": [
      "['a', 'b', 'c']\n"
     ]
    }
   ],
   "source": [
    "l = ['a', 'b', 'c', 'd', 'e']\n",
    "print(l[0:3])"
   ]
  },
  {
   "cell_type": "markdown",
   "id": "96b6d474",
   "metadata": {},
   "source": [
    "# List Concatenation"
   ]
  },
  {
   "cell_type": "code",
   "execution_count": 7,
   "id": "34422b88",
   "metadata": {},
   "outputs": [
    {
     "name": "stdout",
     "output_type": "stream",
     "text": [
      "[1, 2, 3, 4]\n"
     ]
    }
   ],
   "source": [
    "print([1,2] + [3,4])"
   ]
  },
  {
   "cell_type": "markdown",
   "id": "2e5d0023",
   "metadata": {},
   "source": [
    "# Traverse a List"
   ]
  },
  {
   "cell_type": "code",
   "execution_count": 8,
   "id": "4ace2032",
   "metadata": {},
   "outputs": [
    {
     "name": "stdout",
     "output_type": "stream",
     "text": [
      "1\n",
      "2\n",
      "4\n",
      "8\n",
      "10\n"
     ]
    }
   ],
   "source": [
    "l=[1, 2, 4, 8, 10]\n",
    "for val in l:\n",
    "      print(val)"
   ]
  },
  {
   "cell_type": "markdown",
   "id": "01033dd5",
   "metadata": {},
   "source": [
    "# Use List Slicing"
   ]
  },
  {
   "cell_type": "code",
   "execution_count": 9,
   "id": "1f03bcd6",
   "metadata": {},
   "outputs": [
    {
     "name": "stdout",
     "output_type": "stream",
     "text": [
      "[1, 4, 9]\n",
      "[10, 23]\n"
     ]
    }
   ],
   "source": [
    "def getSubList():\n",
    "    l = [1, 4, 9, 10, 23]\n",
    "    l1 = l[0:3] # sublist from index 0 to 3\n",
    "    l2 = l[3:] # sublist from 3 uptil end\n",
    "    return [l1, l2]\n",
    "[l1, l2] = getSubList()\n",
    "print(l1)\n",
    "print(l2)"
   ]
  },
  {
   "cell_type": "markdown",
   "id": "c1872d9e",
   "metadata": {},
   "source": [
    "# Use the append() Function"
   ]
  },
  {
   "cell_type": "code",
   "execution_count": 10,
   "id": "4b972f64",
   "metadata": {},
   "outputs": [
    {
     "name": "stdout",
     "output_type": "stream",
     "text": [
      "[1, 4, 9, 10, 23, 90]\n"
     ]
    }
   ],
   "source": [
    "def AppendtoList():\n",
    "    l = [1, 4, 9, 10, 23] \n",
    "    l.append(90)\n",
    "    return l\n",
    "l = AppendtoList()\n",
    "print(l)"
   ]
  },
  {
   "cell_type": "markdown",
   "id": "25f69d3a",
   "metadata": {},
   "source": [
    "# Concatenate Lists Using + Operator"
   ]
  },
  {
   "cell_type": "code",
   "execution_count": 11,
   "id": "19ecda4f",
   "metadata": {},
   "outputs": [
    {
     "name": "stdout",
     "output_type": "stream",
     "text": [
      "[1, 4, 9, 10, 23]\n",
      "[1, 4, 9, 10, 23, 90]\n"
     ]
    }
   ],
   "source": [
    "l1 = [1, 4, 9, 10, 23]\n",
    "print(l1)\n",
    "l1 = l1 + [90]\n",
    "print(l1)"
   ]
  },
  {
   "cell_type": "markdown",
   "id": "9e33b736",
   "metadata": {},
   "source": [
    "# Use the Python len and sum Functions"
   ]
  },
  {
   "cell_type": "code",
   "execution_count": 14,
   "id": "f1b96759",
   "metadata": {},
   "outputs": [
    {
     "name": "stdout",
     "output_type": "stream",
     "text": [
      "9.4\n"
     ]
    }
   ],
   "source": [
    "l = [1,4,9,10,23]\n",
    "list_sum = sum(l)\n",
    "list_length = len(l)\n",
    "average = list_sum/list_length\n",
    "print(average)"
   ]
  },
  {
   "cell_type": "code",
   "execution_count": 15,
   "id": "fe43759d",
   "metadata": {},
   "outputs": [
    {
     "name": "stdout",
     "output_type": "stream",
     "text": [
      "9.4\n"
     ]
    }
   ],
   "source": [
    "def getAverage():\n",
    "    l1 = [1, 4, 9, 10, 23]\n",
    "    avg = sum(l1)/len(l1)  \n",
    "    return avg\n",
    "  \n",
    "avg = getAverage()\n",
    "print(avg)"
   ]
  },
  {
   "cell_type": "markdown",
   "id": "40c794d0",
   "metadata": {},
   "source": [
    "# Use the remove() Function"
   ]
  },
  {
   "cell_type": "code",
   "execution_count": 16,
   "id": "f860b4e9",
   "metadata": {},
   "outputs": [
    {
     "name": "stdout",
     "output_type": "stream",
     "text": [
      "[1, 10, 23]\n"
     ]
    }
   ],
   "source": [
    "def removeList():\n",
    "    l1 = [1, 4, 9, 10, 23]\n",
    "    l2 = [4, 9]\n",
    "    l1.remove(l2[0])\n",
    "    l1.remove(l2[1])\n",
    "    return l1\n",
    "\n",
    "l1 = removeList()\n",
    "print(l1)"
   ]
  },
  {
   "cell_type": "markdown",
   "id": "096b1e9f",
   "metadata": {},
   "source": [
    "# Use the remove()Function Within a for Loop"
   ]
  },
  {
   "cell_type": "code",
   "execution_count": 17,
   "id": "ab7c82f5",
   "metadata": {},
   "outputs": [
    {
     "name": "stdout",
     "output_type": "stream",
     "text": [
      "[1, 10, 23]\n"
     ]
    }
   ],
   "source": [
    "def removeList():\n",
    "  \n",
    "    l1 = [1, 4, 9, 10, 23]\n",
    "    l2 = [4, 9]\n",
    "    for elem in l2:\n",
    "        l1.remove(elem)\n",
    "    return l1\n",
    "\n",
    "l1 = removeList()\n",
    "print(l1)"
   ]
  },
  {
   "cell_type": "markdown",
   "id": "cb897e0f",
   "metadata": {},
   "source": [
    "# List Comprehensions"
   ]
  },
  {
   "cell_type": "code",
   "execution_count": 18,
   "id": "5272b6ee",
   "metadata": {},
   "outputs": [
    {
     "name": "stdout",
     "output_type": "stream",
     "text": [
      "[0, 1, 4, 9]\n"
     ]
    }
   ],
   "source": [
    "print([x*x for x in [0, 1, 2, 3]])"
   ]
  },
  {
   "cell_type": "code",
   "execution_count": 20,
   "id": "158e7976",
   "metadata": {},
   "outputs": [
    {
     "name": "stdout",
     "output_type": "stream",
     "text": [
      "[0, 1, 4, 9]\n"
     ]
    }
   ],
   "source": [
    "print([x*x for x in range(4)])"
   ]
  },
  {
   "cell_type": "code",
   "execution_count": 21,
   "id": "fc402846",
   "metadata": {},
   "outputs": [
    {
     "name": "stdout",
     "output_type": "stream",
     "text": [
      "[0, 2, 4, 6, 8]\n"
     ]
    }
   ],
   "source": [
    "print([x for x in range(10) if x % 2 == 0])"
   ]
  },
  {
   "cell_type": "code",
   "execution_count": 22,
   "id": "f8ea0f1f",
   "metadata": {},
   "outputs": [
    {
     "name": "stdout",
     "output_type": "stream",
     "text": [
      "[1, 4, 9, 16, 25, 36, 49, 64, 81, 100]\n"
     ]
    }
   ],
   "source": [
    "def getSquare():\n",
    "    l1 = [x*x for x in range(1, 11)]\n",
    "    return l1\n",
    "l1 = getSquare()\n",
    "print(l1)"
   ]
  },
  {
   "cell_type": "code",
   "execution_count": 23,
   "id": "65225c24",
   "metadata": {},
   "outputs": [
    {
     "name": "stdout",
     "output_type": "stream",
     "text": [
      "[1, 8, 27, 64, 125, 216, 343, 512, 729, 1000, 1331, 1728, 2197, 2744, 3375, 4096, 4913, 5832, 6859, 8000]\n"
     ]
    }
   ],
   "source": [
    "def getCube():\n",
    "    l1 = [x*x*x for x in range(1, 21)]\n",
    "    return l1\n",
    "l1 = getCube()\n",
    "print(l1)"
   ]
  },
  {
   "cell_type": "code",
   "execution_count": 24,
   "id": "f5f57c4d",
   "metadata": {},
   "outputs": [
    {
     "name": "stdout",
     "output_type": "stream",
     "text": [
      "[1, 8, 27, 64, 125, 216, 343, 512, 729, 1000, 1331, 1728, 2197, 2744, 3375, 4096, 4913, 5832, 6859, 8000]\n"
     ]
    }
   ],
   "source": [
    "def getCube():\n",
    "    l1 = [x**3 for x in range(1,21)]\n",
    "    return l1\n",
    "\n",
    "l1 = getCube()\n",
    "print(l1)"
   ]
  },
  {
   "cell_type": "markdown",
   "id": "b16697f7",
   "metadata": {},
   "source": [
    "# List Comprehension With Predicate"
   ]
  },
  {
   "cell_type": "code",
   "execution_count": 25,
   "id": "e2089c2a",
   "metadata": {},
   "outputs": [
    {
     "name": "stdout",
     "output_type": "stream",
     "text": [
      "[[0, 2, 4, 6, 8, 10, 12, 14, 16, 18, 20], [1, 3, 5, 7, 9, 11, 13, 15, 17, 19]]\n"
     ]
    }
   ],
   "source": [
    "def ListofEvenOdds():\n",
    "    l1 = []\n",
    "    l2 = []  \n",
    "    l1 = [x for x in range(0, 21) if (x % 2 == 0)]\n",
    "    l2 = [x for x in range(0, 21) if (x % 2 != 0)]\n",
    "    return[l1, l2]\n",
    "  \n",
    "print(ListofEvenOdds())"
   ]
  },
  {
   "cell_type": "code",
   "execution_count": 26,
   "id": "efcb6ec1",
   "metadata": {},
   "outputs": [
    {
     "name": "stdout",
     "output_type": "stream",
     "text": [
      "[[0, 2, 4, 6, 8, 10, 12, 14, 16, 18, 20], [1, 3, 5, 7, 9, 11, 13, 15, 17, 19]]\n"
     ]
    }
   ],
   "source": [
    "def ListofEvenOdds():\n",
    "    l1 = []\n",
    "    l2 = []  \n",
    "    l1 = [x for x in range(0, 21) if (x % 2 == 0)]\n",
    "    l2 = [x for x in range(0, 21) if (x not in l1)]\n",
    "    return[l1, l2]\n",
    "  \n",
    "print(ListofEvenOdds())"
   ]
  },
  {
   "cell_type": "code",
   "execution_count": 27,
   "id": "cea37b48",
   "metadata": {},
   "outputs": [
    {
     "name": "stdout",
     "output_type": "stream",
     "text": [
      "1540\n"
     ]
    }
   ],
   "source": [
    "def evenSquareSum():\n",
    "    even = [x*x for x in range(0, 21, 2)]\n",
    "    return sum(even)\n",
    "  \n",
    "print(evenSquareSum())"
   ]
  },
  {
   "cell_type": "code",
   "execution_count": 28,
   "id": "949b65ec",
   "metadata": {},
   "outputs": [
    {
     "name": "stdout",
     "output_type": "stream",
     "text": [
      "[4, 16, 64, 100, 196, 256, 400]\n"
     ]
    }
   ],
   "source": [
    "def getSquare():\n",
    "    l1 = [x*x for x in range(0, 21, 2) if x % 3 != 0]\n",
    "    return l1\n",
    "  \n",
    "print(getSquare())"
   ]
  },
  {
   "cell_type": "code",
   "execution_count": 29,
   "id": "0a479e9d",
   "metadata": {},
   "outputs": [
    {
     "name": "stdout",
     "output_type": "stream",
     "text": [
      "[4, 16, 64, 100, 196, 256, 400]\n"
     ]
    }
   ],
   "source": [
    "def getSquare():\n",
    "    l1=[ x**2 for x in range(0, 21) if x % 3 != 0 and x % 2 == 0] \n",
    "    return l1\n",
    " \n",
    "print(getSquare())"
   ]
  },
  {
   "cell_type": "code",
   "execution_count": 30,
   "id": "a613aa59",
   "metadata": {},
   "outputs": [
    {
     "name": "stdout",
     "output_type": "stream",
     "text": [
      "[0, 1, 4, 9, 16, 25, 36, 49, 64, 81]\n"
     ]
    }
   ],
   "source": [
    "S = [x**2 for x in range(10)]\n",
    "print(S)"
   ]
  },
  {
   "cell_type": "code",
   "execution_count": 31,
   "id": "2d6634c1",
   "metadata": {},
   "outputs": [
    {
     "name": "stdout",
     "output_type": "stream",
     "text": [
      "[0, 4, 16, 36, 64]\n"
     ]
    }
   ],
   "source": [
    "list = [n**2 for n in range(10) if n % 2 == 0]\n",
    "print(list)"
   ]
  },
  {
   "cell_type": "code",
   "execution_count": null,
   "id": "1b7e0241",
   "metadata": {},
   "outputs": [],
   "source": []
  }
 ],
 "metadata": {
  "kernelspec": {
   "display_name": "Python 3 (ipykernel)",
   "language": "python",
   "name": "python3"
  },
  "language_info": {
   "codemirror_mode": {
    "name": "ipython",
    "version": 3
   },
   "file_extension": ".py",
   "mimetype": "text/x-python",
   "name": "python",
   "nbconvert_exporter": "python",
   "pygments_lexer": "ipython3",
   "version": "3.8.8"
  }
 },
 "nbformat": 4,
 "nbformat_minor": 5
}
