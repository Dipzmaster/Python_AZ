{
 "cells": [
  {
   "cell_type": "code",
   "execution_count": 1,
   "id": "d96ea9c6",
   "metadata": {},
   "outputs": [
    {
     "name": "stdout",
     "output_type": "stream",
     "text": [
      "0\n",
      "1\n",
      "2\n",
      "3\n",
      "4\n",
      "5\n"
     ]
    }
   ],
   "source": [
    "for value in [0, 1, 2, 3, 4, 5]:\n",
    "     print(value)"
   ]
  },
  {
   "cell_type": "markdown",
   "id": "91f4d738",
   "metadata": {},
   "source": [
    "# Iterators"
   ]
  },
  {
   "cell_type": "code",
   "execution_count": 2,
   "id": "8abf49a8",
   "metadata": {},
   "outputs": [
    {
     "name": "stdout",
     "output_type": "stream",
     "text": [
      "1\n",
      "2\n",
      "3\n"
     ]
    }
   ],
   "source": [
    "my_iter = iter([1, 2, 3])\n",
    "print (next(my_iter))\n",
    "print (next(my_iter))\n",
    "print (next(my_iter))"
   ]
  },
  {
   "cell_type": "markdown",
   "id": "63097769",
   "metadata": {},
   "source": [
    "# Iterator Classes"
   ]
  },
  {
   "cell_type": "code",
   "execution_count": 3,
   "id": "27af3df9",
   "metadata": {},
   "outputs": [
    {
     "name": "stdout",
     "output_type": "stream",
     "text": [
      "1\n",
      "2\n",
      "3\n"
     ]
    }
   ],
   "source": [
    "class MyRange:\n",
    "    def __init__(self, a, b):\n",
    "        self.a = a\n",
    "        self.b = b\n",
    "\n",
    "    def __iter__(self):# returns the iterator object itself\n",
    "        return self\n",
    "\n",
    "    def next(self):\n",
    "        if self.a < self.b:# returns the next item in the sequence\n",
    "            value = self.a\n",
    "            self.a += 1\n",
    "            return value\n",
    "        else:\n",
    "            raise StopIteration\n",
    "            \n",
    "myrange = MyRange(1, 4)\n",
    "print (myrange.next())\n",
    "print (myrange.next())\n",
    "print (myrange.next())\n",
    "##print (myrange.next())"
   ]
  },
  {
   "cell_type": "code",
   "execution_count": 4,
   "id": "c1d64435",
   "metadata": {},
   "outputs": [
    {
     "name": "stdout",
     "output_type": "stream",
     "text": [
      "1\n",
      "2\n",
      "3\n"
     ]
    }
   ],
   "source": [
    "class MyRange:\n",
    "    def __init__(self, a, b):\n",
    "        self.a = a\n",
    "        self.b = b\n",
    "\n",
    "    def __iter__(self): # returns the iterator object itself\n",
    "        return self\n",
    "\n",
    "    def __next__(self): # returns the next item in the sequence\n",
    "        if self.a < self.b:\n",
    "            value = self.a\n",
    "            self.a += 1\n",
    "            return value\n",
    "        else:\n",
    "            raise StopIteration\n",
    "for value in MyRange(1, 4):\n",
    "     print(value)"
   ]
  },
  {
   "cell_type": "code",
   "execution_count": 5,
   "id": "55674242",
   "metadata": {},
   "outputs": [
    {
     "name": "stdout",
     "output_type": "stream",
     "text": [
      "[2, 4, 6, 8]\n"
     ]
    },
    {
     "name": "stderr",
     "output_type": "stream",
     "text": [
      "<>:11: SyntaxWarning: \"is\" with a literal. Did you mean \"==\"?\n",
      "<>:11: SyntaxWarning: \"is\" with a literal. Did you mean \"==\"?\n",
      "C:\\Users\\HP\\AppData\\Local\\Temp/ipykernel_720/3640581812.py:11: SyntaxWarning: \"is\" with a literal. Did you mean \"==\"?\n",
      "  if i % 2 is 0: # checks if number is even\n"
     ]
    }
   ],
   "source": [
    "class MyRange:\n",
    "    def __init__(self, n):\n",
    "        self.n = n\n",
    "\n",
    "    def __iter__(self):\n",
    "        return self\n",
    "\n",
    "    def next(self):\n",
    "        evenArray = [] # next method returns this list\n",
    "        for i in range(1, self.n+1):\n",
    "            if i % 2 is 0: # checks if number is even\n",
    "                value = i\n",
    "                evenArray.append(i) # adds the even number to the list\n",
    "            else: # number was odd\n",
    "                i+=1\n",
    "        return evenArray\n",
    "    \n",
    "myrange = MyRange(8)\n",
    "print (myrange.next())"
   ]
  },
  {
   "cell_type": "code",
   "execution_count": 6,
   "id": "8b541589",
   "metadata": {},
   "outputs": [
    {
     "name": "stdout",
     "output_type": "stream",
     "text": [
      "[8, 7, 6, 5, 4, 3, 2, 1, 0]\n"
     ]
    }
   ],
   "source": [
    "class MyRange:\n",
    "    def __init__(self, n):\n",
    "        self.n = n\n",
    "\n",
    "    def __iter__(self):\n",
    "        return self\n",
    "\n",
    "    def next(self):\n",
    "        myArray = []\n",
    "        for i in range(self.n, -1, -1): # from n to 0\n",
    "            myArray.append(i) # adds the even number to the list\n",
    "        return myArray\n",
    "myRange = MyRange(8)\n",
    "print(myRange.next())"
   ]
  },
  {
   "cell_type": "code",
   "execution_count": 7,
   "id": "1c28e245",
   "metadata": {},
   "outputs": [
    {
     "name": "stdout",
     "output_type": "stream",
     "text": [
      "[0, 1, 1, 2, 3, 5, 8, 13]\n"
     ]
    }
   ],
   "source": [
    "class MyRange:\n",
    "    def __init__(self, n):\n",
    "        self.n = n\n",
    "\n",
    "    def __iter__(self):\n",
    "        return self\n",
    "\n",
    "    def next(self):\n",
    "        myArray = []\n",
    "        for i in range(self.n): # from n to 0\n",
    "            if i == 0 or i == 1:\n",
    "                myArray.append(i) # adds the even number to the list\n",
    "            else:\n",
    "                myArray.append(myArray[i-2] + myArray[i-1])\n",
    "        return myArray\n",
    "\n",
    "myrange = MyRange(8)\n",
    "print(myrange.next())"
   ]
  },
  {
   "cell_type": "code",
   "execution_count": null,
   "id": "10cfeadc",
   "metadata": {},
   "outputs": [],
   "source": []
  }
 ],
 "metadata": {
  "kernelspec": {
   "display_name": "Python 3 (ipykernel)",
   "language": "python",
   "name": "python3"
  },
  "language_info": {
   "codemirror_mode": {
    "name": "ipython",
    "version": 3
   },
   "file_extension": ".py",
   "mimetype": "text/x-python",
   "name": "python",
   "nbconvert_exporter": "python",
   "pygments_lexer": "ipython3",
   "version": "3.8.8"
  }
 },
 "nbformat": 4,
 "nbformat_minor": 5
}
