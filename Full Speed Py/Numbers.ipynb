{
 "cells": [
  {
   "cell_type": "code",
   "execution_count": 1,
   "id": "eea25477",
   "metadata": {},
   "outputs": [
    {
     "name": "stdout",
     "output_type": "stream",
     "text": [
      "<class 'int'>\n",
      "<class 'float'>\n"
     ]
    }
   ],
   "source": [
    "a = 2\n",
    "print(type(a)) #print the data type of variable a\n",
    "\n",
    "b = 2.5\n",
    "print(type(b)) # prints data type of variable b"
   ]
  },
  {
   "cell_type": "code",
   "execution_count": 2,
   "id": "9f771829",
   "metadata": {},
   "outputs": [
    {
     "name": "stdout",
     "output_type": "stream",
     "text": [
      "4.5\n",
      "9.0\n",
      "7.333333333333333\n"
     ]
    }
   ],
   "source": [
    "a=2\n",
    "b=2.5\n",
    "print(a + b)  \n",
    "print ((a + b) * 2)\n",
    "print(2 + 2 + 4 - 2/3)"
   ]
  },
  {
   "cell_type": "code",
   "execution_count": 3,
   "id": "3d7ab84d",
   "metadata": {},
   "outputs": [
    {
     "name": "stdout",
     "output_type": "stream",
     "text": [
      "1.5\n",
      "1\n",
      "1\n",
      "9\n"
     ]
    }
   ],
   "source": [
    "def MathOp():\n",
    "    classic_division=3/2\n",
    "    floor_division=3//2 \n",
    "    modulus=3%2 \n",
    "    power=3**2 \n",
    "    return [classic_division, floor_division, modulus, power]\n",
    "\n",
    "[classic_division, floor_division, modulus, power]=MathOp()\n",
    "print(classic_division)\n",
    "print(floor_division)\n",
    "print(modulus)\n",
    "print(power)"
   ]
  },
  {
   "cell_type": "code",
   "execution_count": 4,
   "id": "504c1313",
   "metadata": {},
   "outputs": [
    {
     "name": "stdout",
     "output_type": "stream",
     "text": [
      "Odd parity 1\n",
      "Even parity 0\n"
     ]
    }
   ],
   "source": [
    "def checkParity(n):\n",
    "    result = (n % 2)\n",
    "    return result\n",
    "  \n",
    "print(\"Odd parity\", checkParity(17))\n",
    "print(\"Even parity\", checkParity(16))"
   ]
  },
  {
   "cell_type": "code",
   "execution_count": 5,
   "id": "51dfe9d5",
   "metadata": {},
   "outputs": [
    {
     "name": "stdout",
     "output_type": "stream",
     "text": [
      "True\n",
      "False\n"
     ]
    }
   ],
   "source": [
    "def inRange(x, y):\n",
    "    return (x < 1/3 < y)\n",
    "\n",
    "print(inRange(-1, 3))\n",
    "print(inRange(2, 3))"
   ]
  },
  {
   "cell_type": "code",
   "execution_count": null,
   "id": "7f4c597e",
   "metadata": {},
   "outputs": [],
   "source": []
  }
 ],
 "metadata": {
  "kernelspec": {
   "display_name": "Python 3 (ipykernel)",
   "language": "python",
   "name": "python3"
  },
  "language_info": {
   "codemirror_mode": {
    "name": "ipython",
    "version": 3
   },
   "file_extension": ".py",
   "mimetype": "text/x-python",
   "name": "python",
   "nbconvert_exporter": "python",
   "pygments_lexer": "ipython3",
   "version": "3.8.8"
  }
 },
 "nbformat": 4,
 "nbformat_minor": 5
}
