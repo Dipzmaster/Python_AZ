{
 "cells": [
  {
   "cell_type": "code",
   "execution_count": 1,
   "id": "109b678a",
   "metadata": {},
   "outputs": [
    {
     "name": "stdout",
     "output_type": "stream",
     "text": [
      "hello\n",
      "goodbye\n"
     ]
    }
   ],
   "source": [
    "hi = \"hello\" # string within double quotes\n",
    "print(hi)\n",
    "\n",
    "bye = 'goodbye' # string within single quote\n",
    "print(bye)"
   ]
  },
  {
   "cell_type": "code",
   "execution_count": 2,
   "id": "ebc31905",
   "metadata": {},
   "outputs": [
    {
     "name": "stdout",
     "output_type": "stream",
     "text": [
      "HelloHelloHello\n"
     ]
    }
   ],
   "source": [
    "print(\"Hello\" * 3)"
   ]
  },
  {
   "cell_type": "code",
   "execution_count": 3,
   "id": "d7eb4a4d",
   "metadata": {},
   "outputs": [
    {
     "name": "stdout",
     "output_type": "stream",
     "text": [
      "['aaabbbccc', 9]\n",
      "['xxxyyyzzz', 9]\n"
     ]
    }
   ],
   "source": [
    "def getStr(s):\n",
    "    s=s[:1] + s[0] + s[1:]# Transform the string \n",
    "    s=s[:1] + s[0] + s[1:]\n",
    "    s=s[:3] + s[3] + s[3:]\n",
    "    s=s[:3] + s[3] + s[3:]\n",
    "    s=s[:6] + s[6] + s[6:]\n",
    "    s=s[:6] + s[6] + s[6:]\n",
    "    # Update the length of string\n",
    "    strlen = len(s)\n",
    "    return [s, strlen]\n",
    "\n",
    "print(getStr(\"abc\"))\n",
    "print(getStr(\"xyz\"))"
   ]
  },
  {
   "cell_type": "code",
   "execution_count": 4,
   "id": "4316768d",
   "metadata": {},
   "outputs": [
    {
     "name": "stdout",
     "output_type": "stream",
     "text": [
      "[3, 5]\n"
     ]
    }
   ],
   "source": [
    "def findOccurence(s):\n",
    "    a = s.find(\"b\")#find first occurrence of \"b\" in the string \n",
    "    b = s.find(\"ccc\")#find first occurence  of \"ccc\" in the string\n",
    "    return [a, b]\n",
    "\n",
    "str = \"aaabbccc\"\n",
    "print(findOccurence(str))"
   ]
  },
  {
   "cell_type": "code",
   "execution_count": 7,
   "id": "9fbde7c2",
   "metadata": {},
   "outputs": [],
   "source": [
    "str = \"AAA bbb CCC\"\n",
    "a = str.upper()\n",
    "b = str.lower()"
   ]
  },
  {
   "cell_type": "code",
   "execution_count": 8,
   "id": "e4e16d1a",
   "metadata": {},
   "outputs": [
    {
     "name": "stdout",
     "output_type": "stream",
     "text": [
      "AAA BBB CCC\n",
      "aaa bbb ccc\n"
     ]
    }
   ],
   "source": [
    "print(a)\n",
    "print(b)"
   ]
  },
  {
   "cell_type": "code",
   "execution_count": 9,
   "id": "5260da9e",
   "metadata": {},
   "outputs": [
    {
     "name": "stdout",
     "output_type": "stream",
     "text": [
      "['AAA BBB CCC', 'aaa bbb ccc']\n"
     ]
    }
   ],
   "source": [
    "def changeCase(s):\n",
    "    a = s.upper()  # convert string to \"AAA BBB CCC\"\n",
    "    b = s.lower()  # convert string to \"aaa bbb ccc\"\n",
    "    return [a, b]\n",
    "\n",
    "str = \"AAA bbb CCC\"\n",
    "print(changeCase(str))"
   ]
  },
  {
   "cell_type": "code",
   "execution_count": 10,
   "id": "49f807db",
   "metadata": {},
   "outputs": [
    {
     "name": "stdout",
     "output_type": "stream",
     "text": [
      "Hello WorldHello WorldHello WorldHello World\n"
     ]
    }
   ],
   "source": [
    "print(\"Hello World\" + \"Hello World\" + \"Hello World\" * 2)"
   ]
  },
  {
   "cell_type": "code",
   "execution_count": null,
   "id": "04530018",
   "metadata": {},
   "outputs": [],
   "source": []
  }
 ],
 "metadata": {
  "kernelspec": {
   "display_name": "Python 3 (ipykernel)",
   "language": "python",
   "name": "python3"
  },
  "language_info": {
   "codemirror_mode": {
    "name": "ipython",
    "version": 3
   },
   "file_extension": ".py",
   "mimetype": "text/x-python",
   "name": "python",
   "nbconvert_exporter": "python",
   "pygments_lexer": "ipython3",
   "version": "3.8.8"
  }
 },
 "nbformat": 4,
 "nbformat_minor": 5
}
