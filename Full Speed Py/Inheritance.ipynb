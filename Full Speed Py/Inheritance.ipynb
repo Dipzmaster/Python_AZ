{
 "cells": [
  {
   "cell_type": "code",
   "execution_count": 1,
   "id": "e55c8652",
   "metadata": {},
   "outputs": [
    {
     "name": "stdout",
     "output_type": "stream",
     "text": [
      "I don't talk to strangers!!\n"
     ]
    }
   ],
   "source": [
    "class Person:\n",
    "    def __init__(self, name, age): # Person's constructor\n",
    "        self.name = name # Person's attribute\n",
    "        self.age = age # Person's attribute\n",
    "\n",
    "    def greet(self): # Person's method\n",
    "        print(\"Hello, my name is %s!\" % self.name)\n",
    "\n",
    "class TenYearOldPerson(Person): # TenYearOldPerson inherits from Person\n",
    "    def __init__(self, name): # TenYearOldPerson's constructor\n",
    "        Person.__init__(self, name, 10) # accesses Person's constructor\n",
    "\n",
    "    def greet(self): # rewrites the greet method\n",
    "        print(\"I don't talk to strangers!!\")\n",
    "\n",
    "tyo = TenYearOldPerson(\"Jack\") # instance of TenYearOldPerson\n",
    "tyo.greet() # call greet method of the TenYearOldPerson"
   ]
  },
  {
   "cell_type": "markdown",
   "id": "bb520672",
   "metadata": {},
   "source": [
    "# Multi-Level Inheritance"
   ]
  },
  {
   "cell_type": "code",
   "execution_count": 2,
   "id": "4f1b18d7",
   "metadata": {},
   "outputs": [
    {
     "name": "stdout",
     "output_type": "stream",
     "text": [
      "I am a lion.\n",
      "I am warm blooded.\n",
      "I eat meat.\n"
     ]
    }
   ],
   "source": [
    "class Animal ():\n",
    "    def __init__(self, name, food, characteristic): # Animal's constructor\n",
    "        self.name = name # Animal's attribute\n",
    "        self.characteristic = characteristic # Animal's attribute\n",
    "        self.food = food # Animal's attribute\n",
    "        print (\"I am a \" + str(self.name) + \".\")\n",
    "    \n",
    "class Mammal (Animal): # Mammal inherits from Animal\n",
    "    def __init__(self, name, food): # Mammal's constructor\n",
    "        Animal.__init__(self, name, food, \"warm blooded\") # Animal's constructor\n",
    "        print (\"I am warm blooded.\")\n",
    "    \n",
    "class Carnivore (Mammal): # Carnivore inherits from Mammal\n",
    "    def __init__(self, name): # Carnivore's constructor\n",
    "        Mammal.__init__(self, name, \"meat\") # Mammal's constructor \n",
    "        print (\"I eat meat.\")\n",
    "\n",
    "lion = Carnivore(\"lion\") # lion is an instance of Carnivore"
   ]
  },
  {
   "cell_type": "code",
   "execution_count": 3,
   "id": "5b619a49",
   "metadata": {},
   "outputs": [],
   "source": [
    "#However, if we move the print method in a separate method, the subclass can not only access the method of its parent class—but also override it if needed"
   ]
  },
  {
   "cell_type": "code",
   "execution_count": 4,
   "id": "e74aa834",
   "metadata": {},
   "outputs": [
    {
     "name": "stdout",
     "output_type": "stream",
     "text": [
      "I eat meat.\n"
     ]
    }
   ],
   "source": [
    "class Animal ():\n",
    "    def __init__(self, name, food, characteristic):\n",
    "        self.name = name\n",
    "        self.characteristic = characteristic\n",
    "        self.food = food\n",
    "    def printer(self):\n",
    "        print (\"I am a \" + str(self.name) + \".\")\n",
    "    \n",
    "class Mammal (Animal):\n",
    "    def __init__(self, name, food):\n",
    "        Animal.__init__(self, name, food, \"warm blooded\")\n",
    "    def printer(self):\n",
    "        print (\"I am warm blooded.\")\n",
    "    \n",
    "class Carnivore (Mammal):\n",
    "    def __init__(self, name):\n",
    "        Mammal.__init__(self, name, \"meat\")\n",
    "    def printer(self):\n",
    "        print (\"I eat meat.\")\n",
    "\n",
    "lion = Carnivore(\"lion\")\n",
    "lion.printer()"
   ]
  },
  {
   "cell_type": "code",
   "execution_count": 5,
   "id": "8cddfeb1",
   "metadata": {},
   "outputs": [],
   "source": [
    "#Multiple Inheritance"
   ]
  },
  {
   "cell_type": "code",
   "execution_count": 6,
   "id": "a631f8d4",
   "metadata": {},
   "outputs": [
    {
     "name": "stdout",
     "output_type": "stream",
     "text": [
      "Hi, I am Ali.\n",
      "My roll number is 13K-1234.\n",
      "I teach Data Structures.\n",
      "I got an A in Data Structures.\n",
      "\n",
      "\n",
      "Ahmed, you can not apply for TAship.\n"
     ]
    }
   ],
   "source": [
    "class Person:\n",
    "    def __init__(self, name):\n",
    "        self.name = name\n",
    "\n",
    "    def greet(self):\n",
    "        print(\"Hi, I am \" + self.name + \".\")\n",
    "\n",
    "class Student (Person): # Student inherits from Person class\n",
    "    def __init__(self, name, rollNumber):\n",
    "        self.name = name # Attribute inherited from the Person class\n",
    "        self.rollNumber = rollNumber # Student's attribute\n",
    "        Person.__init__(self, name) # Person's constructor\n",
    "\n",
    "    def report(self): # Student's method\n",
    "        print(\"My roll number is \" + self.rollNumber + \".\")\n",
    "\n",
    "class Teacher (Person): # Teacher inherits from Person class\n",
    "    def __init__(self, name, course):\n",
    "        self.name = name # Attribute inherited from the Person class\n",
    "        self.course = course # Teacher's attribute\n",
    "        Person.__init__(self, name) # Person's constructor   \n",
    "\n",
    "    def introduce(self): # Teacher's method\n",
    "        print(\"I teach \" + self.course + \".\")\n",
    "    \n",
    "class TA (Student, Teacher): # TA inherits from Student and Teacher class\n",
    "    def __init__(self, name, rollNumber, course, grade):\n",
    "        self.name = name # Attribute inherited from the Person class\n",
    "        self.rollNumber = rollNumber # Attribute inherited from the Student class\n",
    "        self.course = course # Attribute inherited from the Teacher class\n",
    "        self.grade = grade # TA's attribute\n",
    "    \n",
    "    def details(self): # TA's method\n",
    "        if self.grade==\"A*\" or self.grade==\"A\" or self.grade==\"A-\": # if person is elligible for TAship\n",
    "            Person.greet(self) # can access Person's greet method\n",
    "            Student.report(self) # can access Student's report method\n",
    "            Teacher.introduce(self) # can access Teacher's introduce method\n",
    "            print (\"I got an \" + self.grade + \" in \" + self.course + \".\")\n",
    "        else: # person is not elligible for TAship\n",
    "            print(self.name + \", you can not apply for TAship.\")\n",
    "    \n",
    "ta = TA('Ali', '13K-1234', 'Data Structures' ,'A') # TA object\n",
    "ta.details()\n",
    "\n",
    "#uncomment any of the following lines of code and see how they work\n",
    "# ta.greet()\n",
    "# ta.report()\n",
    "# ta.introduce()\n",
    "\n",
    "print(\"\\n\")\n",
    "\n",
    "ta2 = TA('Ahmed', '14K-5678', 'Algorithms' ,'B')\n",
    "ta2.details()\n"
   ]
  },
  {
   "cell_type": "markdown",
   "id": "6d136d5b",
   "metadata": {},
   "source": [
    "# Super Method"
   ]
  },
  {
   "cell_type": "code",
   "execution_count": 7,
   "id": "80491974",
   "metadata": {},
   "outputs": [
    {
     "name": "stdout",
     "output_type": "stream",
     "text": [
      "Hi, I'm Ali.\n",
      "I am a PhD student.\n"
     ]
    }
   ],
   "source": [
    "class Person(object): # Super class\n",
    "    def __init__(self, name):\n",
    "        self.name = name\n",
    "    def greet(self):\n",
    "        print (\"Hi, I'm \" + self.name + \".\") # Super class does something\n",
    "\n",
    "class Student(Person): # Subclass inheriting from the super class\n",
    "    def __init__(self, name, degree):\n",
    "        self.name = name\n",
    "        self.degree = degree\n",
    "        Person.__init__(self, name) # calls constructor of super class\n",
    "    def greet(self):\n",
    "        Person.greet(self) # calls method of super class\n",
    "        print (\"I am a \" + self.degree + \" student.\")\n",
    "student = Student(\"Ali\", \"PhD\") # Create an object of the subclass\n",
    "student.greet()"
   ]
  },
  {
   "cell_type": "markdown",
   "id": "ea1ab780",
   "metadata": {},
   "source": [
    "# Using the super Function"
   ]
  },
  {
   "cell_type": "code",
   "execution_count": 8,
   "id": "0824498e",
   "metadata": {},
   "outputs": [
    {
     "name": "stdout",
     "output_type": "stream",
     "text": [
      "Hi, I'm Ali.\n",
      "I am a PhD student.\n"
     ]
    }
   ],
   "source": [
    "class Person(object): # Super class\n",
    "    def __init__(self, name):\n",
    "        self.name = name\n",
    "    def greet(self):\n",
    "        print (\"Hi, I'm \" + self.name + \".\") # Super class does something\n",
    "\n",
    "class Student(Person): # Subclass inheriting from the super class\n",
    "    def __init__(self, name, degree):\n",
    "        self.name = name\n",
    "        self.degree = degree\n",
    "        super().__init__(name) # calls constructor of super class\n",
    "    def greet(self):\n",
    "        super().greet() # calls method of super class\n",
    "        print (\"I am a \" + self.degree + \" student.\")\n",
    "student = Student(\"Ali\", \"PhD\") # Create an object of the subclass\n",
    "student.greet()"
   ]
  },
  {
   "cell_type": "code",
   "execution_count": 9,
   "id": "980430fd",
   "metadata": {},
   "outputs": [
    {
     "name": "stdout",
     "output_type": "stream",
     "text": [
      "Length: 7, Area: 49\n",
      "Length: 5, Area: 25\n"
     ]
    }
   ],
   "source": [
    "class Rectangle:\n",
    "    def __init__(self, x1, y1, x2, y2): # class constructor\n",
    "        self.x1 = x1 # class variable\n",
    "        self.y1 = y1 # class variable\n",
    "        self.x2 = x2 # class variable\n",
    "        self.y2 = y2 # class variable\n",
    "        \n",
    "    def width(self):\n",
    "        return self.x2 - self.x1\n",
    "      \n",
    "    def height(self):\n",
    "        return self.y2 - self.y1\n",
    "  \n",
    "    def area(self):\n",
    "        return self.width() * self.height()\n",
    "#write your code here\n",
    "class Square(Rectangle):\n",
    "    def __init__(self, x1, y1, length):\n",
    "        x2 = x1 + length\n",
    "        y2 = y1 + length\n",
    "        super().__init__(x1, y1, x2, y2)\n",
    "    \n",
    "# test your code here\n",
    "square = Square (2, 7, 7)\n",
    "print(\"Length: \" + str(square.width()) + \", Area: \" + str(square.area()))\n",
    "square2 = Square (1, 3, 5)\n",
    "print(\"Length: \" + str(square2.width()) + \", Area: \" + str(square2.area()))"
   ]
  },
  {
   "cell_type": "code",
   "execution_count": 10,
   "id": "36c01e01",
   "metadata": {},
   "outputs": [
    {
     "name": "stdout",
     "output_type": "stream",
     "text": [
      "2018\n"
     ]
    }
   ],
   "source": [
    "class Person:\n",
    "    def __init__(self, fname, lname):\n",
    "        self.firstname = fname\n",
    "        self.lastname = lname\n",
    "\n",
    "    def printname(self):\n",
    "        print(self.firstname, self.lastname)\n",
    "\n",
    "class Student(Person):\n",
    "    def __init__(self, fname, lname, year):\n",
    "        super().__init__(fname, lname)\n",
    "        self.batch= year\n",
    "\n",
    "x = Student(\"Alex\", \"Vice\", 2019)\n",
    "x = Student(\"Anna\", \"Bate\", 2018)\n",
    "print(x.batch)"
   ]
  },
  {
   "cell_type": "code",
   "execution_count": null,
   "id": "83c434cd",
   "metadata": {},
   "outputs": [],
   "source": []
  }
 ],
 "metadata": {
  "kernelspec": {
   "display_name": "Python 3 (ipykernel)",
   "language": "python",
   "name": "python3"
  },
  "language_info": {
   "codemirror_mode": {
    "name": "ipython",
    "version": 3
   },
   "file_extension": ".py",
   "mimetype": "text/x-python",
   "name": "python",
   "nbconvert_exporter": "python",
   "pygments_lexer": "ipython3",
   "version": "3.8.8"
  }
 },
 "nbformat": 4,
 "nbformat_minor": 5
}
