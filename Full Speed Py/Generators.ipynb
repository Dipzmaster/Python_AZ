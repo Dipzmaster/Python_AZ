{
 "cells": [
  {
   "cell_type": "code",
   "execution_count": 1,
   "id": "936623d2",
   "metadata": {},
   "outputs": [
    {
     "name": "stdout",
     "output_type": "stream",
     "text": [
      "2\n",
      "3\n"
     ]
    }
   ],
   "source": [
    "def myrange(a, b):\n",
    "    while a < b:\n",
    "        yield a\n",
    "        a += 1\n",
    "a = myrange(2, 4) # call the generator function which returns an object\n",
    "print (next(a)) # iterate through items using next\n",
    "print (next(a))"
   ]
  },
  {
   "cell_type": "code",
   "execution_count": 2,
   "id": "c9ec9bd9",
   "metadata": {},
   "outputs": [
    {
     "name": "stdout",
     "output_type": "stream",
     "text": [
      "1\n",
      "2\n",
      "3\n"
     ]
    }
   ],
   "source": [
    "def myrange(a, b):\n",
    "    while a < b:\n",
    "        yield a\n",
    "        a += 1\n",
    "for value in myrange(1, 4):\n",
    "    print(value)"
   ]
  },
  {
   "cell_type": "code",
   "execution_count": 3,
   "id": "e97c10c8",
   "metadata": {},
   "outputs": [
    {
     "name": "stdout",
     "output_type": "stream",
     "text": [
      "1\n",
      "2\n"
     ]
    }
   ],
   "source": [
    "def myrange(a, b):\n",
    "    while a < b:\n",
    "        yield a\n",
    "        a += 1\n",
    "seq = myrange(1,3)\n",
    "print(next(seq))\n",
    "print(next(seq)) \n",
    "##next(seq) "
   ]
  },
  {
   "cell_type": "code",
   "execution_count": 4,
   "id": "267a94b4",
   "metadata": {},
   "outputs": [
    {
     "name": "stdout",
     "output_type": "stream",
     "text": [
      "0\n",
      "1\n",
      "4\n"
     ]
    }
   ],
   "source": [
    "def squares(n):\n",
    "    for value in range(n):\n",
    "        yield value * value\n",
    "\n",
    "sqr = squares(8)\n",
    "print(next(sqr))\n",
    "print(next(sqr))\n",
    "print(next(sqr))"
   ]
  },
  {
   "cell_type": "code",
   "execution_count": 5,
   "id": "328769ef",
   "metadata": {},
   "outputs": [
    {
     "name": "stdout",
     "output_type": "stream",
     "text": [
      "1\n",
      "3\n",
      "5\n",
      "7\n"
     ]
    },
    {
     "name": "stderr",
     "output_type": "stream",
     "text": [
      "<>:3: SyntaxWarning: \"is not\" with a literal. Did you mean \"!=\"?\n",
      "<>:3: SyntaxWarning: \"is not\" with a literal. Did you mean \"!=\"?\n",
      "C:\\Users\\HP\\AppData\\Local\\Temp/ipykernel_6992/3528857507.py:3: SyntaxWarning: \"is not\" with a literal. Did you mean \"!=\"?\n",
      "  if value % 2 is not 0:\n"
     ]
    }
   ],
   "source": [
    "def odd(n):\n",
    "    for value in range(n + 1):\n",
    "        if value % 2 is not 0:\n",
    "            yield value\n",
    "\n",
    "for j in odd(8):\n",
    "    print(j)"
   ]
  },
  {
   "cell_type": "code",
   "execution_count": 6,
   "id": "7810d8e4",
   "metadata": {},
   "outputs": [
    {
     "name": "stdout",
     "output_type": "stream",
     "text": [
      "8\n",
      "7\n",
      "6\n",
      "5\n",
      "4\n",
      "3\n",
      "2\n",
      "1\n",
      "0\n"
     ]
    }
   ],
   "source": [
    "def reverse(n):\n",
    "    for value in range(n, -1, -1):\n",
    "        yield value\n",
    "\n",
    "for i in reverse(8):\n",
    "    print(i)"
   ]
  },
  {
   "cell_type": "code",
   "execution_count": 7,
   "id": "b8ef165c",
   "metadata": {},
   "outputs": [
    {
     "name": "stdout",
     "output_type": "stream",
     "text": [
      "0\n",
      "1\n",
      "1\n",
      "2\n",
      "3\n",
      "5\n",
      "8\n",
      "13\n"
     ]
    },
    {
     "name": "stderr",
     "output_type": "stream",
     "text": [
      "<>:4: SyntaxWarning: \"is\" with a literal. Did you mean \"==\"?\n",
      "<>:4: SyntaxWarning: \"is\" with a literal. Did you mean \"==\"?\n",
      "<>:4: SyntaxWarning: \"is\" with a literal. Did you mean \"==\"?\n",
      "<>:4: SyntaxWarning: \"is\" with a literal. Did you mean \"==\"?\n",
      "C:\\Users\\HP\\AppData\\Local\\Temp/ipykernel_6992/2873885593.py:4: SyntaxWarning: \"is\" with a literal. Did you mean \"==\"?\n",
      "  if i is 0 or i is 1:\n",
      "C:\\Users\\HP\\AppData\\Local\\Temp/ipykernel_6992/2873885593.py:4: SyntaxWarning: \"is\" with a literal. Did you mean \"==\"?\n",
      "  if i is 0 or i is 1:\n"
     ]
    }
   ],
   "source": [
    "def fibonacci(n):\n",
    "    myArray = []\n",
    "    for i in range(n):\n",
    "        if i is 0 or i is 1:\n",
    "            myArray.append(i)\n",
    "            yield i\n",
    "        else:\n",
    "            x = myArray[i-2] + myArray[i-1]\n",
    "            myArray.append(x)\n",
    "            yield x\n",
    "\n",
    "for i in fibonacci(8):\n",
    "    print(i)"
   ]
  },
  {
   "cell_type": "code",
   "execution_count": null,
   "id": "16eb7377",
   "metadata": {},
   "outputs": [],
   "source": []
  }
 ],
 "metadata": {
  "kernelspec": {
   "display_name": "Python 3 (ipykernel)",
   "language": "python",
   "name": "python3"
  },
  "language_info": {
   "codemirror_mode": {
    "name": "ipython",
    "version": 3
   },
   "file_extension": ".py",
   "mimetype": "text/x-python",
   "name": "python",
   "nbconvert_exporter": "python",
   "pygments_lexer": "ipython3",
   "version": "3.8.8"
  }
 },
 "nbformat": 4,
 "nbformat_minor": 5
}
