{
 "cells": [
  {
   "cell_type": "code",
   "execution_count": 2,
   "id": "0d39b821",
   "metadata": {},
   "outputs": [
    {
     "name": "stdout",
     "output_type": "stream",
     "text": [
      "1.0\n",
      "4.799655442984406\n"
     ]
    }
   ],
   "source": [
    "import math\n",
    "print(math.cos(0.0))\n",
    "print(math.radians(275))"
   ]
  },
  {
   "cell_type": "code",
   "execution_count": 3,
   "id": "208c9ff9",
   "metadata": {},
   "outputs": [
    {
     "name": "stdout",
     "output_type": "stream",
     "text": [
      "Hello\n",
      "World\n"
     ]
    }
   ],
   "source": [
    "def do_hello():\n",
    "    print(\"Hello\")\n",
    "    print(\"World\")\n",
    "do_hello()"
   ]
  },
  {
   "cell_type": "markdown",
   "id": "802c8701",
   "metadata": {},
   "source": [
    "# Parameterized function"
   ]
  },
  {
   "cell_type": "code",
   "execution_count": 6,
   "id": "c5ff91f4",
   "metadata": {},
   "outputs": [
    {
     "name": "stdout",
     "output_type": "stream",
     "text": [
      "Function got value 2\n"
     ]
    }
   ],
   "source": [
    "def add_one(val):\n",
    "    print(\"Function got value\",val+1)\n",
    "    return\n",
    "add_one(1)"
   ]
  },
  {
   "cell_type": "markdown",
   "id": "c46456e1",
   "metadata": {},
   "source": [
    "# Parameterized function with a return statement"
   ]
  },
  {
   "cell_type": "code",
   "execution_count": 9,
   "id": "a3528e4d",
   "metadata": {},
   "outputs": [
    {
     "name": "stdout",
     "output_type": "stream",
     "text": [
      "Function got value 1\n",
      "2\n"
     ]
    }
   ],
   "source": [
    "def add_one(val):\n",
    "    print(\"Function got value\", val)\n",
    "    return val + 1\n",
    "value = add_one(1)\n",
    "print(value)"
   ]
  },
  {
   "cell_type": "markdown",
   "id": "3b25132c",
   "metadata": {},
   "source": [
    "# Import built-in Math Module"
   ]
  },
  {
   "cell_type": "code",
   "execution_count": 10,
   "id": "14884140",
   "metadata": {},
   "outputs": [
    {
     "name": "stdout",
     "output_type": "stream",
     "text": [
      "6\n"
     ]
    }
   ],
   "source": [
    "import math \n",
    "def findGCD(a, b): \n",
    "    return math.gcd(a, b)\n",
    "print(findGCD(24, 18))"
   ]
  },
  {
   "cell_type": "code",
   "execution_count": 11,
   "id": "05270a4b",
   "metadata": {},
   "outputs": [
    {
     "name": "stdout",
     "output_type": "stream",
     "text": [
      "sine: [-0.8414709848078965, 0.5403023058681397, -1.5574077246549023]\n",
      "cos: [0.0, 1.0, 0.0]\n",
      "tan: [0.8414709848078965, 0.5403023058681397, 1.5574077246549023]\n"
     ]
    }
   ],
   "source": [
    "import math\n",
    "def calculateSinCosTan(x):\n",
    "    sine = math.sin(x)\n",
    "    cos = math.cos(x)\n",
    "    tan = math.tan(x)\n",
    "    return [sine, cos, tan]\n",
    "\n",
    "print(\"sine:\", calculateSinCosTan(-1))\n",
    "print(\"cos:\", calculateSinCosTan(0))\n",
    "print(\"tan:\", calculateSinCosTan(1))"
   ]
  },
  {
   "cell_type": "markdown",
   "id": "c18f8181",
   "metadata": {},
   "source": [
    "# Use the if Statement"
   ]
  },
  {
   "cell_type": "code",
   "execution_count": 12,
   "id": "c4f87611",
   "metadata": {},
   "outputs": [
    {
     "name": "stdout",
     "output_type": "stream",
     "text": [
      "3\n"
     ]
    }
   ],
   "source": [
    "def findMaximum(x, y):\n",
    "    max2 = 0\n",
    "    if(x > y):\n",
    "        max2 = x\n",
    "    else:\n",
    "        max2 = y\n",
    "    return max2\n",
    "print(findMaximum(3, 2))"
   ]
  },
  {
   "cell_type": "markdown",
   "id": "2056cad5",
   "metadata": {},
   "source": [
    "# Use the Built-in max Function"
   ]
  },
  {
   "cell_type": "code",
   "execution_count": 13,
   "id": "fe9bfa46",
   "metadata": {},
   "outputs": [
    {
     "name": "stdout",
     "output_type": "stream",
     "text": [
      "3\n"
     ]
    }
   ],
   "source": [
    "def findMaximum(x, y):\n",
    "    max2 = max(x, y) \n",
    "    return max2 \n",
    "print(findMaximum(2, 3))"
   ]
  },
  {
   "cell_type": "markdown",
   "id": "afa2ff7d",
   "metadata": {},
   "source": [
    "# Use the Modulus Operator(%)"
   ]
  },
  {
   "cell_type": "code",
   "execution_count": 14,
   "id": "3775a9a2",
   "metadata": {},
   "outputs": [
    {
     "name": "stdout",
     "output_type": "stream",
     "text": [
      "True\n",
      "False\n"
     ]
    }
   ],
   "source": [
    "def isDivisble(x,y):\n",
    "    if  x % y == 0:\n",
    "        return True\n",
    "    else :\n",
    "        return False\n",
    "    \n",
    "print(isDivisble(24, 4))\n",
    "print(isDivisble(24, 7))"
   ]
  },
  {
   "cell_type": "markdown",
   "id": "7819bda3",
   "metadata": {},
   "source": [
    "# Recursion"
   ]
  },
  {
   "cell_type": "code",
   "execution_count": 15,
   "id": "f37f5b12",
   "metadata": {},
   "outputs": [
    {
     "name": "stdout",
     "output_type": "stream",
     "text": [
      "Factorial:\n",
      "120\n"
     ]
    }
   ],
   "source": [
    "def factorial(n):\n",
    "    if(n <= 1):\n",
    "        return 1\n",
    "    else:\n",
    "        return(n * factorial(n-1))\n",
    "print(\"Factorial:\")\n",
    "print(factorial(5))"
   ]
  },
  {
   "cell_type": "markdown",
   "id": "58f1f086",
   "metadata": {},
   "source": [
    "# Use Recursion"
   ]
  },
  {
   "cell_type": "code",
   "execution_count": 16,
   "id": "f2d0841f",
   "metadata": {},
   "outputs": [
    {
     "name": "stdout",
     "output_type": "stream",
     "text": [
      "3\n"
     ]
    }
   ],
   "source": [
    "def fibonacci(n):\n",
    "    if n <= 1:\n",
    "        return n\n",
    "    else:\n",
    "        return(fibonacci(n-1) + fibonacci(n-2))\n",
    "print(fibonacci(4))    \n",
    "    "
   ]
  },
  {
   "cell_type": "code",
   "execution_count": 17,
   "id": "ff8b5a01",
   "metadata": {},
   "outputs": [
    {
     "name": "stdout",
     "output_type": "stream",
     "text": [
      "15\n"
     ]
    }
   ],
   "source": [
    "def sum_N_Numbers (n):\n",
    "    if n <= 1:\n",
    "        return n\n",
    "    else:\n",
    "        return n + sum_N_Numbers (n - 1)\n",
    "    \n",
    "print(sum_N_Numbers(5))"
   ]
  },
  {
   "cell_type": "code",
   "execution_count": 18,
   "id": "2c524547",
   "metadata": {},
   "outputs": [
    {
     "name": "stdout",
     "output_type": "stream",
     "text": [
      "I like Banana\n",
      "I like Peach\n",
      "I like Orange\n",
      "I like Mango\n"
     ]
    }
   ],
   "source": [
    "def function(fruit = \"Orange\"):\n",
    "    print(\"I like \" + fruit)\n",
    "\n",
    "function(\"Banana\")\n",
    "function(\"Peach\")\n",
    "function()\n",
    "function(\"Mango\") "
   ]
  },
  {
   "cell_type": "code",
   "execution_count": 19,
   "id": "c634b98f",
   "metadata": {},
   "outputs": [
    {
     "name": "stdout",
     "output_type": "stream",
     "text": [
      "7\n",
      "9\n",
      "11\n"
     ]
    }
   ],
   "source": [
    "def function(x):\n",
    "    return 5 +x\n",
    "\n",
    "print(function(2))\n",
    "print(function(4))\n",
    "print(function(6)) "
   ]
  },
  {
   "cell_type": "code",
   "execution_count": 20,
   "id": "6656cb3d",
   "metadata": {},
   "outputs": [
    {
     "name": "stdout",
     "output_type": "stream",
     "text": [
      "3\n"
     ]
    }
   ],
   "source": [
    "def recursion(k):\n",
    "    if(k>0):\n",
    "        result = k+recursion(k-1)\n",
    "    else:\n",
    "        result = 0\n",
    "    return result\n",
    "\n",
    "print(recursion(2))"
   ]
  },
  {
   "cell_type": "code",
   "execution_count": null,
   "id": "07624ce4",
   "metadata": {},
   "outputs": [],
   "source": []
  }
 ],
 "metadata": {
  "kernelspec": {
   "display_name": "Python 3 (ipykernel)",
   "language": "python",
   "name": "python3"
  },
  "language_info": {
   "codemirror_mode": {
    "name": "ipython",
    "version": 3
   },
   "file_extension": ".py",
   "mimetype": "text/x-python",
   "name": "python",
   "nbconvert_exporter": "python",
   "pygments_lexer": "ipython3",
   "version": "3.8.8"
  }
 },
 "nbformat": 4,
 "nbformat_minor": 5
}
