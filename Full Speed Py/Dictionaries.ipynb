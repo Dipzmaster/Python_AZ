{
 "cells": [
  {
   "cell_type": "code",
   "execution_count": 1,
   "id": "123b90e7",
   "metadata": {},
   "outputs": [
    {
     "name": "stdout",
     "output_type": "stream",
     "text": [
      "Get age of peter\n",
      "10\n",
      "Get age of all persons\n",
      "Peter 10\n",
      "Isabel 11\n",
      "Anna 9\n",
      "Thomas 10\n",
      "Bob 10\n",
      "Joseph 11\n",
      "Maria 12\n",
      "Gabriel 10\n"
     ]
    }
   ],
   "source": [
    "ages = {\n",
    "    \"Peter\": 10,\n",
    "    \"Isabel\": 11,\n",
    "    \"Anna\": 9,\n",
    "    \"Thomas\": 10,\n",
    "    \"Bob\": 10,\n",
    "    \"Joseph\": 11,\n",
    "    \"Maria\": 12,\n",
    "    \"Gabriel\": 10,\n",
    "}\n",
    "# print one item\n",
    "print(\"Get age of peter\")\n",
    "print(ages[\"Peter\"])\n",
    "\n",
    "## print the whole dictionary\n",
    "print(\"Get age of all persons\")\n",
    "for key, value in ages.items(): \n",
    "    print(key, value) "
   ]
  },
  {
   "cell_type": "code",
   "execution_count": 2,
   "id": "f8095075",
   "metadata": {},
   "outputs": [
    {
     "name": "stdout",
     "output_type": "stream",
     "text": [
      "Peter 12\n",
      "Susan 10\n",
      "Maria 5\n"
     ]
    }
   ],
   "source": [
    "from collections import OrderedDict \n",
    "\n",
    "ages = OrderedDict()\n",
    "\n",
    "ages['Peter'] = 12\n",
    "ages['Susan'] = 10\n",
    "ages['Maria'] = 5\n",
    "  \n",
    "for key, value in ages.items(): \n",
    "    print(key, value) "
   ]
  },
  {
   "cell_type": "code",
   "execution_count": 4,
   "id": "318ba648",
   "metadata": {},
   "outputs": [
    {
     "name": "stdout",
     "output_type": "stream",
     "text": [
      "[2, 2, 2]\n"
     ]
    }
   ],
   "source": [
    "d = {\n",
    "    0: [0, 0, 0],\n",
    "    1: [1, 1, 1],\n",
    "    2: [2, 2, 2],\n",
    "}\n",
    "\n",
    "print(d[2])"
   ]
  },
  {
   "cell_type": "code",
   "execution_count": 5,
   "id": "320d5a4b",
   "metadata": {},
   "outputs": [
    {
     "name": "stdout",
     "output_type": "stream",
     "text": [
      "Peter\n",
      "Isabel\n",
      "Anna\n",
      "Thomas\n",
      "Bob\n",
      "Joseph\n",
      "Maria\n",
      "Gabriel\n"
     ]
    }
   ],
   "source": [
    "ages = {\n",
    "    \"Peter\": 10,\n",
    "    \"Isabel\": 11,\n",
    "    \"Anna\": 9,\n",
    "    \"Thomas\": 10,\n",
    "    \"Bob\": 10,\n",
    "    \"Joseph\": 11,\n",
    "    \"Maria\": 12,\n",
    "    \"Gabriel\": 10,\n",
    "}\n",
    "\n",
    "for x in ages:\n",
    "    print(x)"
   ]
  },
  {
   "cell_type": "code",
   "execution_count": 6,
   "id": "72558b04",
   "metadata": {},
   "outputs": [
    {
     "name": "stdout",
     "output_type": "stream",
     "text": [
      "10\n",
      "11\n",
      "9\n",
      "10\n",
      "10\n",
      "11\n",
      "12\n",
      "10\n"
     ]
    }
   ],
   "source": [
    "ages = {\n",
    "    \"Peter\": 10,\n",
    "    \"Isabel\": 11,\n",
    "    \"Anna\": 9,\n",
    "    \"Thomas\": 10,\n",
    "    \"Bob\": 10,\n",
    "    \"Joseph\": 11,\n",
    "    \"Maria\": 12,\n",
    "    \"Gabriel\": 10,\n",
    "}\n",
    "\n",
    "for x in ages:\n",
    "    print(ages[x])"
   ]
  },
  {
   "cell_type": "code",
   "execution_count": 7,
   "id": "2eab5ee7",
   "metadata": {},
   "outputs": [
    {
     "name": "stdout",
     "output_type": "stream",
     "text": [
      "10\n",
      "11\n",
      "9\n",
      "10\n",
      "10\n",
      "11\n",
      "12\n",
      "10\n"
     ]
    }
   ],
   "source": [
    "ages = {\n",
    "    \"Peter\": 10,\n",
    "    \"Isabel\": 11,\n",
    "    \"Anna\": 9,\n",
    "    \"Thomas\": 10,\n",
    "    \"Bob\": 10,\n",
    "    \"Joseph\": 11,\n",
    "    \"Maria\": 12,\n",
    "    \"Gabriel\": 10,\n",
    "}\n",
    "\n",
    "for x in ages.values():\n",
    "    print(x)"
   ]
  },
  {
   "cell_type": "code",
   "execution_count": 9,
   "id": "7f9dcdca",
   "metadata": {},
   "outputs": [
    {
     "name": "stdout",
     "output_type": "stream",
     "text": [
      "Peter 10\n",
      "Isabel 11\n",
      "Anna 9\n",
      "Thomas 10\n",
      "Bob 10\n",
      "Joseph 11\n",
      "Maria 12\n",
      "Gabriel 10\n"
     ]
    }
   ],
   "source": [
    "ages = {\n",
    "    \"Peter\": 10,\n",
    "    \"Isabel\": 11,\n",
    "    \"Anna\": 9,\n",
    "    \"Thomas\": 10,\n",
    "    \"Bob\": 10,\n",
    "    \"Joseph\": 11,\n",
    "    \"Maria\": 12,\n",
    "    \"Gabriel\": 10,\n",
    "}\n",
    "\n",
    "for name, age in ages.items():\n",
    "    print(name, age)"
   ]
  },
  {
   "cell_type": "markdown",
   "id": "3eaabf10",
   "metadata": {},
   "source": [
    "# Nested Dictionary"
   ]
  },
  {
   "cell_type": "code",
   "execution_count": 10,
   "id": "12af4615",
   "metadata": {},
   "outputs": [
    {
     "name": "stdout",
     "output_type": "stream",
     "text": [
      "{'Peter': {'age': 10, 'address': 'Lisbon'}, 'Isabel': {'age': 11, 'address': 'Sesimbra'}, 'Anna': {'age': 9, 'address': 'Lisbon'}}\n",
      "{'age': 10, 'address': 'Lisbon'}\n",
      "Lisbon\n"
     ]
    }
   ],
   "source": [
    "students = {\n",
    "    \"Peter\": {\"age\": 10, \"address\": \"Lisbon\"},\n",
    "    \"Isabel\": {\"age\": 11, \"address\": \"Sesimbra\"},\n",
    "    \"Anna\": {\"age\": 9, \"address\": \"Lisbon\"},\n",
    "}\n",
    "print(students)\n",
    "print(students['Peter'])\n",
    "print(students['Peter']['address'])"
   ]
  },
  {
   "cell_type": "code",
   "execution_count": 11,
   "id": "d7343d9a",
   "metadata": {},
   "outputs": [
    {
     "name": "stdout",
     "output_type": "stream",
     "text": [
      "\n",
      "Person Name: Peter\n",
      "age: 10\n",
      "address: Lisbon\n",
      "\n",
      "Person Name: Isabel\n",
      "age: 11\n",
      "address: Sesimbra\n",
      "\n",
      "Person Name: Anna\n",
      "age: 9\n",
      "address: Lisbon\n"
     ]
    }
   ],
   "source": [
    "students = {\n",
    "    \"Peter\": {\"age\": 10, \"address\": \"Lisbon\"},\n",
    "    \"Isabel\": {\"age\": 11, \"address\": \"Sesimbra\"},\n",
    "    \"Anna\": {\"age\": 9, \"address\": \"Lisbon\"},\n",
    "}\n",
    "\n",
    "for p_id, p_info in students.items():\n",
    "    print(\"\\nPerson Name:\", p_id)\n",
    "    for key in p_info:\n",
    "        print(key + ':', p_info[key])"
   ]
  },
  {
   "cell_type": "markdown",
   "id": "ced6251d",
   "metadata": {},
   "source": [
    "# Use len() function"
   ]
  },
  {
   "cell_type": "code",
   "execution_count": 12,
   "id": "26cecaed",
   "metadata": {},
   "outputs": [
    {
     "name": "stdout",
     "output_type": "stream",
     "text": [
      "8\n"
     ]
    }
   ],
   "source": [
    "def lengthDictionary(Students):\n",
    "    return len(Students)\n",
    "Students = {\n",
    "     \"Peter\": 10,\n",
    "     \"Isabel\": 11,\n",
    "     \"Anna\": 9,\n",
    "     \"Thomas\": 10,\n",
    "     \"Bob\": 10,\n",
    "     \"Joseph\": 11,\n",
    "     \"Maria\": 12,\n",
    "     \"Gabriel\": 10,\n",
    "}\n",
    "print(lengthDictionary(Students))"
   ]
  },
  {
   "cell_type": "markdown",
   "id": "de858706",
   "metadata": {},
   "source": [
    "# Use the sum() and len() function"
   ]
  },
  {
   "cell_type": "code",
   "execution_count": 13,
   "id": "c6f43788",
   "metadata": {},
   "outputs": [
    {
     "name": "stdout",
     "output_type": "stream",
     "text": [
      "10.375\n"
     ]
    }
   ],
   "source": [
    "def calculateAvg(ages):\n",
    "    length=len(ages)\n",
    "    return(sum(ages.values())/length)\n",
    "ages = {\n",
    "     \"Peter\": 10,\n",
    "     \"Isabel\": 11,\n",
    "     \"Anna\": 9,\n",
    "     \"Thomas\": 10,\n",
    "     \"Bob\": 10,\n",
    "     \"Joseph\": 11,\n",
    "     \"Maria\": 12,\n",
    "     \"Gabriel\": 10,\n",
    " }\n",
    "print(calculateAvg(ages))"
   ]
  },
  {
   "cell_type": "markdown",
   "id": "ea773995",
   "metadata": {},
   "source": [
    "# Use max() Function"
   ]
  },
  {
   "cell_type": "code",
   "execution_count": 14,
   "id": "c3722e4e",
   "metadata": {},
   "outputs": [
    {
     "name": "stdout",
     "output_type": "stream",
     "text": [
      "Maria\n"
     ]
    }
   ],
   "source": [
    "def oldestStudent(ages):\n",
    "  \n",
    "    value = list(ages.values())\n",
    "    key = list(ages.keys())\n",
    "    return key[value.index(max(value))]\n",
    "\n",
    "ages = {\n",
    "     \"Peter\": 10,\n",
    "     \"Isabel\": 11,\n",
    "     \"Anna\": 9,\n",
    "     \"Thomas\": 10,\n",
    "     \"Bob\": 10,\n",
    "     \"Joseph\": 11,\n",
    "     \"Maria\": 12,\n",
    "     \"Gabriel\": 10,\n",
    "  }\n",
    "print(oldestStudent(ages))"
   ]
  },
  {
   "cell_type": "markdown",
   "id": "da1e4634",
   "metadata": {},
   "source": [
    "# Loop Over the Dictionary and Increment Value"
   ]
  },
  {
   "cell_type": "code",
   "execution_count": 15,
   "id": "29384344",
   "metadata": {},
   "outputs": [
    {
     "name": "stdout",
     "output_type": "stream",
     "text": [
      "{'Peter': 20, 'Isabel': 21, 'Anna': 19, 'Thomas': 20, 'Bob': 20, 'Joseph': 21, 'Maria': 22, 'Gabriel': 20}\n"
     ]
    }
   ],
   "source": [
    "def updateAges(ages, n):\n",
    "    new_ages = {}\n",
    "    for word in ages:\n",
    "        new_ages[word] = ages[word] + n\n",
    "    return new_ages\n",
    "ages = {\n",
    "      \"Peter\": 10,\n",
    "      \"Isabel\": 11,\n",
    "      \"Anna\": 9,\n",
    "      \"Thomas\": 10,\n",
    "      \"Bob\": 10,\n",
    "      \"Joseph\": 11,\n",
    "      \"Maria\": 12,\n",
    "      \"Gabriel\": 10,\n",
    "   }\n",
    "new_ages = updateAges(ages, 10)\n",
    "print(new_ages)"
   ]
  },
  {
   "cell_type": "code",
   "execution_count": 16,
   "id": "44043736",
   "metadata": {},
   "outputs": [
    {
     "name": "stdout",
     "output_type": "stream",
     "text": [
      "3\n"
     ]
    }
   ],
   "source": [
    "def totalStudents(students):\n",
    "    return(len(students.keys()))\n",
    "\n",
    "students = {\n",
    "      \"Peter\": {\"age\": 10, \"address\": \"Lisbon\"},\n",
    "      \"Isabel\": {\"age\": 11, \"address\": \"Sesimbra\"},\n",
    "      \"Anna\": {\"age\": 9, \"address\": \"Lisbon\"},\n",
    "}\n",
    "print(totalStudents(students))"
   ]
  },
  {
   "cell_type": "code",
   "execution_count": 17,
   "id": "2deb8712",
   "metadata": {},
   "outputs": [
    {
     "name": "stdout",
     "output_type": "stream",
     "text": [
      "3\n"
     ]
    }
   ],
   "source": [
    "def totalStudents(students):\n",
    "    return len(students)\n",
    "\n",
    "students = {\n",
    "      \"Peter\": {\"age\": 10, \"address\": \"Lisbon\"},\n",
    "      \"Isabel\": {\"age\": 11, \"address\": \"Sesimbra\"},\n",
    "      \"Anna\": {\"age\": 9, \"address\": \"Lisbon\"},\n",
    "}\n",
    "print(totalStudents(students))"
   ]
  },
  {
   "cell_type": "code",
   "execution_count": 18,
   "id": "2b146bf1",
   "metadata": {},
   "outputs": [
    {
     "name": "stdout",
     "output_type": "stream",
     "text": [
      "10.0\n"
     ]
    }
   ],
   "source": [
    "def calculateAverageAge(students):\n",
    "    add_age = 0\n",
    "    for thing in students.values():\n",
    "        age = thing['age']\n",
    "        add_age = add_age + age\n",
    "    \n",
    "    return(add_age / len(students.keys()))\n",
    "\n",
    "students = {\n",
    "      \"Peter\": {\"age\": 10, \"address\": \"Lisbon\"},\n",
    "      \"Isabel\": {\"age\": 11, \"address\": \"Sesimbra\"},\n",
    "      \"Anna\": {\"age\": 9, \"address\": \"Lisbon\"},\n",
    "      \"Gibrael\": {\"age\": 10, \"address\": \"Sesimbra\"},\n",
    "      \"Susan\": {\"age\": 11, \"address\": \"Lisbon\"},\n",
    "      \"Charles\": {\"age\": 9, \"address\": \"Sesimbra\"},\n",
    "  }\n",
    "print(calculateAverageAge(students))"
   ]
  },
  {
   "cell_type": "markdown",
   "id": "f3a3c70c",
   "metadata": {},
   "source": [
    "# Use a Nested for Loop"
   ]
  },
  {
   "cell_type": "code",
   "execution_count": 19,
   "id": "ac3e11a6",
   "metadata": {},
   "outputs": [
    {
     "name": "stdout",
     "output_type": "stream",
     "text": [
      "['Anna', 'Peter']\n"
     ]
    }
   ],
   "source": [
    "def find_students(address, students):\n",
    "    names = []\n",
    "    for key, subdict in students.items():\n",
    "        for sublist in subdict.values():\n",
    "            if (sublist == address):\n",
    "                names.append(key)\n",
    "    return sorted(names)\n",
    "\n",
    "students = {\n",
    "      \"Peter\": {\"age\": 10, \"address\": \"Lisbon\"},\n",
    "      \"Isabel\": {\"age\": 11, \"address\": \"Sesimbra\"},\n",
    "      \"Anna\": {\"age\": 9, \"address\": \"Lisbon\"},\n",
    "}\n",
    "print(find_students(\"Lisbon\", students))"
   ]
  },
  {
   "cell_type": "code",
   "execution_count": 20,
   "id": "090109ea",
   "metadata": {},
   "outputs": [
    {
     "name": "stdout",
     "output_type": "stream",
     "text": [
      "['Anna', 'Peter']\n"
     ]
    }
   ],
   "source": [
    "def find_students(address, students):\n",
    "    names = []\n",
    "    for key, value in students.items():\n",
    "        if value[\"address\"] == address:\n",
    "            names.append(key)\n",
    "    return sorted(names)\n",
    "\n",
    "students = {\n",
    "      \"Peter\": {\"age\": 10, \"address\": \"Lisbon\"},\n",
    "      \"Isabel\": {\"age\": 11, \"address\": \"Sesimbra\"},\n",
    "      \"Anna\": {\"age\": 9, \"address\": \"Lisbon\"},\n",
    "}\n",
    "print(find_students(\"Lisbon\", students))"
   ]
  },
  {
   "cell_type": "code",
   "execution_count": 21,
   "id": "dd5dc8e4",
   "metadata": {},
   "outputs": [
    {
     "name": "stdout",
     "output_type": "stream",
     "text": [
      "Mango\n",
      "Winter\n"
     ]
    }
   ],
   "source": [
    "Dict = { 'Dict1': {'Fruitname': 'Mango', 'season': 'Summer'}, \n",
    "         'Dict2': {'Fruitname': 'Orange', 'season': 'Winter'}}\n",
    "print(Dict['Dict1']['Fruitname'])\n",
    "print(Dict['Dict2']['season']) "
   ]
  },
  {
   "cell_type": "code",
   "execution_count": 22,
   "id": "5d9f5d37",
   "metadata": {},
   "outputs": [
    {
     "name": "stdout",
     "output_type": "stream",
     "text": [
      "['Mango', 'Summer']\n"
     ]
    }
   ],
   "source": [
    "Dict1 = {\n",
    "  \"FruitName\": \"Mango\",\n",
    "  \"season\": \"Spring\",\n",
    "}\n",
    "Dict1[\"season\"] = \"Summer\"\n",
    "print(sorted(Dict1.values()))"
   ]
  },
  {
   "cell_type": "code",
   "execution_count": 23,
   "id": "80144a4b",
   "metadata": {},
   "outputs": [
    {
     "name": "stdout",
     "output_type": "stream",
     "text": [
      "dict_values(['Mango'])\n"
     ]
    }
   ],
   "source": [
    "Dict1 = {\n",
    "  \"FruitName\": \"Mango\",\n",
    "  \"season\": \"Spring\",\n",
    "}\n",
    "Dict1.pop(\"season\")\n",
    "print(Dict1.values())"
   ]
  },
  {
   "cell_type": "code",
   "execution_count": 24,
   "id": "b91e725c",
   "metadata": {},
   "outputs": [
    {
     "name": "stdout",
     "output_type": "stream",
     "text": [
      "{}\n"
     ]
    }
   ],
   "source": [
    "Dict1 = {\n",
    "  \"FruitName\": \"Mango\",\n",
    "  \"season\": \"Spring\",\n",
    "}\n",
    "Dict1.clear()\n",
    "print(Dict1)"
   ]
  },
  {
   "cell_type": "code",
   "execution_count": null,
   "id": "50150bb5",
   "metadata": {},
   "outputs": [],
   "source": []
  }
 ],
 "metadata": {
  "kernelspec": {
   "display_name": "Python 3 (ipykernel)",
   "language": "python",
   "name": "python3"
  },
  "language_info": {
   "codemirror_mode": {
    "name": "ipython",
    "version": 3
   },
   "file_extension": ".py",
   "mimetype": "text/x-python",
   "name": "python",
   "nbconvert_exporter": "python",
   "pygments_lexer": "ipython3",
   "version": "3.8.8"
  }
 },
 "nbformat": 4,
 "nbformat_minor": 5
}
