{
 "cells": [
  {
   "cell_type": "code",
   "execution_count": 2,
   "id": "e572d205",
   "metadata": {},
   "outputs": [
    {
     "name": "stdout",
     "output_type": "stream",
     "text": [
      "Moha has 27 balloons\n"
     ]
    }
   ],
   "source": [
    "print(\"Moha has {} balloons\".format(27))"
   ]
  },
  {
   "cell_type": "code",
   "execution_count": 3,
   "id": "8fad8637",
   "metadata": {},
   "outputs": [
    {
     "name": "stdout",
     "output_type": "stream",
     "text": [
      "Does your dog bite?\n"
     ]
    }
   ],
   "source": [
    "animal = \"dog\"\n",
    "action = \"bite\"\n",
    "print(\"Does your {} {}?\".format(animal, action))"
   ]
  },
  {
   "cell_type": "code",
   "execution_count": 4,
   "id": "b2e5731f",
   "metadata": {},
   "outputs": [
    {
     "name": "stdout",
     "output_type": "stream",
     "text": [
      "Maria loves math and statistics\n"
     ]
    }
   ],
   "source": [
    "maria_string = \"Maria loves {} and {}\"\n",
    "print(maria_string.format(\"math\", \"statistics\"))"
   ]
  },
  {
   "cell_type": "code",
   "execution_count": 5,
   "id": "b6c2bfcd",
   "metadata": {},
   "outputs": [
    {
     "data": {
      "text/plain": [
       "['The', 'cow', 'jumped', 'over', 'the', 'moon.']"
      ]
     },
     "execution_count": 5,
     "metadata": {},
     "output_type": "execute_result"
    }
   ],
   "source": [
    "new_str = \"The cow jumped over the moon.\"\n",
    "new_str.split()"
   ]
  },
  {
   "cell_type": "code",
   "execution_count": 6,
   "id": "f255fb71",
   "metadata": {},
   "outputs": [
    {
     "data": {
      "text/plain": [
       "['The', 'cow', 'jumped', 'over the moon.']"
      ]
     },
     "execution_count": 6,
     "metadata": {},
     "output_type": "execute_result"
    }
   ],
   "source": [
    "new_str.split(' ', 3)"
   ]
  },
  {
   "cell_type": "code",
   "execution_count": 7,
   "id": "6bebe4c1",
   "metadata": {},
   "outputs": [
    {
     "data": {
      "text/plain": [
       "['The cow jumped over the moon', '']"
      ]
     },
     "execution_count": 7,
     "metadata": {},
     "output_type": "execute_result"
    }
   ],
   "source": [
    "new_str.split('.')"
   ]
  },
  {
   "cell_type": "code",
   "execution_count": 8,
   "id": "cf67a61e",
   "metadata": {},
   "outputs": [
    {
     "data": {
      "text/plain": [
       "['The', 'cow', 'jumped', 'over', 'the', 'moon.']"
      ]
     },
     "execution_count": 8,
     "metadata": {},
     "output_type": "execute_result"
    }
   ],
   "source": [
    "new_str.split(None)"
   ]
  },
  {
   "cell_type": "code",
   "execution_count": 9,
   "id": "96b77e17",
   "metadata": {},
   "outputs": [
    {
     "data": {
      "text/plain": [
       "['The', 'cow', 'jumped', 'over the moon.']"
      ]
     },
     "execution_count": 9,
     "metadata": {},
     "output_type": "execute_result"
    }
   ],
   "source": [
    "new_str.split(None, 3)"
   ]
  },
  {
   "cell_type": "code",
   "execution_count": 10,
   "id": "8537d6ff",
   "metadata": {},
   "outputs": [
    {
     "name": "stdout",
     "output_type": "stream",
     "text": [
      "If you can keep your head when all about you\n",
      "  Are losing theirs and blaming it on you,\n",
      "If you can trust yourself when all men doubt you,\n",
      "  But make allowance for their doubting too;\n",
      "If you can wait and not be tired by waiting,\n",
      "  Or being lied about, don’t deal in lies,\n",
      "Or being hated, don’t give way to hating,\n",
      "  And yet don’t look too good, nor talk too wise: \n",
      "\n"
     ]
    }
   ],
   "source": [
    "verse = \"If you can keep your head when all about you\\n  Are losing theirs and blaming it on you,\\nIf you can trust yourself when all men doubt you,\\n  But make allowance for their doubting too;\\nIf you can wait and not be tired by waiting,\\n  Or being lied about, don’t deal in lies,\\nOr being hated, don’t give way to hating,\\n  And yet don’t look too good, nor talk too wise:\"\n",
    "print(verse, \"\\n\")"
   ]
  },
  {
   "cell_type": "code",
   "execution_count": 11,
   "id": "495d085d",
   "metadata": {},
   "outputs": [
    {
     "name": "stdout",
     "output_type": "stream",
     "text": [
      "Verse has a length of 362 characters.\n"
     ]
    }
   ],
   "source": [
    "print(\"Verse has a length of {} characters.\".format(len(verse)))"
   ]
  },
  {
   "cell_type": "code",
   "execution_count": 12,
   "id": "4047dd4b",
   "metadata": {},
   "outputs": [
    {
     "name": "stdout",
     "output_type": "stream",
     "text": [
      "The first occurence of the word 'and' occurs at the 65th index.\n"
     ]
    }
   ],
   "source": [
    "print(\"The first occurence of the word 'and' occurs at the {}th index.\".format(verse.find('and')))"
   ]
  },
  {
   "cell_type": "code",
   "execution_count": 13,
   "id": "fce16c0c",
   "metadata": {},
   "outputs": [
    {
     "name": "stdout",
     "output_type": "stream",
     "text": [
      "The last occurence of the word 'you' occurs at the 186th index.\n"
     ]
    }
   ],
   "source": [
    "print(\"The last occurence of the word 'you' occurs at the {}th index.\".format(verse.rfind('you')))"
   ]
  },
  {
   "cell_type": "code",
   "execution_count": 14,
   "id": "783144e7",
   "metadata": {},
   "outputs": [
    {
     "name": "stdout",
     "output_type": "stream",
     "text": [
      "The word 'you' occurs 8 times in the verse.\n"
     ]
    }
   ],
   "source": [
    "print(\"The word 'you' occurs {} times in the verse.\".format(verse.count('you')))"
   ]
  },
  {
   "cell_type": "code",
   "execution_count": 15,
   "id": "f8f0254b",
   "metadata": {},
   "outputs": [
    {
     "name": "stdout",
     "output_type": "stream",
     "text": [
      "If you can keep your head when all about you\n",
      "  Are losing theirs and blaming it on you,\n",
      "If you can trust yourself when all men doubt you,\n",
      "  But make allowance for their doubting too;\n",
      "If you can wait and not be tired by waiting,\n",
      "  Or being lied about, don’t deal in lies,\n",
      "Or being hated, don’t give way to hating,\n",
      "  And yet don’t look too good, nor talk too wise: \n",
      "\n",
      "Verse has a length of 362 characters.\n",
      "The first occurence of the word 'and' occurs at the 65th index.\n",
      "The last occurence of the word 'you' occurs at the 186th index.\n",
      "The word 'you' occurs 8 times in the verse.\n"
     ]
    }
   ],
   "source": [
    "verse = \"If you can keep your head when all about you\\n  Are losing theirs and blaming it on you,\\nIf you can trust yourself when all men doubt you,\\n  But make allowance for their doubting too;\\nIf you can wait and not be tired by waiting,\\n  Or being lied about, don’t deal in lies,\\nOr being hated, don’t give way to hating,\\n  And yet don’t look too good, nor talk too wise:\"\n",
    "print(verse, \"\\n\")\n",
    "\n",
    "message = \"Verse has a length of {} characters.\\nThe first occurence of the \\\n",
    "word 'and' occurs at the {}th index.\\nThe last occurence of the word 'you' \\\n",
    "occurs at the {}th index.\\nThe word 'you' occurs {} times in the verse.\"\n",
    "\n",
    "length = len(verse)\n",
    "first_idx = verse.find('and')\n",
    "last_idx = verse.rfind('you')\n",
    "count = verse.count('you')\n",
    "\n",
    "print(message.format(length, first_idx, last_idx, count))"
   ]
  },
  {
   "cell_type": "code",
   "execution_count": null,
   "id": "e48c280a",
   "metadata": {},
   "outputs": [],
   "source": []
  }
 ],
 "metadata": {
  "kernelspec": {
   "display_name": "Python 3 (ipykernel)",
   "language": "python",
   "name": "python3"
  },
  "language_info": {
   "codemirror_mode": {
    "name": "ipython",
    "version": 3
   },
   "file_extension": ".py",
   "mimetype": "text/x-python",
   "name": "python",
   "nbconvert_exporter": "python",
   "pygments_lexer": "ipython3",
   "version": "3.8.8"
  }
 },
 "nbformat": 4,
 "nbformat_minor": 5
}
