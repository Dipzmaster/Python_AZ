{
 "cells": [
  {
   "cell_type": "code",
   "execution_count": null,
   "id": "05cc6c45",
   "metadata": {},
   "outputs": [],
   "source": [
    "#Quiz: Average Electricity Bill\n",
    "#It's time to try a calculation in Python!\n",
    "\n",
    "#My electricity bills for the last three months have been $23, $32 and $64. What is the average monthly electricity bill over the three month period? Write an expression to calculate the mean, and use print() to view the result.\n",
    "\n",
    "# Write an expression that calculates the average of 23, 32 and 64\n",
    "# Place the expression in this print statement"
   ]
  },
  {
   "cell_type": "code",
   "execution_count": 1,
   "id": "73e9f8b1",
   "metadata": {},
   "outputs": [
    {
     "name": "stdout",
     "output_type": "stream",
     "text": [
      "39.666666666666664\n"
     ]
    }
   ],
   "source": [
    "print((23+32+64)/3)"
   ]
  },
  {
   "cell_type": "code",
   "execution_count": null,
   "id": "fbfe4192",
   "metadata": {},
   "outputs": [],
   "source": []
  }
 ],
 "metadata": {
  "kernelspec": {
   "display_name": "Python 3 (ipykernel)",
   "language": "python",
   "name": "python3"
  },
  "language_info": {
   "codemirror_mode": {
    "name": "ipython",
    "version": 3
   },
   "file_extension": ".py",
   "mimetype": "text/x-python",
   "name": "python",
   "nbconvert_exporter": "python",
   "pygments_lexer": "ipython3",
   "version": "3.8.8"
  }
 },
 "nbformat": 4,
 "nbformat_minor": 5
}
