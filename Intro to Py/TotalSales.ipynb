{
 "cells": [
  {
   "cell_type": "code",
   "execution_count": null,
   "id": "cc10fb00",
   "metadata": {},
   "outputs": [],
   "source": [
    "#Quiz: Total Sales\n",
    "#In this quiz, you’ll need to change the types of the input and output data in order to get the result you want.\n",
    "\n",
    "#Calculate and print the total sales for the week from the data provided. Print out a string of the form \"This week's total sales: xxx\", where xxx will be the actual total of all the numbers. You’ll need to change the type of the input data in order to calculate that total."
   ]
  },
  {
   "cell_type": "code",
   "execution_count": 1,
   "id": "2452c598",
   "metadata": {},
   "outputs": [],
   "source": [
    "mon_sales = \"121\"\n",
    "tues_sales = \"105\"\n",
    "wed_sales = \"110\"\n",
    "thurs_sales = \"98\"\n",
    "fri_sales = \"95\"\n",
    "\n",
    "#TODO: Print a string with this format: This week's total sales: xxx\n",
    "# You will probably need to write some lines of code before the print statement."
   ]
  },
  {
   "cell_type": "code",
   "execution_count": 3,
   "id": "ff1114f2",
   "metadata": {},
   "outputs": [
    {
     "name": "stdout",
     "output_type": "stream",
     "text": [
      "This week's total sales: 529\n"
     ]
    }
   ],
   "source": [
    "weekly_sales = int(mon_sales) + int(tues_sales) + int(wed_sales) + int(thurs_sales) + int(fri_sales)\n",
    "weekly_sales = str(weekly_sales)  #convert the type back!!\n",
    "print(\"This week's total sales: \" + weekly_sales)"
   ]
  },
  {
   "cell_type": "code",
   "execution_count": null,
   "id": "b6fa6c3f",
   "metadata": {},
   "outputs": [],
   "source": []
  },
  {
   "cell_type": "code",
   "execution_count": null,
   "id": "140b69e9",
   "metadata": {},
   "outputs": [],
   "source": []
  }
 ],
 "metadata": {
  "kernelspec": {
   "display_name": "Python 3 (ipykernel)",
   "language": "python",
   "name": "python3"
  },
  "language_info": {
   "codemirror_mode": {
    "name": "ipython",
    "version": 3
   },
   "file_extension": ".py",
   "mimetype": "text/x-python",
   "name": "python",
   "nbconvert_exporter": "python",
   "pygments_lexer": "ipython3",
   "version": "3.8.8"
  }
 },
 "nbformat": 4,
 "nbformat_minor": 5
}
