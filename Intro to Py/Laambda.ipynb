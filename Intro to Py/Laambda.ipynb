{
 "cells": [
  {
   "cell_type": "code",
   "execution_count": 1,
   "id": "96206a7e",
   "metadata": {},
   "outputs": [
    {
     "name": "stdout",
     "output_type": "stream",
     "text": [
      "[57.0, 58.2, 50.6, 27.2]\n"
     ]
    }
   ],
   "source": [
    "#Lambda with Map\n",
    "numbers = [\n",
    "              [34, 63, 88, 71, 29],\n",
    "              [90, 78, 51, 27, 45],\n",
    "              [63, 37, 85, 46, 22],\n",
    "              [51, 22, 34, 11, 18]\n",
    "           ]\n",
    "\n",
    "averages = list(map(lambda x: sum(x) / len(x), numbers))\n",
    "print(averages)"
   ]
  },
  {
   "cell_type": "code",
   "execution_count": 2,
   "id": "595d46dc",
   "metadata": {},
   "outputs": [
    {
     "name": "stdout",
     "output_type": "stream",
     "text": [
      "['Chicago', 'Denver', 'Boston']\n"
     ]
    }
   ],
   "source": [
    "#Lambda with Filter\n",
    "cities = [\"New York City\", \"Los Angeles\", \"Chicago\", \"Mountain View\", \"Denver\", \"Boston\"]\n",
    "\n",
    "short_cities = list(filter(lambda x: len(x) < 10, cities))\n",
    "print(short_cities)"
   ]
  },
  {
   "cell_type": "code",
   "execution_count": null,
   "id": "ed21b8be",
   "metadata": {},
   "outputs": [],
   "source": []
  }
 ],
 "metadata": {
  "kernelspec": {
   "display_name": "Python 3 (ipykernel)",
   "language": "python",
   "name": "python3"
  },
  "language_info": {
   "codemirror_mode": {
    "name": "ipython",
    "version": 3
   },
   "file_extension": ".py",
   "mimetype": "text/x-python",
   "name": "python",
   "nbconvert_exporter": "python",
   "pygments_lexer": "ipython3",
   "version": "3.8.8"
  }
 },
 "nbformat": 4,
 "nbformat_minor": 5
}
