{
 "cells": [
  {
   "cell_type": "code",
   "execution_count": null,
   "id": "7f2fb5ab",
   "metadata": {},
   "outputs": [],
   "source": [
    "#Quiz: Write a Server Log Message\n",
    "#In this programming quiz, you’re going to use what you’ve learned about strings to write a logging message for a server.\n",
    "\n",
    "#You’ll be provided with example data for a user, the time of their visit and the site they accessed. You should use the variables provided and the techniques you’ve learned to print a log message like this one (with the username, url, and timestamp replaced with values from the appropriate variables):\n",
    "\n",
    "#Yogesh accessed the site http://petshop.com/pets/reptiles/pythons at 16:20.\n",
    "\n",
    "#Use the Test Run button to see your results as you work on coding this piece by piece."
   ]
  },
  {
   "cell_type": "code",
   "execution_count": 1,
   "id": "8d314694",
   "metadata": {},
   "outputs": [],
   "source": [
    "username = \"Kinari\"\n",
    "timestamp = \"04:50\"\n",
    "url = \"http://petshop.com/pets/mammals/cats\"\n",
    "\n",
    "# TODO: print a log message using the variables above.\n",
    "# The message should have the same format as this one:\n",
    "# \"Yogesh accessed the site http://petshop.com/pets/reptiles/pythons at 16:20.\""
   ]
  },
  {
   "cell_type": "code",
   "execution_count": 2,
   "id": "498b3354",
   "metadata": {},
   "outputs": [
    {
     "name": "stdout",
     "output_type": "stream",
     "text": [
      "Kinari accessed the site http://petshop.com/pets/mammals/cats at 04:50.\n"
     ]
    }
   ],
   "source": [
    "print (username + \" accessed the site \" + url + \" at \" + timestamp + \".\")"
   ]
  },
  {
   "cell_type": "code",
   "execution_count": 3,
   "id": "2636c700",
   "metadata": {},
   "outputs": [],
   "source": [
    "##Also as"
   ]
  },
  {
   "cell_type": "code",
   "execution_count": 4,
   "id": "961f826e",
   "metadata": {},
   "outputs": [
    {
     "name": "stdout",
     "output_type": "stream",
     "text": [
      "Kinari accessed the site http://petshop.com/pets/mammals/cats at 04:50.\n"
     ]
    }
   ],
   "source": [
    "message = username + \" accessed the site \" + url + \" at \" + timestamp + \".\"\n",
    "print(message)"
   ]
  },
  {
   "cell_type": "code",
   "execution_count": null,
   "id": "7dc5a1e6",
   "metadata": {},
   "outputs": [],
   "source": []
  }
 ],
 "metadata": {
  "kernelspec": {
   "display_name": "Python 3 (ipykernel)",
   "language": "python",
   "name": "python3"
  },
  "language_info": {
   "codemirror_mode": {
    "name": "ipython",
    "version": 3
   },
   "file_extension": ".py",
   "mimetype": "text/x-python",
   "name": "python",
   "nbconvert_exporter": "python",
   "pygments_lexer": "ipython3",
   "version": "3.8.8"
  }
 },
 "nbformat": 4,
 "nbformat_minor": 5
}
