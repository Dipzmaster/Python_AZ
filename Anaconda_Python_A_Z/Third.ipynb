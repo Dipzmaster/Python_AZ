{
 "cells": [
  {
   "cell_type": "markdown",
   "id": "ba407d4f",
   "metadata": {},
   "source": [
    "# Constant"
   ]
  },
  {
   "cell_type": "code",
   "execution_count": 2,
   "id": "9504609e",
   "metadata": {},
   "outputs": [],
   "source": [
    "PI = 3.14"
   ]
  },
  {
   "cell_type": "code",
   "execution_count": 3,
   "id": "11916310",
   "metadata": {},
   "outputs": [
    {
     "name": "stdout",
     "output_type": "stream",
     "text": [
      "3.14\n"
     ]
    }
   ],
   "source": [
    "print(PI)"
   ]
  },
  {
   "cell_type": "markdown",
   "id": "f8fab891",
   "metadata": {},
   "source": [
    "# Numeric Literals"
   ]
  },
  {
   "cell_type": "code",
   "execution_count": 4,
   "id": "0764af1c",
   "metadata": {},
   "outputs": [],
   "source": [
    "n = 0b1010  #Binary"
   ]
  },
  {
   "cell_type": "code",
   "execution_count": 5,
   "id": "4a2c2f4f",
   "metadata": {},
   "outputs": [],
   "source": [
    "n1 = 50 #Decimal"
   ]
  },
  {
   "cell_type": "code",
   "execution_count": 6,
   "id": "28f62028",
   "metadata": {},
   "outputs": [],
   "source": [
    "n2 = 0o310 #Octal"
   ]
  },
  {
   "cell_type": "code",
   "execution_count": 7,
   "id": "9255f825",
   "metadata": {},
   "outputs": [],
   "source": [
    "n3 = 0x12c #Hexa"
   ]
  },
  {
   "cell_type": "code",
   "execution_count": 8,
   "id": "19b8b729",
   "metadata": {},
   "outputs": [],
   "source": [
    "n4 = 11.7 #float iteral"
   ]
  },
  {
   "cell_type": "code",
   "execution_count": 9,
   "id": "0ec02e55",
   "metadata": {},
   "outputs": [],
   "source": [
    "n5 = 1.5e2"
   ]
  },
  {
   "cell_type": "code",
   "execution_count": 10,
   "id": "63ce1c12",
   "metadata": {},
   "outputs": [],
   "source": [
    "n6 = 3.2j #Complex"
   ]
  },
  {
   "cell_type": "code",
   "execution_count": 11,
   "id": "ca772f61",
   "metadata": {},
   "outputs": [
    {
     "name": "stdout",
     "output_type": "stream",
     "text": [
      "10 50 200 300 11.7\n"
     ]
    }
   ],
   "source": [
    "print(n, n1, n2, n3, n4)"
   ]
  },
  {
   "cell_type": "code",
   "execution_count": 12,
   "id": "6c0235d5",
   "metadata": {},
   "outputs": [
    {
     "name": "stdout",
     "output_type": "stream",
     "text": [
      "150.0 3.2j\n"
     ]
    }
   ],
   "source": [
    "print(n5, n6)"
   ]
  },
  {
   "cell_type": "code",
   "execution_count": 13,
   "id": "5086e7b1",
   "metadata": {},
   "outputs": [
    {
     "name": "stdout",
     "output_type": "stream",
     "text": [
      "3.2j 3.2 0.0\n"
     ]
    }
   ],
   "source": [
    "print(n6, n6.imag, n6.real)"
   ]
  },
  {
   "cell_type": "markdown",
   "id": "2e74ee0c",
   "metadata": {},
   "source": [
    "# String Literals "
   ]
  },
  {
   "cell_type": "code",
   "execution_count": 14,
   "id": "c82ba35f",
   "metadata": {},
   "outputs": [
    {
     "name": "stdout",
     "output_type": "stream",
     "text": [
      "Hi World\n",
      "I\n",
      "This is\n",
      "multiple line\n",
      "öde\n",
      "raw \\n string!\n"
     ]
    }
   ],
   "source": [
    "msg = \"Hi World\"\n",
    "char = \"I\"\n",
    "multi_line = \"\"\"This is\n",
    "multiple line\"\"\"\n",
    "unicode = u\"\\u00f6de\"\n",
    "raw_string = r\"raw \\n string!\"\n",
    "\n",
    "print(msg)\n",
    "print(char)\n",
    "print(multi_line)\n",
    "print(unicode)\n",
    "print(raw_string)"
   ]
  },
  {
   "cell_type": "markdown",
   "id": "db1b07e9",
   "metadata": {},
   "source": [
    "# Boolean Literals\n"
   ]
  },
  {
   "cell_type": "code",
   "execution_count": 15,
   "id": "f3d4ccc6",
   "metadata": {},
   "outputs": [],
   "source": [
    "a = (1 == True)\n",
    "b = (1 == False)\n",
    "c = True + 4\n",
    "d = False + 6"
   ]
  },
  {
   "cell_type": "code",
   "execution_count": 16,
   "id": "250e473b",
   "metadata": {},
   "outputs": [
    {
     "data": {
      "text/plain": [
       "True"
      ]
     },
     "execution_count": 16,
     "metadata": {},
     "output_type": "execute_result"
    }
   ],
   "source": [
    "a"
   ]
  },
  {
   "cell_type": "code",
   "execution_count": 17,
   "id": "3863943e",
   "metadata": {},
   "outputs": [
    {
     "data": {
      "text/plain": [
       "False"
      ]
     },
     "execution_count": 17,
     "metadata": {},
     "output_type": "execute_result"
    }
   ],
   "source": [
    "b"
   ]
  },
  {
   "cell_type": "code",
   "execution_count": 18,
   "id": "d9cc1eb1",
   "metadata": {},
   "outputs": [
    {
     "data": {
      "text/plain": [
       "5"
      ]
     },
     "execution_count": 18,
     "metadata": {},
     "output_type": "execute_result"
    }
   ],
   "source": [
    "c"
   ]
  },
  {
   "cell_type": "code",
   "execution_count": 19,
   "id": "dfffc057",
   "metadata": {},
   "outputs": [
    {
     "data": {
      "text/plain": [
       "6"
      ]
     },
     "execution_count": 19,
     "metadata": {},
     "output_type": "execute_result"
    }
   ],
   "source": [
    "d"
   ]
  },
  {
   "cell_type": "code",
   "execution_count": null,
   "id": "45f60932",
   "metadata": {},
   "outputs": [],
   "source": []
  }
 ],
 "metadata": {
  "kernelspec": {
   "display_name": "Python 3",
   "language": "python",
   "name": "python3"
  },
  "language_info": {
   "codemirror_mode": {
    "name": "ipython",
    "version": 3
   },
   "file_extension": ".py",
   "mimetype": "text/x-python",
   "name": "python",
   "nbconvert_exporter": "python",
   "pygments_lexer": "ipython3",
   "version": "3.8.8"
  }
 },
 "nbformat": 4,
 "nbformat_minor": 5
}
