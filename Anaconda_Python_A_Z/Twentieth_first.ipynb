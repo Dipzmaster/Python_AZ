{
 "cells": [
  {
   "cell_type": "code",
   "execution_count": 1,
   "id": "054930c8",
   "metadata": {},
   "outputs": [
    {
     "name": "stdout",
     "output_type": "stream",
     "text": [
      "<class '__main__.n'>\n"
     ]
    }
   ],
   "source": [
    "class n:\n",
    "    m = 10\n",
    "print(n)"
   ]
  },
  {
   "cell_type": "code",
   "execution_count": 3,
   "id": "51a7b096",
   "metadata": {},
   "outputs": [
    {
     "name": "stdout",
     "output_type": "stream",
     "text": [
      "10\n"
     ]
    }
   ],
   "source": [
    "class n:\n",
    "    m = 10\n",
    "p1 = n()\n",
    "print(p1.m)"
   ]
  },
  {
   "cell_type": "code",
   "execution_count": 5,
   "id": "d0a06e03",
   "metadata": {},
   "outputs": [
    {
     "name": "stdout",
     "output_type": "stream",
     "text": [
      "DONY\n",
      "40\n"
     ]
    }
   ],
   "source": [
    "class p:\n",
    "    def __init__(self, name, age):\n",
    "        self.name = name\n",
    "        self.age = age\n",
    "\n",
    "ob = p(\"DONY\", 40)\n",
    "print(ob.name)\n",
    "print(ob.age)"
   ]
  },
  {
   "cell_type": "code",
   "execution_count": 7,
   "id": "69b13a1f",
   "metadata": {},
   "outputs": [
    {
     "name": "stdout",
     "output_type": "stream",
     "text": [
      "DONY\n",
      "40\n",
      "Hii DONY\n"
     ]
    }
   ],
   "source": [
    "class p:\n",
    "    def __init__(self, name, age):\n",
    "        self.name = name\n",
    "        self.age = age\n",
    "    def ji(self):\n",
    "        print(\"Hii \" + self.name)\n",
    "\n",
    "ob = p(\"DONY\", 40)\n",
    "print(ob.name)\n",
    "print(ob.age)\n",
    "ob.ji()"
   ]
  },
  {
   "cell_type": "code",
   "execution_count": 8,
   "id": "41faa368",
   "metadata": {},
   "outputs": [
    {
     "name": "stdout",
     "output_type": "stream",
     "text": [
      "50\n"
     ]
    }
   ],
   "source": [
    "class p:\n",
    "    def __init__(self, name, age):\n",
    "        self.name = name\n",
    "        self.age = age\n",
    "    def ji(self):\n",
    "        print(\"Hii \" + self.name)\n",
    "\n",
    "ob = p(\"DONY\", 40)\n",
    "ob.age = 50\n",
    "print(ob.age)"
   ]
  },
  {
   "cell_type": "code",
   "execution_count": null,
   "id": "e350ff5b",
   "metadata": {},
   "outputs": [],
   "source": []
  }
 ],
 "metadata": {
  "kernelspec": {
   "display_name": "Python 3",
   "language": "python",
   "name": "python3"
  },
  "language_info": {
   "codemirror_mode": {
    "name": "ipython",
    "version": 3
   },
   "file_extension": ".py",
   "mimetype": "text/x-python",
   "name": "python",
   "nbconvert_exporter": "python",
   "pygments_lexer": "ipython3",
   "version": "3.8.8"
  }
 },
 "nbformat": 4,
 "nbformat_minor": 5
}
