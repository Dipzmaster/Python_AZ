{
 "cells": [
  {
   "cell_type": "markdown",
   "id": "dde153c0",
   "metadata": {},
   "source": [
    "# Functions"
   ]
  },
  {
   "cell_type": "code",
   "execution_count": 1,
   "id": "66a4a906",
   "metadata": {},
   "outputs": [
    {
     "name": "stdout",
     "output_type": "stream",
     "text": [
      "Hi\n"
     ]
    }
   ],
   "source": [
    "def nf():\n",
    "    print(\"Hi\")\n",
    "\n",
    "#call function\n",
    "nf()"
   ]
  },
  {
   "cell_type": "code",
   "execution_count": 2,
   "id": "87a1c20f",
   "metadata": {},
   "outputs": [
    {
     "name": "stdout",
     "output_type": "stream",
     "text": [
      "Hi\n"
     ]
    }
   ],
   "source": [
    "nf()"
   ]
  },
  {
   "cell_type": "markdown",
   "id": "b00db2a4",
   "metadata": {},
   "source": [
    "# Arguments"
   ]
  },
  {
   "cell_type": "code",
   "execution_count": 4,
   "id": "eb3866fd",
   "metadata": {},
   "outputs": [
    {
     "name": "stdout",
     "output_type": "stream",
     "text": [
      "hey fred\n",
      "hey Dipz\n"
     ]
    }
   ],
   "source": [
    "def hi(name):\n",
    "    print(\"hey \" + name)\n",
    "    \n",
    "#call function\n",
    "hi(\"fred\")\n",
    "hi(\"Dipz\")"
   ]
  },
  {
   "cell_type": "code",
   "execution_count": 5,
   "id": "a59f5f89",
   "metadata": {},
   "outputs": [
    {
     "name": "stdout",
     "output_type": "stream",
     "text": [
      "Hi marcel\n"
     ]
    }
   ],
   "source": [
    "def hi(name = \"marcel\"):\n",
    "    print(\"Hi \" + name)\n",
    "hi()"
   ]
  },
  {
   "cell_type": "markdown",
   "id": "818eeb9f",
   "metadata": {},
   "source": [
    "# Insert a list as an argument"
   ]
  },
  {
   "cell_type": "code",
   "execution_count": 6,
   "id": "4db7dcd1",
   "metadata": {},
   "outputs": [
    {
     "name": "stdout",
     "output_type": "stream",
     "text": [
      "Apple\n",
      "Banana\n",
      "Cherry\n"
     ]
    }
   ],
   "source": [
    "def f(name):\n",
    "    for i in name:\n",
    "        print(i)\n",
    "\n",
    "fn = [\"Apple\", \"Banana\", \"Cherry\"]\n",
    "f(fn)"
   ]
  },
  {
   "cell_type": "markdown",
   "id": "f4918f76",
   "metadata": {},
   "source": [
    "# Return statement"
   ]
  },
  {
   "cell_type": "code",
   "execution_count": 9,
   "id": "42cad407",
   "metadata": {},
   "outputs": [
    {
     "name": "stdout",
     "output_type": "stream",
     "text": [
      "75\n"
     ]
    }
   ],
   "source": [
    "def d(x):\n",
    "    return 15 * x\n",
    "\n",
    "print(d(5))"
   ]
  },
  {
   "cell_type": "markdown",
   "id": "d5c85249",
   "metadata": {},
   "source": [
    "# Multiple Args"
   ]
  },
  {
   "cell_type": "code",
   "execution_count": 10,
   "id": "c20229e1",
   "metadata": {},
   "outputs": [
    {
     "name": "stdout",
     "output_type": "stream",
     "text": [
      "The first name is Joseph\n",
      "The second name is John\n"
     ]
    }
   ],
   "source": [
    "def n(name1, name2):\n",
    "    print(\"The first name is \" + name1)\n",
    "    print(\"The second name is \" + name2)\n",
    "n(name1 = \"Joseph\", name2 = \"John\")"
   ]
  },
  {
   "cell_type": "markdown",
   "id": "e45d7488",
   "metadata": {},
   "source": [
    "# Arbitrary Args"
   ]
  },
  {
   "cell_type": "code",
   "execution_count": 14,
   "id": "cefa4154",
   "metadata": {},
   "outputs": [
    {
     "name": "stdout",
     "output_type": "stream",
     "text": [
      "The fruit is Apple\n"
     ]
    }
   ],
   "source": [
    "def f(*name):\n",
    "    print(\"The fruit is \" + name[0])\n",
    "\n",
    "f(\"Apple\")"
   ]
  },
  {
   "cell_type": "markdown",
   "id": "757151d0",
   "metadata": {},
   "source": [
    "# Recursion"
   ]
  },
  {
   "cell_type": "code",
   "execution_count": 15,
   "id": "9f87cd35",
   "metadata": {},
   "outputs": [
    {
     "name": "stdout",
     "output_type": "stream",
     "text": [
      "\n",
      " \n",
      " Recursion results\n",
      "1\n",
      "3\n",
      "6\n",
      "10\n",
      "15\n"
     ]
    },
    {
     "data": {
      "text/plain": [
       "15"
      ]
     },
     "execution_count": 15,
     "metadata": {},
     "output_type": "execute_result"
    }
   ],
   "source": [
    "def n(w):\n",
    "    if (w>0):\n",
    "        result = w + n(w-1)\n",
    "        print(result)\n",
    "    else:\n",
    "        result = 0\n",
    "    return result\n",
    "print(\"\\n \\n Recursion results\")\n",
    "n(5)"
   ]
  },
  {
   "cell_type": "code",
   "execution_count": null,
   "id": "565b0cd7",
   "metadata": {},
   "outputs": [],
   "source": []
  }
 ],
 "metadata": {
  "kernelspec": {
   "display_name": "Python 3",
   "language": "python",
   "name": "python3"
  },
  "language_info": {
   "codemirror_mode": {
    "name": "ipython",
    "version": 3
   },
   "file_extension": ".py",
   "mimetype": "text/x-python",
   "name": "python",
   "nbconvert_exporter": "python",
   "pygments_lexer": "ipython3",
   "version": "3.8.8"
  }
 },
 "nbformat": 4,
 "nbformat_minor": 5
}
