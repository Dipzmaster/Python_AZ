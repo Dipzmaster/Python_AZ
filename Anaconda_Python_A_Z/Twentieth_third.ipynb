{
 "cells": [
  {
   "cell_type": "markdown",
   "id": "41fbb3c9",
   "metadata": {},
   "source": [
    "# Module"
   ]
  },
  {
   "cell_type": "code",
   "execution_count": null,
   "id": "9ccdd31e",
   "metadata": {},
   "outputs": [],
   "source": [
    "def gr(name):\n",
    "    print(\"Hi \" + name)"
   ]
  }
 ],
 "metadata": {
  "kernelspec": {
   "display_name": "Python 3",
   "language": "python",
   "name": "python3"
  },
  "language_info": {
   "codemirror_mode": {
    "name": "ipython",
    "version": 3
   },
   "file_extension": ".py",
   "mimetype": "text/x-python",
   "name": "python",
   "nbconvert_exporter": "python",
   "pygments_lexer": "ipython3",
   "version": "3.8.8"
  }
 },
 "nbformat": 4,
 "nbformat_minor": 5
}
