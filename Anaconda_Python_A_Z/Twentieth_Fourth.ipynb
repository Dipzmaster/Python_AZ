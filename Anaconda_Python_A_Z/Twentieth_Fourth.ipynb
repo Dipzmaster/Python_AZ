{
 "cells": [
  {
   "cell_type": "markdown",
   "id": "89798dc5",
   "metadata": {},
   "source": [
    "# Numpy"
   ]
  },
  {
   "cell_type": "code",
   "execution_count": 3,
   "id": "6d542f55",
   "metadata": {},
   "outputs": [
    {
     "name": "stdout",
     "output_type": "stream",
     "text": [
      "[1 2 3 4 5]\n"
     ]
    }
   ],
   "source": [
    "import numpy\n",
    "\n",
    "a_arr = numpy.array([1, 2, 3, 4, 5])\n",
    "print(a_arr)"
   ]
  },
  {
   "cell_type": "code",
   "execution_count": 4,
   "id": "f2f893cf",
   "metadata": {},
   "outputs": [
    {
     "name": "stdout",
     "output_type": "stream",
     "text": [
      "[1 2 3 4 5]\n"
     ]
    }
   ],
   "source": [
    "import numpy as np\n",
    "\n",
    "a_arr = np.array([1, 2, 3, 4, 5])\n",
    "print(a_arr)"
   ]
  },
  {
   "cell_type": "code",
   "execution_count": 5,
   "id": "4989471c",
   "metadata": {},
   "outputs": [
    {
     "name": "stdout",
     "output_type": "stream",
     "text": [
      "1.20.1\n"
     ]
    }
   ],
   "source": [
    "print(np.__version__)"
   ]
  },
  {
   "cell_type": "code",
   "execution_count": 6,
   "id": "c5c33c57",
   "metadata": {},
   "outputs": [
    {
     "name": "stdout",
     "output_type": "stream",
     "text": [
      "<class 'numpy.ndarray'>\n"
     ]
    }
   ],
   "source": [
    "print(type(a_arr))"
   ]
  },
  {
   "cell_type": "code",
   "execution_count": 7,
   "id": "152d9991",
   "metadata": {},
   "outputs": [
    {
     "name": "stdout",
     "output_type": "stream",
     "text": [
      "[1 2 3 4 5]\n"
     ]
    }
   ],
   "source": [
    "an_r = np.array((1,2,3,4,5))\n",
    "print(an_r)"
   ]
  },
  {
   "cell_type": "code",
   "execution_count": 8,
   "id": "1b7f5162",
   "metadata": {},
   "outputs": [
    {
     "name": "stdout",
     "output_type": "stream",
     "text": [
      "30\n"
     ]
    }
   ],
   "source": [
    "# 0-D Array\n",
    "a = np.array(30)\n",
    "print(a)"
   ]
  },
  {
   "cell_type": "code",
   "execution_count": 9,
   "id": "9745ae51",
   "metadata": {},
   "outputs": [
    {
     "name": "stdout",
     "output_type": "stream",
     "text": [
      "[1 2 3 4]\n"
     ]
    }
   ],
   "source": [
    "# 1-D Array\n",
    "a = np.array([1,2,3,4])\n",
    "print(a)"
   ]
  },
  {
   "cell_type": "code",
   "execution_count": 10,
   "id": "4ca59841",
   "metadata": {},
   "outputs": [
    {
     "name": "stdout",
     "output_type": "stream",
     "text": [
      "[[1 2 3]\n",
      " [4 5 6]]\n"
     ]
    }
   ],
   "source": [
    "# 2-D Array\n",
    "a = np.array([[1,2,3], [4,5,6]])\n",
    "print(a)"
   ]
  },
  {
   "cell_type": "code",
   "execution_count": 12,
   "id": "effbdb1e",
   "metadata": {},
   "outputs": [
    {
     "name": "stdout",
     "output_type": "stream",
     "text": [
      "[[[1 3 2]\n",
      "  [4 5 6]\n",
      "  [2 1 2]]]\n"
     ]
    }
   ],
   "source": [
    "# 3-D Array\n",
    "a = np.array([[[1,3,2], [4,5,6],[2,1,2]]])\n",
    "print(a)"
   ]
  },
  {
   "cell_type": "code",
   "execution_count": 13,
   "id": "071a3d08",
   "metadata": {},
   "outputs": [
    {
     "name": "stdout",
     "output_type": "stream",
     "text": [
      "3\n"
     ]
    }
   ],
   "source": [
    "#Check number Dimension\n",
    "\n",
    "a = np.array([[[1,3,2], [4,5,6],[2,1,2]]])\n",
    "print(a.ndim)"
   ]
  },
  {
   "cell_type": "code",
   "execution_count": 14,
   "id": "67e16db4",
   "metadata": {},
   "outputs": [
    {
     "name": "stdout",
     "output_type": "stream",
     "text": [
      "[[[[[1 2 3 4]]]]]\n",
      "The number of dimensions: 5\n"
     ]
    }
   ],
   "source": [
    "#Higer dim array\n",
    "\n",
    "a = np.array([1,2,3,4], ndmin=5)\n",
    "print(a)\n",
    "print(\"The number of dimensions:\", a.ndim)"
   ]
  },
  {
   "cell_type": "code",
   "execution_count": 15,
   "id": "ef7fd541",
   "metadata": {},
   "outputs": [
    {
     "name": "stdout",
     "output_type": "stream",
     "text": [
      "1\n",
      "2\n"
     ]
    }
   ],
   "source": [
    "a = np.array([1,2,3,4])\n",
    "print(a[0])\n",
    "print(a[1])"
   ]
  },
  {
   "cell_type": "code",
   "execution_count": 18,
   "id": "e160557c",
   "metadata": {},
   "outputs": [
    {
     "name": "stdout",
     "output_type": "stream",
     "text": [
      "The second dim is  20\n"
     ]
    }
   ],
   "source": [
    "# Access 2-D Arr\n",
    "a = np.array([[10,20,30],[40,50,60]])\n",
    "print(\"The second dim is \", a[0,1])"
   ]
  },
  {
   "cell_type": "code",
   "execution_count": 19,
   "id": "3992ec71",
   "metadata": {},
   "outputs": [
    {
     "name": "stdout",
     "output_type": "stream",
     "text": [
      "The second dim is  60\n"
     ]
    }
   ],
   "source": [
    "# Access 2-D Arr\n",
    "a = np.array([[10,20,30],[40,50,60]])\n",
    "print(\"The second dim is \", a[1,2])"
   ]
  },
  {
   "cell_type": "code",
   "execution_count": 21,
   "id": "e1c80356",
   "metadata": {},
   "outputs": [
    {
     "name": "stdout",
     "output_type": "stream",
     "text": [
      "The second dim is  6\n"
     ]
    }
   ],
   "source": [
    "# Access 3-D Arr\n",
    "a = np.array([[[1,2,3],[4,5,6],[2,3,2],[6,7,8]]])\n",
    "print(\"The second dim is \", a[0,1,2])"
   ]
  },
  {
   "cell_type": "code",
   "execution_count": 22,
   "id": "3c618f17",
   "metadata": {},
   "outputs": [
    {
     "name": "stdout",
     "output_type": "stream",
     "text": [
      "[2 3 4]\n"
     ]
    }
   ],
   "source": [
    "a_arr = np.array([1, 2, 3, 4, 5])\n",
    "print(a_arr[1:4])"
   ]
  },
  {
   "cell_type": "code",
   "execution_count": 23,
   "id": "3593aeea",
   "metadata": {},
   "outputs": [
    {
     "name": "stdout",
     "output_type": "stream",
     "text": [
      "[1 2 3]\n"
     ]
    }
   ],
   "source": [
    "a_arr = np.array([1, 2, 3, 4, 5])\n",
    "print(a_arr[:3])"
   ]
  },
  {
   "cell_type": "code",
   "execution_count": 24,
   "id": "5d31a5a1",
   "metadata": {},
   "outputs": [
    {
     "name": "stdout",
     "output_type": "stream",
     "text": [
      "[2 3 4 5]\n"
     ]
    }
   ],
   "source": [
    "a_arr = np.array([1, 2, 3, 4, 5])\n",
    "print(a_arr[-4:])"
   ]
  },
  {
   "cell_type": "code",
   "execution_count": 25,
   "id": "124cf382",
   "metadata": {},
   "outputs": [
    {
     "name": "stdout",
     "output_type": "stream",
     "text": [
      "[2 4]\n"
     ]
    }
   ],
   "source": [
    "a_arr = np.array([1, 2, 3, 4, 5])\n",
    "print(a_arr[1:4:2])"
   ]
  },
  {
   "cell_type": "markdown",
   "id": "042255e3",
   "metadata": {},
   "source": [
    "# Slice 2-D"
   ]
  },
  {
   "cell_type": "code",
   "execution_count": 26,
   "id": "db7926d5",
   "metadata": {},
   "outputs": [
    {
     "name": "stdout",
     "output_type": "stream",
     "text": [
      "[20 30 40]\n"
     ]
    }
   ],
   "source": [
    "a = np.array([[1,2,3,4,5],[10,20,30,40,50]])\n",
    "print(a[1,1:4])"
   ]
  },
  {
   "cell_type": "code",
   "execution_count": 27,
   "id": "cf9351d1",
   "metadata": {},
   "outputs": [
    {
     "name": "stdout",
     "output_type": "stream",
     "text": [
      "[2 3 4]\n"
     ]
    }
   ],
   "source": [
    "print(a[0,1:4])"
   ]
  },
  {
   "cell_type": "code",
   "execution_count": 29,
   "id": "d5cad3ca",
   "metadata": {},
   "outputs": [
    {
     "name": "stdout",
     "output_type": "stream",
     "text": [
      "[[ 2  3  4]\n",
      " [20 30 40]]\n"
     ]
    }
   ],
   "source": [
    "print(a[0:2, 1:4])"
   ]
  },
  {
   "cell_type": "code",
   "execution_count": 30,
   "id": "9a150cff",
   "metadata": {},
   "outputs": [
    {
     "name": "stdout",
     "output_type": "stream",
     "text": [
      "int32\n",
      "<U10\n"
     ]
    }
   ],
   "source": [
    "m = np.array([1,2,3])\n",
    "b = np.array([\"banana\", \"fig\", \"watermelon\"])\n",
    "\n",
    "print(m.dtype)\n",
    "print(b.dtype)"
   ]
  },
  {
   "cell_type": "code",
   "execution_count": 31,
   "id": "637edb40",
   "metadata": {},
   "outputs": [
    {
     "name": "stdout",
     "output_type": "stream",
     "text": [
      "int32\n",
      "|S10\n"
     ]
    }
   ],
   "source": [
    "m = np.array([1,2,3])\n",
    "b = np.array([\"banana\", \"fig\", \"watermelon\"], dtype = \"S\")\n",
    "\n",
    "print(m.dtype)\n",
    "print(b.dtype)"
   ]
  },
  {
   "cell_type": "markdown",
   "id": "2327d1b5",
   "metadata": {},
   "source": [
    "# Numpy Operation"
   ]
  },
  {
   "cell_type": "code",
   "execution_count": 32,
   "id": "1eaf8962",
   "metadata": {},
   "outputs": [
    {
     "name": "stdout",
     "output_type": "stream",
     "text": [
      "[3 4 5 6]\n"
     ]
    }
   ],
   "source": [
    "a = np.array([1,2,3,4])\n",
    "b = a + 2\n",
    "print(b)"
   ]
  },
  {
   "cell_type": "code",
   "execution_count": 33,
   "id": "5fe19094",
   "metadata": {},
   "outputs": [
    {
     "name": "stdout",
     "output_type": "stream",
     "text": [
      "[2 4 6 8]\n"
     ]
    }
   ],
   "source": [
    "a = np.array([1,2,3,4])\n",
    "b = np.array([1,2,3,4])\n",
    "c = a + b\n",
    "print(c)"
   ]
  },
  {
   "cell_type": "code",
   "execution_count": 34,
   "id": "d357c32d",
   "metadata": {},
   "outputs": [
    {
     "name": "stdout",
     "output_type": "stream",
     "text": [
      "[ 4  8 12 16]\n"
     ]
    }
   ],
   "source": [
    "a = np.array([1,2,3,4])\n",
    "b = 4 * a\n",
    "print(b)"
   ]
  },
  {
   "cell_type": "code",
   "execution_count": 35,
   "id": "295e9e2d",
   "metadata": {},
   "outputs": [
    {
     "data": {
      "text/plain": [
       "30"
      ]
     },
     "execution_count": 35,
     "metadata": {},
     "output_type": "execute_result"
    }
   ],
   "source": [
    "a = np.array([1,2,3,4])\n",
    "b = np.array([1,2,3,4])\n",
    "np.dot(a,b)"
   ]
  },
  {
   "cell_type": "code",
   "execution_count": 36,
   "id": "bef94065",
   "metadata": {},
   "outputs": [
    {
     "data": {
      "text/plain": [
       "array([ 2.71828183,  7.3890561 , 20.08553692, 54.59815003])"
      ]
     },
     "execution_count": 36,
     "metadata": {},
     "output_type": "execute_result"
    }
   ],
   "source": [
    "a = np.array([1,2,3,4])\n",
    "np.exp(a)"
   ]
  },
  {
   "cell_type": "code",
   "execution_count": null,
   "id": "6e4e4260",
   "metadata": {},
   "outputs": [],
   "source": []
  }
 ],
 "metadata": {
  "kernelspec": {
   "display_name": "Python 3",
   "language": "python",
   "name": "python3"
  },
  "language_info": {
   "codemirror_mode": {
    "name": "ipython",
    "version": 3
   },
   "file_extension": ".py",
   "mimetype": "text/x-python",
   "name": "python",
   "nbconvert_exporter": "python",
   "pygments_lexer": "ipython3",
   "version": "3.8.8"
  }
 },
 "nbformat": 4,
 "nbformat_minor": 5
}
