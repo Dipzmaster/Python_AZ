{
 "cells": [
  {
   "cell_type": "markdown",
   "id": "c528c33c",
   "metadata": {},
   "source": [
    "# Lists"
   ]
  },
  {
   "cell_type": "code",
   "execution_count": 1,
   "id": "08172e88",
   "metadata": {},
   "outputs": [
    {
     "name": "stdout",
     "output_type": "stream",
     "text": [
      "<class 'list'>\n"
     ]
    }
   ],
   "source": [
    "mix = [2,3,4,5,6, 'Hi']\n",
    "print(type(mix))"
   ]
  },
  {
   "cell_type": "code",
   "execution_count": 3,
   "id": "f2ea99f0",
   "metadata": {},
   "outputs": [
    {
     "name": "stdout",
     "output_type": "stream",
     "text": [
      "First item 2\n",
      "Second item 3\n",
      "Third item 4\n"
     ]
    }
   ],
   "source": [
    "print(\"First item\", mix[0])\n",
    "print(\"Second item\", mix[1])\n",
    "print(\"Third item\", mix[2])"
   ]
  },
  {
   "cell_type": "code",
   "execution_count": 4,
   "id": "f2a0fea6",
   "metadata": {},
   "outputs": [
    {
     "name": "stdout",
     "output_type": "stream",
     "text": [
      "[2, 3, 4, 5]\n",
      "[3, 4, 5, 6, 'Hi']\n"
     ]
    }
   ],
   "source": [
    "print(mix[0:4])\n",
    "print(mix[1:])"
   ]
  },
  {
   "cell_type": "code",
   "execution_count": null,
   "id": "41423194",
   "metadata": {},
   "outputs": [],
   "source": []
  }
 ],
 "metadata": {
  "kernelspec": {
   "display_name": "Python 3",
   "language": "python",
   "name": "python3"
  },
  "language_info": {
   "codemirror_mode": {
    "name": "ipython",
    "version": 3
   },
   "file_extension": ".py",
   "mimetype": "text/x-python",
   "name": "python",
   "nbconvert_exporter": "python",
   "pygments_lexer": "ipython3",
   "version": "3.8.8"
  }
 },
 "nbformat": 4,
 "nbformat_minor": 5
}
