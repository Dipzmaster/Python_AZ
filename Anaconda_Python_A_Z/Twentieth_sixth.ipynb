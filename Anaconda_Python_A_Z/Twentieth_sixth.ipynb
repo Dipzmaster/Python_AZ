{
 "cells": [
  {
   "cell_type": "code",
   "execution_count": 1,
   "id": "15d58194",
   "metadata": {},
   "outputs": [
    {
     "name": "stdout",
     "output_type": "stream",
     "text": [
      "You see\n"
     ]
    }
   ],
   "source": [
    "import sqlite3\n",
    "con = sqlite3.connect('OurDB.db')\n",
    "print(\"You see\")"
   ]
  },
  {
   "cell_type": "code",
   "execution_count": 2,
   "id": "0880289d",
   "metadata": {},
   "outputs": [
    {
     "name": "stdout",
     "output_type": "stream",
     "text": [
      "TABLE CREATED\n"
     ]
    }
   ],
   "source": [
    "cur = con.cursor()\n",
    "cur.execute('CREATE TABLE Product (p_id INTEGER PRIMARY KEY AUTOINCREMENT, p_name TEXT NOT NULL)')\n",
    "print('TABLE CREATED')\n",
    "con.close()"
   ]
  },
  {
   "cell_type": "code",
   "execution_count": 5,
   "id": "d65be864",
   "metadata": {},
   "outputs": [
    {
     "name": "stdout",
     "output_type": "stream",
     "text": [
      "DATA\n"
     ]
    }
   ],
   "source": [
    "con = sqlite3.connect('OurDB.db')\n",
    "cur = con.cursor()\n",
    "\n",
    "cur.execute(\"INSERT INTO Product(p_name) VALUES('Hello')\")\n",
    "print(\"DATA\")\n",
    "con.commit()\n",
    "con.close()"
   ]
  },
  {
   "cell_type": "code",
   "execution_count": 17,
   "id": "9562aecb",
   "metadata": {},
   "outputs": [
    {
     "name": "stdout",
     "output_type": "stream",
     "text": [
      "p_id\n",
      "1 \t New \n",
      "\n"
     ]
    }
   ],
   "source": [
    "con = sqlite3.connect('OurDB.db')\n",
    "cur = con.cursor()\n",
    "\n",
    "print(\"p_id\")\n",
    "cur.execute(\"UPDATE Product SET  p_name = 'New' WHERE p_id = '1'\")\n",
    "con.commit()\n",
    "cursor = cur.execute(\"SELECT * FROM Product\")\n",
    "for row in cursor:\n",
    "    print(row[0], \"\\t\", row[1], \"\\n\")\n",
    "con.close()"
   ]
  },
  {
   "cell_type": "code",
   "execution_count": null,
   "id": "2a5f9492",
   "metadata": {},
   "outputs": [],
   "source": []
  },
  {
   "cell_type": "code",
   "execution_count": null,
   "id": "deb036c3",
   "metadata": {},
   "outputs": [],
   "source": []
  }
 ],
 "metadata": {
  "kernelspec": {
   "display_name": "Python 3",
   "language": "python",
   "name": "python3"
  },
  "language_info": {
   "codemirror_mode": {
    "name": "ipython",
    "version": 3
   },
   "file_extension": ".py",
   "mimetype": "text/x-python",
   "name": "python",
   "nbconvert_exporter": "python",
   "pygments_lexer": "ipython3",
   "version": "3.8.8"
  }
 },
 "nbformat": 4,
 "nbformat_minor": 5
}
