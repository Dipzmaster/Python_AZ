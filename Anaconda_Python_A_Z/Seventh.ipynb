{
 "cells": [
  {
   "cell_type": "markdown",
   "id": "fbc2b9e1",
   "metadata": {},
   "source": [
    "# Tuples in Python"
   ]
  },
  {
   "cell_type": "code",
   "execution_count": 1,
   "id": "6bcaef3e",
   "metadata": {},
   "outputs": [
    {
     "name": "stdout",
     "output_type": "stream",
     "text": [
      "first item:  10\n",
      "second item:  app\n",
      "third item:  3\n"
     ]
    }
   ],
   "source": [
    "mix_t = (10, \"app\", 3, 2+3j)\n",
    "print(\"first item: \", mix_t[0])\n",
    "print(\"second item: \", mix_t[1])\n",
    "print(\"third item: \", mix_t[2])"
   ]
  },
  {
   "cell_type": "code",
   "execution_count": 2,
   "id": "b1dc930a",
   "metadata": {},
   "outputs": [
    {
     "name": "stdout",
     "output_type": "stream",
     "text": [
      "(10, 'app')\n"
     ]
    }
   ],
   "source": [
    "print(mix_t[0:2])"
   ]
  },
  {
   "cell_type": "markdown",
   "id": "625d7747",
   "metadata": {},
   "source": [
    "# String in python"
   ]
  },
  {
   "cell_type": "code",
   "execution_count": 3,
   "id": "f68e4c49",
   "metadata": {},
   "outputs": [
    {
     "name": "stdout",
     "output_type": "stream",
     "text": [
      "Sigh\n"
     ]
    }
   ],
   "source": [
    "str = \"Sigh\"\n",
    "print(str)"
   ]
  },
  {
   "cell_type": "code",
   "execution_count": 4,
   "id": "7b9b8628",
   "metadata": {},
   "outputs": [
    {
     "name": "stdout",
     "output_type": "stream",
     "text": [
      "multiple\n",
      "line\n",
      "will \n",
      "work\n"
     ]
    }
   ],
   "source": [
    "str = '''multiple\n",
    "line\n",
    "will \n",
    "work'''\n",
    "print(str)"
   ]
  },
  {
   "cell_type": "code",
   "execution_count": 5,
   "id": "a88fc2b3",
   "metadata": {},
   "outputs": [
    {
     "name": "stdout",
     "output_type": "stream",
     "text": [
      "First : H\n",
      "second : i\n"
     ]
    }
   ],
   "source": [
    "str = \"Hi world\"\n",
    "print(\"First :\", str[0])\n",
    "print(\"second :\", str[1])"
   ]
  },
  {
   "cell_type": "code",
   "execution_count": 6,
   "id": "17f4fe66",
   "metadata": {},
   "outputs": [],
   "source": [
    "#string is immutable"
   ]
  },
  {
   "cell_type": "code",
   "execution_count": null,
   "id": "e8d77790",
   "metadata": {},
   "outputs": [],
   "source": []
  }
 ],
 "metadata": {
  "kernelspec": {
   "display_name": "Python 3",
   "language": "python",
   "name": "python3"
  },
  "language_info": {
   "codemirror_mode": {
    "name": "ipython",
    "version": 3
   },
   "file_extension": ".py",
   "mimetype": "text/x-python",
   "name": "python",
   "nbconvert_exporter": "python",
   "pygments_lexer": "ipython3",
   "version": "3.8.8"
  }
 },
 "nbformat": 4,
 "nbformat_minor": 5
}
