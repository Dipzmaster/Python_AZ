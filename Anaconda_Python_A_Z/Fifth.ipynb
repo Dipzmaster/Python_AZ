{
 "cells": [
  {
   "cell_type": "markdown",
   "id": "32e80362",
   "metadata": {},
   "source": [
    "# Numbers"
   ]
  },
  {
   "cell_type": "code",
   "execution_count": 1,
   "id": "2969f0a8",
   "metadata": {},
   "outputs": [
    {
     "name": "stdout",
     "output_type": "stream",
     "text": [
      "5 is of type <class 'int'>\n",
      "3.5 is of type <class 'float'>\n",
      "(2+5j) is of type <class 'complex'>\n"
     ]
    }
   ],
   "source": [
    "x = 5\n",
    "y = 3.5\n",
    "z = 2 + 5j\n",
    "\n",
    "print(x, \"is of type\", type(x))\n",
    "print(y, \"is of type\", type(y))\n",
    "print(z, \"is of type\", type(z))"
   ]
  },
  {
   "cell_type": "code",
   "execution_count": null,
   "id": "8873cf4d",
   "metadata": {},
   "outputs": [],
   "source": []
  }
 ],
 "metadata": {
  "kernelspec": {
   "display_name": "Python 3",
   "language": "python",
   "name": "python3"
  },
  "language_info": {
   "codemirror_mode": {
    "name": "ipython",
    "version": 3
   },
   "file_extension": ".py",
   "mimetype": "text/x-python",
   "name": "python",
   "nbconvert_exporter": "python",
   "pygments_lexer": "ipython3",
   "version": "3.8.8"
  }
 },
 "nbformat": 4,
 "nbformat_minor": 5
}
