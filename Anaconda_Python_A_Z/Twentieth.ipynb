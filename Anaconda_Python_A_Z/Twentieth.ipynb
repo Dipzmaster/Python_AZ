{
 "cells": [
  {
   "cell_type": "markdown",
   "id": "032e54da",
   "metadata": {},
   "source": [
    "# Lambda"
   ]
  },
  {
   "cell_type": "code",
   "execution_count": 1,
   "id": "9bad0044",
   "metadata": {},
   "outputs": [
    {
     "name": "stdout",
     "output_type": "stream",
     "text": [
      "15\n"
     ]
    }
   ],
   "source": [
    "x = lambda i: i + 10\n",
    "print(x(5))\n"
   ]
  },
  {
   "cell_type": "code",
   "execution_count": 2,
   "id": "c152d2e8",
   "metadata": {},
   "outputs": [
    {
     "name": "stdout",
     "output_type": "stream",
     "text": [
      "56\n"
     ]
    }
   ],
   "source": [
    "calc = lambda x, y : x * y\n",
    "print(calc(7,8))"
   ]
  },
  {
   "cell_type": "code",
   "execution_count": 3,
   "id": "5512b6dc",
   "metadata": {},
   "outputs": [
    {
     "name": "stdout",
     "output_type": "stream",
     "text": [
      "16\n"
     ]
    }
   ],
   "source": [
    "mth = lambda x,y,z : x*y+z\n",
    "print(mth(2,5,6))"
   ]
  },
  {
   "cell_type": "code",
   "execution_count": 4,
   "id": "47f137c0",
   "metadata": {},
   "outputs": [
    {
     "name": "stdout",
     "output_type": "stream",
     "text": [
      "50\n",
      "120\n"
     ]
    }
   ],
   "source": [
    "#Lambda with user function\n",
    "def m(n):\n",
    "    return lambda x: x * n\n",
    "\n",
    "d = m(5)\n",
    "t = m(6)\n",
    "print(d(10))\n",
    "print(t(20))"
   ]
  },
  {
   "cell_type": "code",
   "execution_count": null,
   "id": "36940906",
   "metadata": {},
   "outputs": [],
   "source": []
  }
 ],
 "metadata": {
  "kernelspec": {
   "display_name": "Python 3",
   "language": "python",
   "name": "python3"
  },
  "language_info": {
   "codemirror_mode": {
    "name": "ipython",
    "version": 3
   },
   "file_extension": ".py",
   "mimetype": "text/x-python",
   "name": "python",
   "nbconvert_exporter": "python",
   "pygments_lexer": "ipython3",
   "version": "3.8.8"
  }
 },
 "nbformat": 4,
 "nbformat_minor": 5
}
