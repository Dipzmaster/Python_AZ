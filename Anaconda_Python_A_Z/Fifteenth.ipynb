{
 "cells": [
  {
   "cell_type": "code",
   "execution_count": 1,
   "id": "d9af53e8",
   "metadata": {},
   "outputs": [
    {
     "name": "stdout",
     "output_type": "stream",
     "text": [
      "['fig', 'apple', 'banana']\n"
     ]
    }
   ],
   "source": [
    "#create a list\n",
    "\n",
    "m = [\"fig\", \"apple\", \"banana\"]\n",
    "print(m)"
   ]
  },
  {
   "cell_type": "code",
   "execution_count": 2,
   "id": "bf4b2a20",
   "metadata": {},
   "outputs": [
    {
     "name": "stdout",
     "output_type": "stream",
     "text": [
      "3\n"
     ]
    }
   ],
   "source": [
    "print(len(m))"
   ]
  },
  {
   "cell_type": "code",
   "execution_count": 3,
   "id": "2754b424",
   "metadata": {},
   "outputs": [
    {
     "name": "stdout",
     "output_type": "stream",
     "text": [
      "[1, 2, 3, 4, 5, 6]\n",
      "[True, False, False]\n"
     ]
    }
   ],
   "source": [
    "mn = [1,2,3,4,5,6]\n",
    "mybooleans = [True, False, False]\n",
    "\n",
    "print(mn)\n",
    "print(mybooleans)"
   ]
  },
  {
   "cell_type": "code",
   "execution_count": 4,
   "id": "766dcda2",
   "metadata": {},
   "outputs": [
    {
     "name": "stdout",
     "output_type": "stream",
     "text": [
      "<class 'list'>\n"
     ]
    }
   ],
   "source": [
    "print(type(mn))"
   ]
  },
  {
   "cell_type": "code",
   "execution_count": 7,
   "id": "3edd82b0",
   "metadata": {},
   "outputs": [],
   "source": [
    "fr = list((\"banana\", \"apple\"))"
   ]
  },
  {
   "cell_type": "code",
   "execution_count": 8,
   "id": "6a8a0fe0",
   "metadata": {},
   "outputs": [
    {
     "name": "stdout",
     "output_type": "stream",
     "text": [
      "['banana', 'apple']\n"
     ]
    }
   ],
   "source": [
    "print(fr)"
   ]
  },
  {
   "cell_type": "code",
   "execution_count": 10,
   "id": "0ef1eaa9",
   "metadata": {},
   "outputs": [
    {
     "name": "stdout",
     "output_type": "stream",
     "text": [
      "banana\n",
      "apple\n",
      "apple\n",
      "banana\n"
     ]
    }
   ],
   "source": [
    "print(fr[0])\n",
    "print(fr[1])\n",
    "print(fr[-1])\n",
    "print(fr[-2])"
   ]
  },
  {
   "cell_type": "code",
   "execution_count": 11,
   "id": "22622530",
   "metadata": {},
   "outputs": [
    {
     "name": "stdout",
     "output_type": "stream",
     "text": [
      "['banana', 'apple']\n"
     ]
    }
   ],
   "source": [
    "print(fr[0:2])"
   ]
  },
  {
   "cell_type": "code",
   "execution_count": 12,
   "id": "141de2b1",
   "metadata": {},
   "outputs": [
    {
     "name": "stdout",
     "output_type": "stream",
     "text": [
      "['banana', 'apple']\n"
     ]
    }
   ],
   "source": [
    "print(fr[0:])"
   ]
  },
  {
   "cell_type": "code",
   "execution_count": 13,
   "id": "474c9ec1",
   "metadata": {},
   "outputs": [
    {
     "name": "stdout",
     "output_type": "stream",
     "text": [
      "['apple']\n"
     ]
    }
   ],
   "source": [
    "print(fr[1:])"
   ]
  },
  {
   "cell_type": "code",
   "execution_count": 15,
   "id": "e5667b27",
   "metadata": {},
   "outputs": [
    {
     "name": "stdout",
     "output_type": "stream",
     "text": [
      "banana is in fr\n"
     ]
    }
   ],
   "source": [
    "if \"banana\" in fr:\n",
    "    print(\"banana is in fr\")\n",
    "else:\n",
    "    print(\"No\")"
   ]
  },
  {
   "cell_type": "code",
   "execution_count": 17,
   "id": "f3054d4b",
   "metadata": {},
   "outputs": [
    {
     "name": "stdout",
     "output_type": "stream",
     "text": [
      "['banana', 'cherry']\n"
     ]
    }
   ],
   "source": [
    "fr[1] = \"cherry\"\n",
    "print(fr)"
   ]
  },
  {
   "cell_type": "code",
   "execution_count": 18,
   "id": "2915c74e",
   "metadata": {},
   "outputs": [
    {
     "name": "stdout",
     "output_type": "stream",
     "text": [
      "[['fig', 'watermelon'], 'cherry']\n"
     ]
    }
   ],
   "source": [
    "fr[0] = [\"fig\", \"watermelon\"]\n",
    "print(fr)"
   ]
  },
  {
   "cell_type": "code",
   "execution_count": 19,
   "id": "628f8c0f",
   "metadata": {},
   "outputs": [
    {
     "name": "stdout",
     "output_type": "stream",
     "text": [
      "['fig', 'banana', 'orange', 'cherry']\n"
     ]
    }
   ],
   "source": [
    "f = [\"fig\", \"banana\", \"orange\"]\n",
    "f.append(\"cherry\")\n",
    "print(f)"
   ]
  },
  {
   "cell_type": "code",
   "execution_count": 21,
   "id": "5ca7ab1f",
   "metadata": {},
   "outputs": [
    {
     "name": "stdout",
     "output_type": "stream",
     "text": [
      "['fig', 'banana', 'orange', 'cherry', 'lemon', 'cherry']\n"
     ]
    }
   ],
   "source": [
    "f2 = [\"lemon\", \"cherry\"]\n",
    "f.extend(f2)\n",
    "print(f)"
   ]
  },
  {
   "cell_type": "code",
   "execution_count": 22,
   "id": "72171257",
   "metadata": {},
   "outputs": [
    {
     "name": "stdout",
     "output_type": "stream",
     "text": [
      "['fig', 'orange', 'cherry', 'lemon', 'cherry']\n"
     ]
    }
   ],
   "source": [
    "f.pop(1)\n",
    "print(f)"
   ]
  },
  {
   "cell_type": "code",
   "execution_count": 23,
   "id": "123d9006",
   "metadata": {},
   "outputs": [
    {
     "name": "stdout",
     "output_type": "stream",
     "text": [
      "['fig', 'orange', 'cherry', 'lemon']\n"
     ]
    }
   ],
   "source": [
    "f.pop()\n",
    "print(f)"
   ]
  },
  {
   "cell_type": "code",
   "execution_count": 24,
   "id": "c9e6b879",
   "metadata": {},
   "outputs": [
    {
     "name": "stdout",
     "output_type": "stream",
     "text": [
      "['orange', 'cherry', 'lemon']\n"
     ]
    }
   ],
   "source": [
    "del f[0]\n",
    "print(f)"
   ]
  },
  {
   "cell_type": "code",
   "execution_count": 25,
   "id": "d7902410",
   "metadata": {},
   "outputs": [],
   "source": [
    "f.clear()"
   ]
  },
  {
   "cell_type": "code",
   "execution_count": 26,
   "id": "ff920e18",
   "metadata": {},
   "outputs": [
    {
     "name": "stdout",
     "output_type": "stream",
     "text": [
      "[]\n"
     ]
    }
   ],
   "source": [
    "print(f)"
   ]
  },
  {
   "cell_type": "code",
   "execution_count": 27,
   "id": "0d79cbdf",
   "metadata": {},
   "outputs": [
    {
     "data": {
      "text/plain": [
       "[]"
      ]
     },
     "execution_count": 27,
     "metadata": {},
     "output_type": "execute_result"
    }
   ],
   "source": [
    "f"
   ]
  },
  {
   "cell_type": "code",
   "execution_count": 28,
   "id": "c13ef7b6",
   "metadata": {},
   "outputs": [
    {
     "name": "stdout",
     "output_type": "stream",
     "text": [
      "Y\n",
      "16\n"
     ]
    }
   ],
   "source": [
    "a = [\"PYsde\", [4,8,12,16]]\n",
    "print(a[0][1])\n",
    "print(a[1][3])"
   ]
  },
  {
   "cell_type": "code",
   "execution_count": 29,
   "id": "2a2c01a7",
   "metadata": {},
   "outputs": [],
   "source": [
    "ab = ['a']\n",
    "newList = list(ab)"
   ]
  },
  {
   "cell_type": "code",
   "execution_count": 30,
   "id": "8d9b6ed2",
   "metadata": {},
   "outputs": [
    {
     "data": {
      "text/plain": [
       "['a']"
      ]
     },
     "execution_count": 30,
     "metadata": {},
     "output_type": "execute_result"
    }
   ],
   "source": [
    "ab"
   ]
  },
  {
   "cell_type": "code",
   "execution_count": 31,
   "id": "8778f744",
   "metadata": {},
   "outputs": [
    {
     "name": "stdout",
     "output_type": "stream",
     "text": [
      "[10, 20, 30, 40]\n",
      "[10, 20, 40]\n"
     ]
    }
   ],
   "source": [
    "s = [10, 20, 30, 40, 50]\n",
    "s.pop()\n",
    "print(s)\n",
    "\n",
    "s.pop(2)\n",
    "print(s)"
   ]
  },
  {
   "cell_type": "code",
   "execution_count": 32,
   "id": "c45d730b",
   "metadata": {},
   "outputs": [
    {
     "name": "stdout",
     "output_type": "stream",
     "text": [
      "[2, 4, 6, 8, 10, 12, 14]\n"
     ]
    }
   ],
   "source": [
    "a = [1,2,3,4,5,6,7]\n",
    "p = [2 * x for x in a]\n",
    "print(p)"
   ]
  },
  {
   "cell_type": "code",
   "execution_count": 33,
   "id": "33377392",
   "metadata": {},
   "outputs": [
    {
     "name": "stdout",
     "output_type": "stream",
     "text": [
      "[10, 20, 30, 40, 50, 60]\n",
      "[10, 20, 30, 40, 50, 60, 60]\n"
     ]
    }
   ],
   "source": [
    "s = [10,20,30,40,50]\n",
    "s.append(60)\n",
    "print(s)\n",
    "\n",
    "s.append(60)\n",
    "print(s)"
   ]
  },
  {
   "cell_type": "code",
   "execution_count": 34,
   "id": "4f998d5f",
   "metadata": {},
   "outputs": [
    {
     "name": "stdout",
     "output_type": "stream",
     "text": [
      "40\n",
      "[20, 30, 40]\n"
     ]
    }
   ],
   "source": [
    "s = [10,20,30,40,50]\n",
    "print(s[-2])\n",
    "print(s[-4:-1])"
   ]
  },
  {
   "cell_type": "code",
   "execution_count": null,
   "id": "6fbc3edd",
   "metadata": {},
   "outputs": [],
   "source": []
  }
 ],
 "metadata": {
  "kernelspec": {
   "display_name": "Python 3",
   "language": "python",
   "name": "python3"
  },
  "language_info": {
   "codemirror_mode": {
    "name": "ipython",
    "version": 3
   },
   "file_extension": ".py",
   "mimetype": "text/x-python",
   "name": "python",
   "nbconvert_exporter": "python",
   "pygments_lexer": "ipython3",
   "version": "3.8.8"
  }
 },
 "nbformat": 4,
 "nbformat_minor": 5
}
