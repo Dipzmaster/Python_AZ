{
 "cells": [
  {
   "cell_type": "markdown",
   "id": "2bb7fc32",
   "metadata": {},
   "source": [
    "# Special Literals\n"
   ]
  },
  {
   "cell_type": "code",
   "execution_count": 2,
   "id": "09464928",
   "metadata": {},
   "outputs": [
    {
     "name": "stdout",
     "output_type": "stream",
     "text": [
      "Available\n",
      "None\n"
     ]
    }
   ],
   "source": [
    "drink = \"Available\"\n",
    "food = None\n",
    "\n",
    "def new_menu(a):\n",
    "    if a == drink:\n",
    "        print(drink)\n",
    "    else:\n",
    "        print(food)\n",
    "\n",
    "new_menu(drink)\n",
    "new_menu(food)"
   ]
  },
  {
   "cell_type": "markdown",
   "id": "ebe7e733",
   "metadata": {},
   "source": [
    "## Literal Collections"
   ]
  },
  {
   "cell_type": "code",
   "execution_count": 3,
   "id": "9a69dd96",
   "metadata": {},
   "outputs": [],
   "source": [
    "fruits = [\"Fig\", \"Lemon\", \"Banana\"]  #List\n",
    "numbers = (1,2,3,6) #Tuple\n",
    "words = {\"First word\": \"Banana\", \"Second Word\" : \"Hi\"} #Dict\n",
    "chars = {'A', 'B', 'C'} #Set"
   ]
  },
  {
   "cell_type": "code",
   "execution_count": 4,
   "id": "f85981b2",
   "metadata": {},
   "outputs": [
    {
     "name": "stdout",
     "output_type": "stream",
     "text": [
      "['Fig', 'Lemon', 'Banana']\n",
      "(1, 2, 3, 6)\n",
      "{'First word': 'Banana', 'Second Word': 'Hi'}\n",
      "{'C', 'B', 'A'}\n"
     ]
    }
   ],
   "source": [
    "print(fruits)\n",
    "print(numbers)\n",
    "print(words)\n",
    "print(chars)"
   ]
  },
  {
   "cell_type": "code",
   "execution_count": null,
   "id": "d8e44a54",
   "metadata": {},
   "outputs": [],
   "source": []
  }
 ],
 "metadata": {
  "kernelspec": {
   "display_name": "Python 3",
   "language": "python",
   "name": "python3"
  },
  "language_info": {
   "codemirror_mode": {
    "name": "ipython",
    "version": 3
   },
   "file_extension": ".py",
   "mimetype": "text/x-python",
   "name": "python",
   "nbconvert_exporter": "python",
   "pygments_lexer": "ipython3",
   "version": "3.8.8"
  }
 },
 "nbformat": 4,
 "nbformat_minor": 5
}
