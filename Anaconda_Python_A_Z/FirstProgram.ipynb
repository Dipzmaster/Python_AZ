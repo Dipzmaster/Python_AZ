{
 "cells": [
  {
   "cell_type": "code",
   "execution_count": 3,
   "id": "d34d158d",
   "metadata": {},
   "outputs": [
    {
     "name": "stdout",
     "output_type": "stream",
     "text": [
      "Let's starts the game\n"
     ]
    }
   ],
   "source": [
    "#First Python program\n",
    "print(\"Let's starts the game\")"
   ]
  },
  {
   "cell_type": "code",
   "execution_count": 4,
   "id": "600af308",
   "metadata": {},
   "outputs": [
    {
     "data": {
      "text/plain": [
       "27"
      ]
     },
     "execution_count": 4,
     "metadata": {},
     "output_type": "execute_result"
    }
   ],
   "source": [
    "12+15"
   ]
  },
  {
   "cell_type": "code",
   "execution_count": null,
   "id": "027c3c8c",
   "metadata": {},
   "outputs": [],
   "source": []
  },
  {
   "cell_type": "markdown",
   "id": "2a05e284",
   "metadata": {},
   "source": [
    "## Using jupiter"
   ]
  },
  {
   "cell_type": "code",
   "execution_count": 11,
   "id": "85e030f5",
   "metadata": {},
   "outputs": [],
   "source": [
    "num = 5"
   ]
  },
  {
   "cell_type": "code",
   "execution_count": 12,
   "id": "325dd997",
   "metadata": {},
   "outputs": [
    {
     "data": {
      "text/plain": [
       "5"
      ]
     },
     "execution_count": 12,
     "metadata": {},
     "output_type": "execute_result"
    }
   ],
   "source": [
    "num"
   ]
  },
  {
   "cell_type": "markdown",
   "id": "1305cbb2",
   "metadata": {},
   "source": [
    "## Statements"
   ]
  },
  {
   "cell_type": "code",
   "execution_count": 13,
   "id": "39f25c92",
   "metadata": {},
   "outputs": [],
   "source": [
    "a = 2 + 5 + 8 + \\\n",
    "    6 + 8 + 8"
   ]
  },
  {
   "cell_type": "code",
   "execution_count": 14,
   "id": "99a2d018",
   "metadata": {},
   "outputs": [
    {
     "data": {
      "text/plain": [
       "37"
      ]
     },
     "execution_count": 14,
     "metadata": {},
     "output_type": "execute_result"
    }
   ],
   "source": [
    "a"
   ]
  },
  {
   "cell_type": "code",
   "execution_count": 15,
   "id": "3b336f3f",
   "metadata": {},
   "outputs": [],
   "source": [
    "b = (2 + 5 + 8 + \n",
    "    6 + 8 + 8)"
   ]
  },
  {
   "cell_type": "code",
   "execution_count": 16,
   "id": "73083811",
   "metadata": {},
   "outputs": [
    {
     "data": {
      "text/plain": [
       "37"
      ]
     },
     "execution_count": 16,
     "metadata": {},
     "output_type": "execute_result"
    }
   ],
   "source": [
    "b"
   ]
  },
  {
   "cell_type": "code",
   "execution_count": 17,
   "id": "2cbec916",
   "metadata": {},
   "outputs": [],
   "source": [
    "car = (\"MERCEDES, TOYOTA, BMW\")"
   ]
  },
  {
   "cell_type": "code",
   "execution_count": 18,
   "id": "77b66bed",
   "metadata": {},
   "outputs": [
    {
     "data": {
      "text/plain": [
       "'MERCEDES, TOYOTA, BMW'"
      ]
     },
     "execution_count": 18,
     "metadata": {},
     "output_type": "execute_result"
    }
   ],
   "source": [
    "car"
   ]
  },
  {
   "cell_type": "code",
   "execution_count": 21,
   "id": "dc6046e5",
   "metadata": {},
   "outputs": [],
   "source": [
    "say = [\"MERCEDES\", \"TOYOTA\", \"BMW\"]"
   ]
  },
  {
   "cell_type": "code",
   "execution_count": 22,
   "id": "524e7b75",
   "metadata": {},
   "outputs": [
    {
     "data": {
      "text/plain": [
       "['MERCEDES', 'TOYOTA', 'BMW']"
      ]
     },
     "execution_count": 22,
     "metadata": {},
     "output_type": "execute_result"
    }
   ],
   "source": [
    "say"
   ]
  },
  {
   "cell_type": "code",
   "execution_count": null,
   "id": "47a84de6",
   "metadata": {},
   "outputs": [],
   "source": [
    "for i in range(11, 20)"
   ]
  }
 ],
 "metadata": {
  "kernelspec": {
   "display_name": "Python 3",
   "language": "python",
   "name": "python3"
  },
  "language_info": {
   "codemirror_mode": {
    "name": "ipython",
    "version": 3
   },
   "file_extension": ".py",
   "mimetype": "text/x-python",
   "name": "python",
   "nbconvert_exporter": "python",
   "pygments_lexer": "ipython3",
   "version": "3.8.8"
  }
 },
 "nbformat": 4,
 "nbformat_minor": 5
}
