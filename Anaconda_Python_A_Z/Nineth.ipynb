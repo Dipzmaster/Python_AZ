{
 "cells": [
  {
   "cell_type": "code",
   "execution_count": 2,
   "id": "c8f3c01f",
   "metadata": {},
   "outputs": [
    {
     "name": "stdout",
     "output_type": "stream",
     "text": [
      "The value of x is  10\n"
     ]
    }
   ],
   "source": [
    "#add string\n",
    "x = 10\n",
    "print(\"The value of x is \", x)"
   ]
  },
  {
   "cell_type": "code",
   "execution_count": 4,
   "id": "8d29deeb",
   "metadata": {},
   "outputs": [
    {
     "name": "stdout",
     "output_type": "stream",
     "text": [
      "1 3 5 7 8 9\n",
      "1*3*5*7*8*9\n",
      "1#3#5#7#8#9&"
     ]
    }
   ],
   "source": [
    "print(1,3,5,7,8,9)\n",
    "print(1,3,5,7,8,9, sep= \"*\")\n",
    "print(1,3,5,7,8,9, sep= \"#\", end=\"&\")"
   ]
  },
  {
   "cell_type": "code",
   "execution_count": 5,
   "id": "63e3644a",
   "metadata": {},
   "outputs": [
    {
     "name": "stdout",
     "output_type": "stream",
     "text": [
      "The value of x is 10 and the value of y is 20\n"
     ]
    }
   ],
   "source": [
    "x = 10\n",
    "y = 20\n",
    "print(\"The value of x is {} and the value of y is {}\".format(x,y))"
   ]
  },
  {
   "cell_type": "code",
   "execution_count": 6,
   "id": "419db767",
   "metadata": {},
   "outputs": [
    {
     "name": "stdout",
     "output_type": "stream",
     "text": [
      "i like tea and also milk\n",
      "i like milk and also tea\n"
     ]
    }
   ],
   "source": [
    "print(\"i like {0} and also {1}\".format(\"tea\", \"milk\"))\n",
    "print(\"i like {1} and also {0}\".format(\"tea\", \"milk\"))"
   ]
  },
  {
   "cell_type": "code",
   "execution_count": 7,
   "id": "5db14b3c",
   "metadata": {},
   "outputs": [
    {
     "name": "stdout",
     "output_type": "stream",
     "text": [
      "Hi Marcelo, welcome\n"
     ]
    }
   ],
   "source": [
    "#using keyword args to format\n",
    "print(\"Hi {name}, {greet}\".format(greet=\"welcome\", name=\"Marcelo\"))"
   ]
  },
  {
   "cell_type": "code",
   "execution_count": 8,
   "id": "25f23c97",
   "metadata": {},
   "outputs": [
    {
     "name": "stdout",
     "output_type": "stream",
     "text": [
      "Put the number10\n"
     ]
    }
   ],
   "source": [
    "n = input(\"Put the number\")"
   ]
  },
  {
   "cell_type": "code",
   "execution_count": 9,
   "id": "1f06769c",
   "metadata": {},
   "outputs": [
    {
     "data": {
      "text/plain": [
       "'10'"
      ]
     },
     "execution_count": 9,
     "metadata": {},
     "output_type": "execute_result"
    }
   ],
   "source": [
    "n"
   ]
  },
  {
   "cell_type": "code",
   "execution_count": null,
   "id": "acfca12f",
   "metadata": {},
   "outputs": [],
   "source": []
  }
 ],
 "metadata": {
  "kernelspec": {
   "display_name": "Python 3",
   "language": "python",
   "name": "python3"
  },
  "language_info": {
   "codemirror_mode": {
    "name": "ipython",
    "version": 3
   },
   "file_extension": ".py",
   "mimetype": "text/x-python",
   "name": "python",
   "nbconvert_exporter": "python",
   "pygments_lexer": "ipython3",
   "version": "3.8.8"
  }
 },
 "nbformat": 4,
 "nbformat_minor": 5
}
