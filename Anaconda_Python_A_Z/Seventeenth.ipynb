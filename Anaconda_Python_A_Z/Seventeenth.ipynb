{
 "cells": [
  {
   "cell_type": "markdown",
   "id": "41069c43",
   "metadata": {},
   "source": [
    "# Sets"
   ]
  },
  {
   "cell_type": "code",
   "execution_count": 1,
   "id": "d783713a",
   "metadata": {},
   "outputs": [
    {
     "name": "stdout",
     "output_type": "stream",
     "text": [
      "{'apple', 'fig', 'lemon'}\n"
     ]
    }
   ],
   "source": [
    "f = {\"apple\", \"fig\", \"lemon\"}\n",
    "print(f)"
   ]
  },
  {
   "cell_type": "code",
   "execution_count": 2,
   "id": "24e72407",
   "metadata": {},
   "outputs": [
    {
     "data": {
      "text/plain": [
       "set"
      ]
     },
     "execution_count": 2,
     "metadata": {},
     "output_type": "execute_result"
    }
   ],
   "source": [
    "type(f)"
   ]
  },
  {
   "cell_type": "code",
   "execution_count": 3,
   "id": "a8f3e289",
   "metadata": {},
   "outputs": [
    {
     "data": {
      "text/plain": [
       "3"
      ]
     },
     "execution_count": 3,
     "metadata": {},
     "output_type": "execute_result"
    }
   ],
   "source": [
    "len(f)"
   ]
  },
  {
   "cell_type": "code",
   "execution_count": 4,
   "id": "a5a7b77e",
   "metadata": {},
   "outputs": [
    {
     "name": "stdout",
     "output_type": "stream",
     "text": [
      "{'banana', 'cherry'}\n",
      "{1, 2, 3, 4}\n",
      "{False, True}\n"
     ]
    }
   ],
   "source": [
    "set1 = {\"banana\", \"cherry\"}\n",
    "set2 = {1,2,3,4}\n",
    "set3 = {False, True, False}\n",
    "\n",
    "print(set1)\n",
    "print(set2)\n",
    "print(set3)"
   ]
  },
  {
   "cell_type": "code",
   "execution_count": 5,
   "id": "0cfdf3f1",
   "metadata": {},
   "outputs": [
    {
     "name": "stdout",
     "output_type": "stream",
     "text": [
      "{3.7, True, 'Py', 5}\n"
     ]
    }
   ],
   "source": [
    "n = {True, \"Py\", 5,3.7}\n",
    "print(n)"
   ]
  },
  {
   "cell_type": "code",
   "execution_count": 6,
   "id": "51b6d531",
   "metadata": {},
   "outputs": [
    {
     "name": "stdout",
     "output_type": "stream",
     "text": [
      "{'banana', 3}\n"
     ]
    }
   ],
   "source": [
    "f = set((\"banana\", 3))\n",
    "print(f)"
   ]
  },
  {
   "cell_type": "code",
   "execution_count": 7,
   "id": "d2541451",
   "metadata": {},
   "outputs": [
    {
     "name": "stdout",
     "output_type": "stream",
     "text": [
      "{'banana', 3}\n",
      "{'banana', 3}\n"
     ]
    }
   ],
   "source": [
    "for x in f:\n",
    "    print(f)"
   ]
  },
  {
   "cell_type": "code",
   "execution_count": 8,
   "id": "f51422d9",
   "metadata": {},
   "outputs": [
    {
     "name": "stdout",
     "output_type": "stream",
     "text": [
      "False\n"
     ]
    }
   ],
   "source": [
    "print(\"apple\" in f)"
   ]
  },
  {
   "cell_type": "code",
   "execution_count": 9,
   "id": "b3893864",
   "metadata": {},
   "outputs": [
    {
     "name": "stdout",
     "output_type": "stream",
     "text": [
      "{'orange', 'banana', 3}\n"
     ]
    }
   ],
   "source": [
    "f.add(\"orange\")\n",
    "print(f)"
   ]
  },
  {
   "cell_type": "code",
   "execution_count": 10,
   "id": "92ed3d82",
   "metadata": {},
   "outputs": [
    {
     "name": "stdout",
     "output_type": "stream",
     "text": [
      "{'orange', 'banana', 3, 'lemon'}\n"
     ]
    }
   ],
   "source": [
    "f.update([\"lemon\"])\n",
    "print(f)"
   ]
  },
  {
   "cell_type": "code",
   "execution_count": 11,
   "id": "b5af970f",
   "metadata": {},
   "outputs": [
    {
     "name": "stdout",
     "output_type": "stream",
     "text": [
      "{'banana', 3, 'lemon'}\n"
     ]
    }
   ],
   "source": [
    "f.remove(\"orange\")\n",
    "print(f)"
   ]
  },
  {
   "cell_type": "code",
   "execution_count": 13,
   "id": "fe5b7dab",
   "metadata": {},
   "outputs": [
    {
     "name": "stdout",
     "output_type": "stream",
     "text": [
      "{'banana', 'lemon'}\n"
     ]
    }
   ],
   "source": [
    "f.discard(3)\n",
    "print(f)"
   ]
  },
  {
   "cell_type": "code",
   "execution_count": 14,
   "id": "5e2c81ce",
   "metadata": {},
   "outputs": [
    {
     "name": "stdout",
     "output_type": "stream",
     "text": [
      "banana\n",
      "{'lemon'}\n"
     ]
    }
   ],
   "source": [
    "x = f.pop()\n",
    "print(x)\n",
    "print(f)"
   ]
  },
  {
   "cell_type": "code",
   "execution_count": 15,
   "id": "d14e6025",
   "metadata": {},
   "outputs": [
    {
     "name": "stdout",
     "output_type": "stream",
     "text": [
      "set()\n"
     ]
    }
   ],
   "source": [
    "f.clear()\n",
    "print(f)"
   ]
  },
  {
   "cell_type": "code",
   "execution_count": null,
   "id": "8f386e0b",
   "metadata": {},
   "outputs": [],
   "source": [
    "# del f will not work as it no longer exist after clear()"
   ]
  },
  {
   "cell_type": "code",
   "execution_count": 16,
   "id": "9242e5f7",
   "metadata": {},
   "outputs": [
    {
     "name": "stdout",
     "output_type": "stream",
     "text": [
      "{'Yellow', 'Black'}\n"
     ]
    }
   ],
   "source": [
    "s = {\"Yellow\", \"Orange\", \"Black\"}\n",
    "s1 = {\"Orange\", \"Blue\", \"Pink\"}\n",
    "\n",
    "s.difference_update(s1)\n",
    "print(s)"
   ]
  },
  {
   "cell_type": "code",
   "execution_count": 17,
   "id": "8951fa8f",
   "metadata": {},
   "outputs": [
    {
     "name": "stdout",
     "output_type": "stream",
     "text": [
      "{'Yellow', 'Black', 'Blue', 'Orange'}\n"
     ]
    }
   ],
   "source": [
    "s = {\"Yellow\", \"Orange\", \"Black\"}\n",
    "s.add(\"Blue\")\n",
    "s.add(\"Orange\")\n",
    "print(s)"
   ]
  },
  {
   "cell_type": "code",
   "execution_count": 19,
   "id": "1ed4c3b1",
   "metadata": {},
   "outputs": [
    {
     "name": "stdout",
     "output_type": "stream",
     "text": [
      "True\n",
      "True\n"
     ]
    }
   ],
   "source": [
    "d = {10,20,30,40,50}\n",
    "d1 = {60,70,10,30,40,80,20,50}\n",
    "\n",
    "print(d.issubset(d1))\n",
    "print(d1.issuperset(d))"
   ]
  },
  {
   "cell_type": "code",
   "execution_count": 20,
   "id": "d83f317d",
   "metadata": {},
   "outputs": [
    {
     "name": "stdout",
     "output_type": "stream",
     "text": [
      "{40, 10, '10', 50, 20, 60, 30}\n"
     ]
    }
   ],
   "source": [
    "s = {10,20,30,40}\n",
    "s1 = {50,20,\"10\",60}\n",
    "\n",
    "s2 = s.union(s1)\n",
    "print(s2)"
   ]
  },
  {
   "cell_type": "code",
   "execution_count": 21,
   "id": "7e765679",
   "metadata": {},
   "outputs": [
    {
     "name": "stdout",
     "output_type": "stream",
     "text": [
      "{'Yellow', 'Green', 'Orange', 'Black', 'Blue', 'Red'}\n"
     ]
    }
   ],
   "source": [
    "s = {\"Yellow\", \"Orange\", \"Black\"}\n",
    "s.update([\"Blue\", \"Green\",\"Red\"])\n",
    "print(s)"
   ]
  },
  {
   "cell_type": "code",
   "execution_count": null,
   "id": "292e027d",
   "metadata": {},
   "outputs": [],
   "source": []
  }
 ],
 "metadata": {
  "kernelspec": {
   "display_name": "Python 3",
   "language": "python",
   "name": "python3"
  },
  "language_info": {
   "codemirror_mode": {
    "name": "ipython",
    "version": 3
   },
   "file_extension": ".py",
   "mimetype": "text/x-python",
   "name": "python",
   "nbconvert_exporter": "python",
   "pygments_lexer": "ipython3",
   "version": "3.8.8"
  }
 },
 "nbformat": 4,
 "nbformat_minor": 5
}
