{
 "cells": [
  {
   "cell_type": "markdown",
   "id": "066a448b",
   "metadata": {},
   "source": [
    "# 1-D array"
   ]
  },
  {
   "cell_type": "code",
   "execution_count": 1,
   "id": "d8762f18",
   "metadata": {},
   "outputs": [
    {
     "name": "stdout",
     "output_type": "stream",
     "text": [
      "[1 2 3 4 5]\n"
     ]
    }
   ],
   "source": [
    "import numpy as np\n",
    "# Creating 1-D array\n",
    "n_array = np.array([1,2,3,4,5])\n",
    "print(n_array)"
   ]
  },
  {
   "cell_type": "markdown",
   "id": "6c4b3abc",
   "metadata": {},
   "source": [
    "# 2-D array"
   ]
  },
  {
   "cell_type": "code",
   "execution_count": 2,
   "id": "9c6ffb55",
   "metadata": {},
   "outputs": [
    {
     "name": "stdout",
     "output_type": "stream",
     "text": [
      "[[1 2 3 4 5]\n",
      " [5 4 3 2 1]]\n"
     ]
    }
   ],
   "source": [
    "import numpy as np\n",
    "# Creating 2-D array\n",
    "n_array = np.array([ [1,2,3,4,5],[5,4,3,2,1] ])\n",
    "print(n_array)"
   ]
  },
  {
   "cell_type": "markdown",
   "id": "41c22b2a",
   "metadata": {},
   "source": [
    "# Important Functions"
   ]
  },
  {
   "cell_type": "code",
   "execution_count": 3,
   "id": "0ee717e5",
   "metadata": {},
   "outputs": [
    {
     "name": "stdout",
     "output_type": "stream",
     "text": [
      "An Empty Array of size 5\n",
      "[0. 0. 0. 0. 0.]\n",
      "***\n",
      "An Array of only 1's of size 5\n",
      "[1. 1. 1. 1. 1.]\n",
      "***\n",
      "An Array of only 0's of size 5\n",
      "[0. 0. 0. 0. 0.]\n",
      "***\n",
      "An Identity Matrix Array of size 5\n",
      "[[1. 0. 0. 0. 0.]\n",
      " [0. 1. 0. 0. 0.]\n",
      " [0. 0. 1. 0. 0.]\n",
      " [0. 0. 0. 1. 0.]\n",
      " [0. 0. 0. 0. 1.]]\n",
      "***\n",
      "Array populated with numbers from 2 to 50 with the difference of 3\n",
      "[ 2  5  8 11 14 17 20 23 26 29 32 35 38 41 44 47]\n",
      "***\n"
     ]
    }
   ],
   "source": [
    "import numpy as np\n",
    "\n",
    "print(\"An Empty Array of size 5\")\n",
    "print(np.empty(5)) # Generate empty array of size 5\n",
    "print(\"***\")\n",
    "print(\"An Array of only 1's of size 5\")\n",
    "print(np.ones(5)) # Generate array containing only 1's of size 5\n",
    "print(\"***\")\n",
    "print(\"An Array of only 0's of size 5\")\n",
    "print(np.zeros(5)) # Generate array containing only 0's of size 5\n",
    "print(\"***\")\n",
    "print(\"An Identity Matrix Array of size 5\")\n",
    "print(np.eye(5)) # Generate identity matrix array of size 5\n",
    "print(\"***\")\n",
    "print(\"Array populated with numbers from 2 to 50 with the difference of 3\")\n",
    "print(np.arange(2, 50, 3)) # Generate array with consecutive numbers\n",
    "print(\"***\")"
   ]
  },
  {
   "cell_type": "markdown",
   "id": "d8a1b38c",
   "metadata": {},
   "source": [
    "# Indexing for a 1-D array"
   ]
  },
  {
   "cell_type": "code",
   "execution_count": 4,
   "id": "93fb2f2a",
   "metadata": {},
   "outputs": [
    {
     "name": "stdout",
     "output_type": "stream",
     "text": [
      "The Array\n",
      "[0 1 2 3 4 5 6 7 8 9]\n",
      "\n",
      "Element at index 5\n",
      "5\n",
      "\n",
      "Elements in a range of 0 to 6\n",
      "[0 1 2 3 4 5]\n",
      "\n",
      "New array after changing elements in a range of 0 to 6\n",
      "[20 20 20 20 20 20  6  7  8  9]\n"
     ]
    }
   ],
   "source": [
    "import numpy as np\n",
    "\n",
    "arr = np.arange(0,10,1) # Generate array with numbers from 0 to 9\n",
    "print(\"The Array\")\n",
    "print(arr)\n",
    "\n",
    "print(\"\\nElement at index 5\")\n",
    "print(arr[5]) # Fetch element at index 5\n",
    "\n",
    "print(\"\\nElements in a range of 0 to 6\")\n",
    "print(arr[0:6]) # Fetch elements in a range\n",
    "\n",
    "arr[0:6] = 20 # Assign a value to a range of elements\n",
    "print(\"\\nNew array after changing elements in a range of 0 to 6\")\n",
    "print(arr)"
   ]
  },
  {
   "cell_type": "markdown",
   "id": "a6158845",
   "metadata": {},
   "source": [
    "# Slicing 1-D array"
   ]
  },
  {
   "cell_type": "code",
   "execution_count": 5,
   "id": "013e34ce",
   "metadata": {},
   "outputs": [
    {
     "name": "stdout",
     "output_type": "stream",
     "text": [
      "The Array\n",
      "[0 1 2 3 4 5 6 7 8 9]\n",
      "\n",
      "The new sliced array\n",
      "[1 2 3 4 5 6]\n",
      "\n",
      "The new sliced array with all elements\n",
      "[0 1 2 3 4 5 6 7 8 9]\n"
     ]
    }
   ],
   "source": [
    "import numpy as np\n",
    "\n",
    "arr = np.arange(0,10,1)\n",
    "print(\"The Array\")\n",
    "print(arr)\n",
    "\n",
    "new_arr1 = arr[1:7] # This command selects a range of elements from the array\n",
    "print(\"\\nThe new sliced array\")\n",
    "print(new_arr1)\n",
    "\n",
    "new_arr2 = arr[:] # This command selects all elements in the array\n",
    "print(\"\\nThe new sliced array with all elements\")\n",
    "print(new_arr2)"
   ]
  },
  {
   "cell_type": "markdown",
   "id": "7619bf60",
   "metadata": {},
   "source": [
    "# Indexing for a 2-D array"
   ]
  },
  {
   "cell_type": "code",
   "execution_count": 6,
   "id": "972d045d",
   "metadata": {},
   "outputs": [
    {
     "name": "stdout",
     "output_type": "stream",
     "text": [
      "The Array\n",
      "[[1 2 3]\n",
      " [4 5 6]\n",
      " [7 8 9]]\n",
      "\n",
      "Element at row 0 and column 1\n",
      "2\n",
      "\n",
      "Elements in a range of last two rows & columns\n",
      "[[5 6]\n",
      " [8 9]]\n",
      "\n",
      "New 2D array after changing last two rows & columns values\n",
      "[[ 1  2  3]\n",
      " [ 4 20 20]\n",
      " [ 7 20 20]]\n"
     ]
    }
   ],
   "source": [
    "import numpy as np\n",
    "# Declare a 2-D array\n",
    "arr2d = np.array([\n",
    "  [1, 2, 3],\n",
    "  [4, 5, 6],\n",
    "  [7, 8, 9]\n",
    "])\n",
    "print(\"The Array\")\n",
    "print(arr2d)\n",
    "\n",
    "print(\"\\nElement at row 0 and column 1\")\n",
    "print(arr2d[0][1])\n",
    "\n",
    "print(\"\\nElements in a range of last two rows & columns\")\n",
    "print(arr2d[1:3, 1:3])\n",
    "\n",
    "arr2d[1:3, 1:3] = 20\n",
    "print(\"\\nNew 2D array after changing last two rows & columns values\")\n",
    "print(arr2d)"
   ]
  },
  {
   "cell_type": "markdown",
   "id": "4a551edd",
   "metadata": {},
   "source": [
    "# Slicing 2-D array"
   ]
  },
  {
   "cell_type": "code",
   "execution_count": 7,
   "id": "54104cb9",
   "metadata": {},
   "outputs": [
    {
     "name": "stdout",
     "output_type": "stream",
     "text": [
      "The Array\n",
      "[[1 2 3]\n",
      " [4 5 6]\n",
      " [7 8 9]]\n",
      "\n",
      "The new sliced array\n",
      "[[4 5]\n",
      " [7 8]]\n",
      "\n",
      "The new sliced column\n",
      "[[2]\n",
      " [5]\n",
      " [8]]\n"
     ]
    }
   ],
   "source": [
    "import numpy as np\n",
    "# Declare a 2-D array\n",
    "arr2d = np.array([\n",
    "  [1, 2, 3],\n",
    "  [4, 5, 6],\n",
    "  [7, 8, 9]\n",
    "])\n",
    "print(\"The Array\")\n",
    "print(arr2d)\n",
    "\n",
    "print(\"\\nThe new sliced array\")\n",
    "print(arr2d[1:3, 0:2])\n",
    "\n",
    "print(\"\\nThe new sliced column\")\n",
    "print(arr2d[:, 1:2])"
   ]
  },
  {
   "cell_type": "markdown",
   "id": "a8efdf48",
   "metadata": {},
   "source": [
    "# The memory problem"
   ]
  },
  {
   "cell_type": "code",
   "execution_count": 8,
   "id": "eb13a8b5",
   "metadata": {},
   "outputs": [
    {
     "name": "stdout",
     "output_type": "stream",
     "text": [
      "The Array\n",
      "[0 1 2 3 4 5 6 7 8 9]\n",
      "\n",
      "The new sliced array\n",
      "[1 2 3 4 5 6]\n",
      "\n",
      "The Original array\n",
      "[ 0 20 20 20 20 20 20  7  8  9]\n"
     ]
    }
   ],
   "source": [
    "import numpy as np\n",
    "\n",
    "arr = np.arange(0,10,1)\n",
    "print(\"The Array\")\n",
    "print(arr)\n",
    "\n",
    "new_arr = arr[1:7]\n",
    "print(\"\\nThe new sliced array\")\n",
    "print(new_arr)\n",
    "\n",
    "new_arr[:] = 20\n",
    "print(\"\\nThe Original array\")\n",
    "print(arr)"
   ]
  },
  {
   "cell_type": "markdown",
   "id": "ffddf1ad",
   "metadata": {},
   "source": [
    "# Transpose"
   ]
  },
  {
   "cell_type": "code",
   "execution_count": 10,
   "id": "06e4b788",
   "metadata": {},
   "outputs": [
    {
     "name": "stdout",
     "output_type": "stream",
     "text": [
      "The original array\n",
      "[[ 0  1  2  3  4]\n",
      " [ 5  6  7  8  9]\n",
      " [10 11 12 13 14]\n",
      " [15 16 17 18 19]\n",
      " [20 21 22 23 24]\n",
      " [25 26 27 28 29]\n",
      " [30 31 32 33 34]\n",
      " [35 36 37 38 39]\n",
      " [40 41 42 43 44]\n",
      " [45 46 47 48 49]]\n",
      "\n",
      "The transposed array\n",
      "[[ 0  5 10 15 20 25 30 35 40 45]\n",
      " [ 1  6 11 16 21 26 31 36 41 46]\n",
      " [ 2  7 12 17 22 27 32 37 42 47]\n",
      " [ 3  8 13 18 23 28 33 38 43 48]\n",
      " [ 4  9 14 19 24 29 34 39 44 49]]\n"
     ]
    }
   ],
   "source": [
    "import numpy as np\n",
    "# Creating 2-D array\n",
    "arr = np.arange(0,50,1).reshape(10,5) # Declare a 2-D array\n",
    "\n",
    "print(\"The original array\")\n",
    "print(arr)\n",
    "\n",
    "print(\"\\nThe transposed array\")\n",
    "print(arr.transpose()) # Print the transposed array\n",
    "#print(arr.T) # This can also be used and same result will be produced"
   ]
  },
  {
   "cell_type": "markdown",
   "id": "7b0411c6",
   "metadata": {},
   "source": [
    "# More ‘NumPy’ array functions"
   ]
  },
  {
   "cell_type": "code",
   "execution_count": 11,
   "id": "035c0884",
   "metadata": {},
   "outputs": [
    {
     "name": "stdout",
     "output_type": "stream",
     "text": [
      "The first array\n",
      " [ 1  5  9 13 17 21 25 29 33 37] \n",
      "The second array\n",
      " [ 1  4  7 10 13 16 19 22 25 28] \n",
      "\n",
      "The Exponent Function\n",
      "[2.71828183e+00 1.48413159e+02 8.10308393e+03 4.42413392e+05\n",
      " 2.41549528e+07 1.31881573e+09 7.20048993e+10 3.93133430e+12\n",
      " 2.14643580e+14 1.17191424e+16]\n",
      "\n",
      "The Square Function\n",
      "[   1   25   81  169  289  441  625  841 1089 1369]\n",
      "\n",
      "The Square root Function\n",
      "[1.         2.23606798 3.         3.60555128 4.12310563 4.58257569\n",
      " 5.         5.38516481 5.74456265 6.08276253]\n",
      "\n",
      "The Cube root Function\n",
      "[1.         1.70997595 2.08008382 2.35133469 2.57128159 2.75892418\n",
      " 2.92401774 3.07231683 3.20753433 3.33222185]\n",
      "\n",
      "The Addition Function\n",
      "[ 2  9 16 23 30 37 44 51 58 65]\n",
      "\n",
      "The Subtraction Function\n",
      "[0 1 2 3 4 5 6 7 8 9]\n"
     ]
    }
   ],
   "source": [
    "import numpy as np\n",
    "# Declare 2 array\n",
    "arr1 = np.arange(1,40,4)\n",
    "arr2 = np.arange(1,30,3)\n",
    "\n",
    "print(\"The first array\\n\", arr1, \"\\nThe second array\\n\", arr2, '\\n')\n",
    "\n",
    "print(\"The Exponent Function\")\n",
    "print(np.exp(arr1))\n",
    "\n",
    "print(\"\\nThe Square Function\")\n",
    "print(np.square(arr1))\n",
    "\n",
    "print(\"\\nThe Square root Function\")\n",
    "print(np.sqrt(arr1))\n",
    "\n",
    "print(\"\\nThe Cube root Function\")\n",
    "print(np.cbrt(arr1))\n",
    "\n",
    "print(\"\\nThe Addition Function\")\n",
    "print(np.add(arr1, arr2))\n",
    "\n",
    "print(\"\\nThe Subtraction Function\")\n",
    "print(np.subtract(arr1, arr2))"
   ]
  },
  {
   "cell_type": "markdown",
   "id": "36306aea",
   "metadata": {},
   "source": [
    "# NumPy where function"
   ]
  },
  {
   "cell_type": "code",
   "execution_count": 12,
   "id": "9656ed56",
   "metadata": {},
   "outputs": [
    {
     "name": "stdout",
     "output_type": "stream",
     "text": [
      "[500  20 700  40]\n"
     ]
    }
   ],
   "source": [
    "import numpy as np\n",
    "# Declare 2 arrays\n",
    "arr1 = np.array([10, 20, 30, 40])\n",
    "arr2 = np.array([500, 600, 700, 800])\n",
    "\n",
    "cond = np.array([False, True, False, True]) # Create an array with bool operators\n",
    "\n",
    "res = np.where(cond, arr1, arr2) # apply the where condition\n",
    "print(res)"
   ]
  },
  {
   "cell_type": "markdown",
   "id": "4c26520c",
   "metadata": {},
   "source": [
    "# Some more NumPy functions for array"
   ]
  },
  {
   "cell_type": "code",
   "execution_count": 13,
   "id": "de5f5cb5",
   "metadata": {},
   "outputs": [
    {
     "name": "stdout",
     "output_type": "stream",
     "text": [
      "The original array\n",
      "[0.48152764 0.18230809 0.7620425  0.60116317 0.93354126 0.54145846\n",
      " 0.52684799]\n",
      "\n",
      "Mean of all elements of array\n",
      "0.5755555870824021\n",
      "\n",
      "Variance of all elements of array\n",
      "0.04722953600173423\n",
      "\n",
      "Standard Deviation of all elements of array\n",
      "0.21732357442701478\n",
      "\n",
      "Sum of all elements of array\n",
      "4.028889109576815\n",
      "\n",
      "Sorted array\n",
      "[0.18230809 0.48152764 0.52684799 0.54145846 0.60116317 0.7620425\n",
      " 0.93354126]\n",
      "\n",
      "Original array\n",
      "['Dog' 'Cat' 'Lion' 'Dog' 'Eagle' 'Turtle' 'Lion']\n",
      "\n",
      "Unique array\n",
      "['Cat' 'Dog' 'Eagle' 'Lion' 'Turtle']\n"
     ]
    }
   ],
   "source": [
    "import numpy as np\n",
    "# Declare 2 arrays of different types\n",
    "arr1 = np.random.rand(7)\n",
    "arr2 = np.array(['Dog', 'Cat', 'Lion', 'Dog', 'Eagle', 'Turtle', 'Lion'])\n",
    "\n",
    "print(\"The original array\")\n",
    "print(arr1)\n",
    "\n",
    "print(\"\\nMean of all elements of array\")\n",
    "print(arr1.mean())\n",
    "\n",
    "print(\"\\nVariance of all elements of array\")\n",
    "print(arr1.var())\n",
    "\n",
    "print(\"\\nStandard Deviation of all elements of array\")\n",
    "print(arr1.std())\n",
    "\n",
    "print(\"\\nSum of all elements of array\")\n",
    "print(arr1.sum())\n",
    "\n",
    "print(\"\\nSorted array\")\n",
    "arr1.sort()\n",
    "print(arr1)\n",
    "\n",
    "print(\"\\nOriginal array\")\n",
    "print(arr2)\n",
    "\n",
    "print(\"\\nUnique array\")\n",
    "print(np.unique(arr2))"
   ]
  },
  {
   "cell_type": "markdown",
   "id": "bc51ad53",
   "metadata": {},
   "source": [
    "# Array loading and saving"
   ]
  },
  {
   "cell_type": "code",
   "execution_count": 14,
   "id": "ea632a06",
   "metadata": {},
   "outputs": [
    {
     "name": "stdout",
     "output_type": "stream",
     "text": [
      "The original array:\n",
      "[ 1.91315352  0.01707009 -2.60245144 -0.36805318  0.3674746   0.08395654\n",
      " -1.34780033]\n",
      "\n",
      "The array loaded from file:\n",
      "[ 1.91315352  0.01707009 -2.60245144 -0.36805318  0.3674746   0.08395654\n",
      " -1.34780033]\n"
     ]
    }
   ],
   "source": [
    "import numpy as np\n",
    "\n",
    "arr1 = np.random.randn(7)\n",
    "\n",
    "print(\"The original array:\")\n",
    "print(arr1)\n",
    "\n",
    "np.save('saved_arr',arr1) # save the array \n",
    "\n",
    "arr2 = np.load('saved_arr.npy') # load the saved array from file\n",
    "\n",
    "print(\"\\nThe array loaded from file:\")\n",
    "print(arr2)"
   ]
  },
  {
   "cell_type": "code",
   "execution_count": 1,
   "id": "efbd98e3",
   "metadata": {},
   "outputs": [],
   "source": [
    "def getMinMax(arr):\n",
    "  \n",
    "    res = []\n",
    "    \n",
    "    for i in range(arr.shape[0]):\n",
    "      \n",
    "      res.append(arr[i].min())\n",
    "      \n",
    "      res.append(arr[i].max())\n",
    "      \n",
    "    return res"
   ]
  },
  {
   "cell_type": "code",
   "execution_count": 3,
   "id": "ca788b11",
   "metadata": {},
   "outputs": [
    {
     "name": "stdout",
     "output_type": "stream",
     "text": [
      "The Original Array:\n",
      "[[77 91 28 29 91]\n",
      " [48 61 99 23 57]\n",
      " [17 89 87 53 94]\n",
      " [ 6 68 26 73 89]\n",
      " [19 24 39 39 41]]\n",
      "\n",
      "The Resultnt list with min & max values:\n",
      "[28, 91, 23, 99, 17, 94, 6, 89, 19, 41]\n"
     ]
    }
   ],
   "source": [
    "# Test Code\n",
    "import numpy as np\n",
    "arr = np.random.randint(1,100, size=(5,5))\n",
    "\n",
    "print(\"The Original Array:\")\n",
    "print(arr)\n",
    "\n",
    "res_arr = getMinMax(arr)\n",
    "\n",
    "print(\"\\nThe Resultnt list with min & max values:\")\n",
    "print(res_arr)"
   ]
  },
  {
   "cell_type": "code",
   "execution_count": null,
   "id": "c5e8bdf0",
   "metadata": {},
   "outputs": [],
   "source": []
  },
  {
   "cell_type": "code",
   "execution_count": null,
   "id": "cf4e5180",
   "metadata": {},
   "outputs": [],
   "source": []
  }
 ],
 "metadata": {
  "kernelspec": {
   "display_name": "Python 3 (ipykernel)",
   "language": "python",
   "name": "python3"
  },
  "language_info": {
   "codemirror_mode": {
    "name": "ipython",
    "version": 3
   },
   "file_extension": ".py",
   "mimetype": "text/x-python",
   "name": "python",
   "nbconvert_exporter": "python",
   "pygments_lexer": "ipython3",
   "version": "3.8.8"
  }
 },
 "nbformat": 4,
 "nbformat_minor": 5
}
