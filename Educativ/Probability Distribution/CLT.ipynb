{
 "cells": [
  {
   "cell_type": "markdown",
   "id": "e29a2d65",
   "metadata": {},
   "source": [
    "# Central Limit Theorem"
   ]
  },
  {
   "cell_type": "code",
   "execution_count": 1,
   "id": "b78f7212",
   "metadata": {},
   "outputs": [
    {
     "name": "stdout",
     "output_type": "stream",
     "text": [
      "The original Mean value: 496.922\n",
      "The inferred Mean value: 497.3946666666667\n"
     ]
    }
   ],
   "source": [
    "import numpy as np\n",
    "\n",
    "# Generate an array with 1000 random numbers\n",
    "x = np.random.randint(0, 1000, size = (1, 1000))[0]\n",
    "\n",
    "# print the original mean of entire dataset\n",
    "print(\"The original Mean value:\", x.mean())\n",
    "\n",
    "# Choose 30 random samples with each sample containing 25 random data points\n",
    "resamples = [np.random.choice(x, size = 25, replace = True) for i in range(30)]\n",
    "\n",
    "# List for storing means of random samples\n",
    "avg_lst = []\n",
    "for i in range(0,30):\n",
    "    # compute mean of each sample and store in the list\n",
    "    avg_lst.append(resamples[i].mean())\n",
    "\n",
    "# Compute the predicted mean by taking mean of all the means of the random samples\n",
    "cumm_mean = sum(avg_lst) / len(avg_lst)\n",
    "\n",
    "print(\"The inferred Mean value:\", cumm_mean)"
   ]
  },
  {
   "cell_type": "code",
   "execution_count": null,
   "id": "af9fe950",
   "metadata": {},
   "outputs": [],
   "source": []
  }
 ],
 "metadata": {
  "kernelspec": {
   "display_name": "Python 3 (ipykernel)",
   "language": "python",
   "name": "python3"
  },
  "language_info": {
   "codemirror_mode": {
    "name": "ipython",
    "version": 3
   },
   "file_extension": ".py",
   "mimetype": "text/x-python",
   "name": "python",
   "nbconvert_exporter": "python",
   "pygments_lexer": "ipython3",
   "version": "3.8.8"
  }
 },
 "nbformat": 4,
 "nbformat_minor": 5
}
