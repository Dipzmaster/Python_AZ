{
 "cells": [
  {
   "cell_type": "markdown",
   "id": "af903867",
   "metadata": {},
   "source": [
    "# Series"
   ]
  },
  {
   "cell_type": "code",
   "execution_count": 1,
   "id": "5ab29c65",
   "metadata": {},
   "outputs": [
    {
     "name": "stdout",
     "output_type": "stream",
     "text": [
      "The Series values are:\n",
      "[1 2 3 4 5]\n",
      "\n",
      "The Index values are:\n",
      "[0 1 2 3 4]\n"
     ]
    }
   ],
   "source": [
    "# importing pandas in our program\n",
    "import pandas as pd\n",
    "\n",
    "# Defining a series object\n",
    "srs = pd.Series([1,2,3,4,5])\n",
    "\n",
    "# printing series values\n",
    "print(\"The Series values are:\")\n",
    "print(srs.values)\n",
    "\n",
    "# printing series indexes\n",
    "print(\"\\nThe Index values are:\")\n",
    "print(srs.index.values)"
   ]
  },
  {
   "cell_type": "markdown",
   "id": "3df2059a",
   "metadata": {},
   "source": [
    "# Defining indexes"
   ]
  },
  {
   "cell_type": "code",
   "execution_count": 2,
   "id": "22e77702",
   "metadata": {},
   "outputs": [
    {
     "name": "stdout",
     "output_type": "stream",
     "text": [
      "The Indexed Series values are:\n",
      "Country\n",
      "China       11.9\n",
      "India       36.0\n",
      "USA         16.6\n",
      "Brazil      21.8\n",
      "Pakistan    34.2\n",
      "Name: Growth Rate, dtype: float64\n"
     ]
    }
   ],
   "source": [
    "#importing pandas in our program\n",
    "import pandas as pd\n",
    "\n",
    "# Defining a series object\n",
    "srs = pd.Series([11.9, 36.0, 16.6, 21.8, 34.2], index = ['China', 'India', 'USA', 'Brazil', 'Pakistan'])\n",
    "\n",
    "# Set Series name\n",
    "srs.name = \"Growth Rate\"\n",
    "\n",
    "# Set index name\n",
    "srs.index.name = \"Country\"\n",
    "\n",
    "# printing series values\n",
    "print(\"The Indexed Series values are:\")\n",
    "print(srs)"
   ]
  },
  {
   "cell_type": "markdown",
   "id": "8c08ee6c",
   "metadata": {},
   "source": [
    "# Index consistency"
   ]
  },
  {
   "cell_type": "code",
   "execution_count": 3,
   "id": "836a975d",
   "metadata": {},
   "outputs": [
    {
     "name": "stdout",
     "output_type": "stream",
     "text": [
      "The new Indexed Series values are:\n",
      "Country\n",
      "Afghanistan    NaN\n",
      "Brazil         1.0\n",
      "China          1.0\n",
      "India          1.0\n",
      "Nigeria        NaN\n",
      "Pakistan       1.0\n",
      "USA            1.0\n",
      "Name: Resultant Object, dtype: float64\n"
     ]
    }
   ],
   "source": [
    "#importing pandas in our program\n",
    "import pandas as pd\n",
    "\n",
    "# Defining two series object\n",
    "srs1 = pd.Series([11.9, 36.0, 16.6, 21.8, 34.2, 62.4], index = ['China', 'India', 'USA', 'Brazil', 'Pakistan', 'Nigeria'])\n",
    "\n",
    "srs2 = pd.Series([2.33, 11.9, 36.0, 16.6, 21.8, 34.2], index = ['Afghanistan', 'China', 'India', 'USA', 'Brazil', 'Pakistan'])\n",
    "\n",
    "srs = srs1 / srs2\n",
    "# Set Series name\n",
    "srs.name = \"Resultant Object\"\n",
    "\n",
    "# Set index name\n",
    "srs.index.name = \"Country\"\n",
    "\n",
    "# printing series values\n",
    "print(\"The new Indexed Series values are:\")\n",
    "print(srs)"
   ]
  },
  {
   "cell_type": "markdown",
   "id": "b478a4b0",
   "metadata": {},
   "source": [
    "# More functions from indexes"
   ]
  },
  {
   "cell_type": "code",
   "execution_count": 4,
   "id": "7171d3f6",
   "metadata": {},
   "outputs": [
    {
     "name": "stdout",
     "output_type": "stream",
     "text": [
      "The indexes that are assigned ‘True’ are Null:\n",
      "Country\n",
      "Afghanistan     True\n",
      "Brazil         False\n",
      "China          False\n",
      "India          False\n",
      "Nigeria         True\n",
      "Pakistan       False\n",
      "USA            False\n",
      "Name: Resultant Object, dtype: bool\n",
      "\n",
      "The indexes that are assigned ‘True’ are not Null:\n",
      "Country\n",
      "Afghanistan    False\n",
      "Brazil          True\n",
      "China           True\n",
      "India           True\n",
      "Nigeria        False\n",
      "Pakistan        True\n",
      "USA             True\n",
      "Name: Resultant Object, dtype: bool\n",
      "\n",
      "Indexes that satisfy the condition are:\n",
      "Country\n",
      "Brazil      1.0\n",
      "China       1.0\n",
      "India       1.0\n",
      "Pakistan    1.0\n",
      "USA         1.0\n",
      "Name: Resultant Object, dtype: float64\n",
      "\n",
      "Indexes that satisfy the condition are:\n",
      "Country\n",
      "Afghanistan   NaN\n",
      "Nigeria       NaN\n",
      "Name: Resultant Object, dtype: float64\n"
     ]
    }
   ],
   "source": [
    "#importing pandas in our program\n",
    "import pandas as pd\n",
    "# Defining two series object\n",
    "srs1 = pd.Series([11.9, 36.0, 16.6, 21.8, 34.2, 62.4], index = ['China', 'India', 'USA', 'Brazil', 'Pakistan', 'Nigeria'])\n",
    "srs2 = pd.Series([2.33, 11.9, 36.0, 16.6, 21.8, 34.2], index = ['Afghanistan', 'China', 'India', 'USA', 'Brazil', 'Pakistan'])\n",
    "# Dividing series 1 values with seies 2 values\n",
    "srs = srs1 / srs2\n",
    "# Set Series name\n",
    "srs.name = \"Resultant Object\"\n",
    "# Set index name\n",
    "srs.index.name = \"Country\"\n",
    "\n",
    "\n",
    "print(\"The indexes that are assigned ‘True’ are Null:\")\n",
    "print(pd.isnull(srs))\n",
    "\n",
    "print(\"\\nThe indexes that are assigned ‘True’ are not Null:\")\n",
    "print(pd.notnull(srs))\n",
    "\n",
    "print(\"\\nIndexes that satisfy the condition are:\")\n",
    "print(srs[srs == 1.0])\n",
    "\n",
    "print(\"\\nIndexes that satisfy the condition are:\")\n",
    "print(srs[srs != 1.0])"
   ]
  },
  {
   "cell_type": "markdown",
   "id": "a01a45af",
   "metadata": {},
   "source": [
    "# DataFrame"
   ]
  },
  {
   "cell_type": "code",
   "execution_count": 5,
   "id": "5057fadf",
   "metadata": {},
   "outputs": [
    {
     "name": "stdout",
     "output_type": "stream",
     "text": [
      "       Sex  Under 1  1-4  5-9  10-14  15-19  20-24  25-29  30-34  35-39  40-44\n",
      "0    Males       82  305  199    197    322    537    910   1239   1610   2045\n",
      "1  Females       73  249  171    183    297    554   1341   2219   3085   4457\n",
      "2    Males        0    0    1      4     10      7     17     30     67    139\n",
      "3  Females        0    1    0      5      8      8     12     29     53     81\n",
      "4    Males        0    0    0      0      0      0      1      1      1      2\n"
     ]
    }
   ],
   "source": [
    "import pandas as pd\n",
    "\n",
    "df = pd.read_csv(\"C:/Users/HP/Documents/Pandas/Pandas/cancer_stats.csv\") # Read from csv file\n",
    "\n",
    "print (df.head()) # This method prints the first five rows in the dataframe"
   ]
  },
  {
   "cell_type": "code",
   "execution_count": 6,
   "id": "eabd5f06",
   "metadata": {},
   "outputs": [
    {
     "data": {
      "text/html": [
       "<div>\n",
       "<style scoped>\n",
       "    .dataframe tbody tr th:only-of-type {\n",
       "        vertical-align: middle;\n",
       "    }\n",
       "\n",
       "    .dataframe tbody tr th {\n",
       "        vertical-align: top;\n",
       "    }\n",
       "\n",
       "    .dataframe thead th {\n",
       "        text-align: right;\n",
       "    }\n",
       "</style>\n",
       "<table border=\"1\" class=\"dataframe\">\n",
       "  <thead>\n",
       "    <tr style=\"text-align: right;\">\n",
       "      <th></th>\n",
       "      <th>Sex</th>\n",
       "      <th>Under 1</th>\n",
       "      <th>1-4</th>\n",
       "      <th>5-9</th>\n",
       "      <th>10-14</th>\n",
       "      <th>15-19</th>\n",
       "      <th>20-24</th>\n",
       "      <th>25-29</th>\n",
       "      <th>30-34</th>\n",
       "      <th>35-39</th>\n",
       "      <th>40-44</th>\n",
       "    </tr>\n",
       "  </thead>\n",
       "  <tbody>\n",
       "    <tr>\n",
       "      <th>453</th>\n",
       "      <td>Females</td>\n",
       "      <td>1</td>\n",
       "      <td>0</td>\n",
       "      <td>0</td>\n",
       "      <td>1</td>\n",
       "      <td>1</td>\n",
       "      <td>1</td>\n",
       "      <td>2</td>\n",
       "      <td>2</td>\n",
       "      <td>0</td>\n",
       "      <td>0</td>\n",
       "    </tr>\n",
       "    <tr>\n",
       "      <th>454</th>\n",
       "      <td>Males</td>\n",
       "      <td>6</td>\n",
       "      <td>41</td>\n",
       "      <td>50</td>\n",
       "      <td>31</td>\n",
       "      <td>61</td>\n",
       "      <td>62</td>\n",
       "      <td>115</td>\n",
       "      <td>165</td>\n",
       "      <td>318</td>\n",
       "      <td>565</td>\n",
       "    </tr>\n",
       "    <tr>\n",
       "      <th>455</th>\n",
       "      <td>Females</td>\n",
       "      <td>8</td>\n",
       "      <td>24</td>\n",
       "      <td>37</td>\n",
       "      <td>32</td>\n",
       "      <td>40</td>\n",
       "      <td>43</td>\n",
       "      <td>104</td>\n",
       "      <td>227</td>\n",
       "      <td>443</td>\n",
       "      <td>705</td>\n",
       "    </tr>\n",
       "    <tr>\n",
       "      <th>456</th>\n",
       "      <td>Males</td>\n",
       "      <td>3</td>\n",
       "      <td>38</td>\n",
       "      <td>49</td>\n",
       "      <td>27</td>\n",
       "      <td>57</td>\n",
       "      <td>60</td>\n",
       "      <td>112</td>\n",
       "      <td>161</td>\n",
       "      <td>315</td>\n",
       "      <td>545</td>\n",
       "    </tr>\n",
       "    <tr>\n",
       "      <th>457</th>\n",
       "      <td>Females</td>\n",
       "      <td>7</td>\n",
       "      <td>22</td>\n",
       "      <td>36</td>\n",
       "      <td>30</td>\n",
       "      <td>38</td>\n",
       "      <td>41</td>\n",
       "      <td>96</td>\n",
       "      <td>221</td>\n",
       "      <td>436</td>\n",
       "      <td>693</td>\n",
       "    </tr>\n",
       "  </tbody>\n",
       "</table>\n",
       "</div>"
      ],
      "text/plain": [
       "         Sex  Under 1  1-4  5-9  10-14  15-19  20-24  25-29  30-34  35-39  \\\n",
       "453  Females        1    0    0      1      1      1      2      2      0   \n",
       "454    Males        6   41   50     31     61     62    115    165    318   \n",
       "455  Females        8   24   37     32     40     43    104    227    443   \n",
       "456    Males        3   38   49     27     57     60    112    161    315   \n",
       "457  Females        7   22   36     30     38     41     96    221    436   \n",
       "\n",
       "     40-44  \n",
       "453      0  \n",
       "454    565  \n",
       "455    705  \n",
       "456    545  \n",
       "457    693  "
      ]
     },
     "execution_count": 6,
     "metadata": {},
     "output_type": "execute_result"
    }
   ],
   "source": [
    "df.tail()"
   ]
  },
  {
   "cell_type": "markdown",
   "id": "a404ac5b",
   "metadata": {},
   "source": [
    "# Accessing columns"
   ]
  },
  {
   "cell_type": "code",
   "execution_count": 7,
   "id": "f54a61b4",
   "metadata": {},
   "outputs": [
    {
     "name": "stdout",
     "output_type": "stream",
     "text": [
      "Index(['Sex', 'Under 1', '1-4', '5-9', '10-14', '15-19', '20-24', '25-29',\n",
      "       '30-34', '35-39', '40-44'],\n",
      "      dtype='object')\n",
      "\n",
      "The First Column\n",
      "0      Males\n",
      "1    Females\n",
      "2      Males\n",
      "3    Females\n",
      "4      Males\n",
      "Name: Sex, dtype: object\n",
      "\n",
      "The type of this column is: <class 'pandas.core.series.Series'>\n",
      "\n",
      "\n",
      "The Second Column\n",
      "0    82\n",
      "1    73\n",
      "2     0\n",
      "3     0\n",
      "4     0\n",
      "Name: Under 1, dtype: int64\n",
      "\n",
      "The type of this column is: <class 'pandas.core.series.Series'>\n",
      "\n",
      "\n",
      "The Last Column\n",
      "0    2045\n",
      "1    4457\n",
      "2     139\n",
      "3      81\n",
      "4       2\n",
      "Name: 40-44, dtype: int64\n",
      "\n",
      "The type of this column is: <class 'pandas.core.series.Series'>\n",
      "\n"
     ]
    }
   ],
   "source": [
    "import pandas as pd\n",
    "\n",
    "df = pd.read_csv(\"C:/Users/HP/Documents/Pandas/Pandas/cancer_stats.csv\")\n",
    "\n",
    "print(df.columns) # print columns of DataFrame\n",
    "\n",
    "print(\"\\nThe First Column\")\n",
    "print(df['Sex'].head()) # Fetch the sex colum from DataFrame\n",
    "print(\"\\nThe type of this column is: \" + str(type(df['Sex'])) + \"\\n\")\n",
    "\n",
    "print(\"\\nThe Second Column\")\n",
    "print(df['Under 1'].head()) # Fetch the Under 1 colum from DataFrame\n",
    "print(\"\\nThe type of this column is: \" + str(type(df['Under 1'])) + \"\\n\")\n",
    "\n",
    "\n",
    "print(\"\\nThe Last Column\")\n",
    "print(df['40-44'].head()) # Fetch the 40-44 colum from DataFrame\n",
    "print(\"\\nThe type of this column is: \" + str(type(df['40-44'])) + \"\\n\")"
   ]
  },
  {
   "cell_type": "markdown",
   "id": "fe9bc4c9",
   "metadata": {},
   "source": [
    "# Accessing rows"
   ]
  },
  {
   "cell_type": "code",
   "execution_count": 8,
   "id": "6ab32cb6",
   "metadata": {},
   "outputs": [
    {
     "name": "stdout",
     "output_type": "stream",
     "text": [
      "\n",
      "The Row values at index 0\n",
      "\n",
      "Sex        Males\n",
      "Under 1       82\n",
      "1-4          305\n",
      "5-9          199\n",
      "10-14        197\n",
      "15-19        322\n",
      "20-24        537\n",
      "25-29        910\n",
      "30-34       1239\n",
      "35-39       1610\n",
      "40-44       2045\n",
      "Name: 0, dtype: object\n",
      "\n",
      "The Row values at index 1\n",
      "\n",
      "Sex        Females\n",
      "Under 1         73\n",
      "1-4            249\n",
      "5-9            171\n",
      "10-14          183\n",
      "15-19          297\n",
      "20-24          554\n",
      "25-29         1341\n",
      "30-34         2219\n",
      "35-39         3085\n",
      "40-44         4457\n",
      "Name: 1, dtype: object\n",
      "\n",
      "The Row values at index 6\n",
      "\n",
      "Sex        Males\n",
      "Under 1        0\n",
      "1-4            0\n",
      "5-9            0\n",
      "10-14          0\n",
      "15-19          0\n",
      "20-24          0\n",
      "25-29          0\n",
      "30-34          1\n",
      "35-39          6\n",
      "40-44         12\n",
      "Name: 6, dtype: object\n"
     ]
    }
   ],
   "source": [
    "import pandas as pd\n",
    "\n",
    "df = pd.read_csv(\"C:/Users/HP/Documents/Pandas/Pandas/cancer_stats.csv\")\n",
    "\n",
    "print(\"\\nThe Row values at index 0\\n\")\n",
    "print(df.loc[0])\n",
    "\n",
    "print(\"\\nThe Row values at index 1\\n\")\n",
    "print(df.loc[1])\n",
    "\n",
    "print(\"\\nThe Row values at index 6\\n\")\n",
    "print(df.loc[6])"
   ]
  },
  {
   "cell_type": "markdown",
   "id": "c07947fb",
   "metadata": {},
   "source": [
    "# Dealing with NaN values"
   ]
  },
  {
   "cell_type": "code",
   "execution_count": 9,
   "id": "6f681c19",
   "metadata": {},
   "outputs": [
    {
     "name": "stdout",
     "output_type": "stream",
     "text": [
      "The new DataFrame with an added columns is:\n",
      "\n",
      "       Sex  Under 1  40-44  Disease\n",
      "0    Males       82   2045      NaN\n",
      "1  Females       73   4457      NaN\n",
      "2    Males        0    139      NaN\n",
      "3  Females        0     81      NaN\n",
      "4    Males        0      2      NaN\n"
     ]
    }
   ],
   "source": [
    "import pandas as pd\n",
    "\n",
    "df = pd.read_csv(\"C:/Users/HP/Documents/Pandas/Pandas/cancer_stats.csv\")\n",
    "# Assign new Disease column\n",
    "new_df = pd.DataFrame(df, columns=['Sex', 'Under 1', '40-44', 'Disease'])\n",
    "\n",
    "print(\"The new DataFrame with an added columns is:\\n\")\n",
    "print(new_df.head())"
   ]
  },
  {
   "cell_type": "markdown",
   "id": "b18e6d66",
   "metadata": {},
   "source": [
    "# Assigning values to NaN"
   ]
  },
  {
   "cell_type": "code",
   "execution_count": 10,
   "id": "f82afac9",
   "metadata": {},
   "outputs": [
    {
     "name": "stdout",
     "output_type": "stream",
     "text": [
      "The new DataFrame is:\n",
      "\n",
      "       Sex  Under 1  40-44   Disease\n",
      "0    Males       82   2045  Lymphoma\n",
      "1  Females       73   4457  Lymphoma\n",
      "2    Males        0    139  Lymphoma\n",
      "3  Females        0     81  Lymphoma\n",
      "4    Males        0      2  Lymphoma\n",
      "\n",
      "The new DataFrame is:\n",
      "\n",
      "       Sex  Under 1  40-44  Random_ID\n",
      "0    Males       82   2045          0\n",
      "1  Females       73   4457          1\n",
      "2    Males        0    139          2\n",
      "3  Females        0     81          3\n",
      "4    Males        0      2          4\n",
      "5  Females        0      4          5\n",
      "6    Males        0     12          6\n",
      "7  Females        0      7          7\n",
      "8    Males        0     32          8\n",
      "9  Females        0     19          9\n"
     ]
    }
   ],
   "source": [
    "import numpy as np\n",
    "import pandas as pd\n",
    "\n",
    "df = pd.read_csv(\"C:/Users/HP/Documents/Pandas/Pandas/cancer_stats.csv\")\n",
    "\n",
    "new_df = pd.DataFrame(df, columns=['Sex', 'Under 1', '40-44', 'Disease'])\n",
    "\n",
    "new_df['Disease'] = \"Lymphoma\"\n",
    "print(\"The new DataFrame is:\\n\")\n",
    "print(new_df.head())\n",
    "\n",
    "new_df2 = pd.DataFrame(df, columns=['Sex', 'Under 1', '40-44', 'Random_ID'])\n",
    "\n",
    "new_df2['Random_ID'] = np.arange(new_df2.shape[0])\n",
    "print(\"\\nThe new DataFrame is:\\n\")\n",
    "print(new_df2.head(10))"
   ]
  },
  {
   "cell_type": "markdown",
   "id": "35eb5b79",
   "metadata": {},
   "source": [
    "# Re-indexing in Series"
   ]
  },
  {
   "cell_type": "code",
   "execution_count": 11,
   "id": "2a876511",
   "metadata": {},
   "outputs": [
    {
     "name": "stdout",
     "output_type": "stream",
     "text": [
      "The series with new indexes is:\n",
      " Country\n",
      "China       11.9\n",
      "India       36.0\n",
      "Malaysia     NaN\n",
      "USA         16.6\n",
      "Brazil      21.8\n",
      "Pakistan    34.2\n",
      "England      NaN\n",
      "Name: Growth Rate, dtype: float64\n",
      "\n",
      "The series with new indexes is:\n",
      " Country\n",
      "China       11.9\n",
      "India       36.0\n",
      "Malaysia     0.0\n",
      "USA         16.6\n",
      "Brazil      21.8\n",
      "Pakistan    34.2\n",
      "England      0.0\n",
      "Name: Growth Rate, dtype: float64\n"
     ]
    }
   ],
   "source": [
    "#importing pandas in our program\n",
    "import pandas as pd\n",
    "\n",
    "# Defining a series object\n",
    "srs1 = pd.Series([11.9, 36.0, 16.6, 21.8, 34.2], index = ['China', 'India', 'USA', 'Brazil', 'Pakistan'])\n",
    "\n",
    "# Set Series name\n",
    "srs1.name = \"Growth Rate\"\n",
    "\n",
    "# Set index name\n",
    "srs1.index.name = \"Country\"\n",
    "\n",
    "srs2 = srs1.reindex(['China', 'India', 'Malaysia', 'USA', 'Brazil', 'Pakistan', 'England'])\n",
    "print(\"The series with new indexes is:\\n\",srs2)\n",
    "\n",
    "srs3 = srs1.reindex(['China', 'India', 'Malaysia', 'USA', 'Brazil', 'Pakistan', 'England'], fill_value=0)\n",
    "print(\"\\nThe series with new indexes is:\\n\",srs3)"
   ]
  },
  {
   "cell_type": "markdown",
   "id": "51c66448",
   "metadata": {},
   "source": [
    "# Re-indexing in DataFrame"
   ]
  },
  {
   "cell_type": "code",
   "execution_count": 12,
   "id": "bc2d3a8e",
   "metadata": {},
   "outputs": [
    {
     "name": "stdout",
     "output_type": "stream",
     "text": [
      "The original DataFrame\n",
      "       Column1  Column2  Column3  Column4\n",
      "Row1        0        1        2        3\n",
      "Row2        4        5        6        7\n",
      "Row4        8        9       10       11\n",
      "Row5       12       13       14       15\n",
      "\n",
      "New DataFrame with reindexed indexes:\n",
      "       Column1  Column2  Column3  Column4\n",
      "Row1      0.0      1.0      2.0      3.0\n",
      "Row2      4.0      5.0      6.0      7.0\n",
      "Row3      NaN      NaN      NaN      NaN\n",
      "Row4      8.0      9.0     10.0     11.0\n",
      "Row5     12.0     13.0     14.0     15.0\n",
      "\n",
      "New DataFrame with reindexed columns:\n",
      "       Column0  Column1  Column2  Column3  Column4\n",
      "Row1      NaN      0.0      1.0      2.0      3.0\n",
      "Row2      NaN      4.0      5.0      6.0      7.0\n",
      "Row3      NaN      NaN      NaN      NaN      NaN\n",
      "Row4      NaN      8.0      9.0     10.0     11.0\n",
      "Row5      NaN     12.0     13.0     14.0     15.0\n"
     ]
    }
   ],
   "source": [
    "import numpy as np\n",
    "import pandas as pd\n",
    "\n",
    "# Define a 2-D array\n",
    "arr2d = np.arange(16).reshape(4,4)\n",
    "\n",
    "# Give 2-D array to Dataframe and assign index and column names.\n",
    "df = pd.DataFrame(arr2d, index=['Row1', 'Row2', 'Row4', 'Row5'], columns=['Column1','Column2','Column3','Column4'])\n",
    "print(\"The original DataFrame\\n\", df)\n",
    "\n",
    "df2 = df.reindex(['Row1', 'Row2', 'Row3', 'Row4', 'Row5'])\n",
    "print(\"\\nNew DataFrame with reindexed indexes:\\n\", df2)\n",
    "\n",
    "df2 = df2.reindex(columns=['Column0', 'Column1', 'Column2', 'Column3', 'Column4'])\n",
    "print(\"\\nNew DataFrame with reindexed columns:\\n\", df2)"
   ]
  },
  {
   "cell_type": "markdown",
   "id": "ef1d93dd",
   "metadata": {},
   "source": [
    "# Forward filling in Series"
   ]
  },
  {
   "cell_type": "code",
   "execution_count": 13,
   "id": "16016718",
   "metadata": {},
   "outputs": [
    {
     "name": "stdout",
     "output_type": "stream",
     "text": [
      "The series NaN Values:\n",
      " Country\n",
      "China       11.9\n",
      "India       36.0\n",
      "Malaysia     NaN\n",
      "USA         16.6\n",
      "Brazil      21.8\n",
      "Pakistan    34.2\n",
      "England      NaN\n",
      "Name: Growth Rate, dtype: float64\n",
      "\n",
      "The series with new Values:\n",
      " Country\n",
      "China       11.9\n",
      "India       36.0\n",
      "Malaysia    36.0\n",
      "USA         16.6\n",
      "Brazil      21.8\n",
      "Pakistan    34.2\n",
      "England     34.2\n",
      "Name: Growth Rate, dtype: float64\n"
     ]
    }
   ],
   "source": [
    "import pandas as pd\n",
    "\n",
    "srs1 = pd.Series([11.9, 36.0, 16.6, 21.8, 34.2], index = ['China', 'India', 'USA', 'Brazil', 'Pakistan'])\n",
    "srs1.name = \"Growth Rate\"\n",
    "srs1.index.name = \"Country\"\n",
    "\n",
    "srs2 = srs1.reindex(['China', 'India', 'Malaysia', 'USA', 'Brazil', 'Pakistan', 'England'])\n",
    "print(\"The series NaN Values:\\n\",srs2)\n",
    "\n",
    "print(\"\\nThe series with new Values:\\n\",srs2.ffill())\n"
   ]
  },
  {
   "cell_type": "markdown",
   "id": "96a79f44",
   "metadata": {},
   "source": [
    "# Forward filling in DataFrame"
   ]
  },
  {
   "cell_type": "code",
   "execution_count": 14,
   "id": "1e61915f",
   "metadata": {},
   "outputs": [
    {
     "name": "stdout",
     "output_type": "stream",
     "text": [
      "DataFrame with NaN Values:\n",
      "       Column1  Column2  Column3  Column4  Column5\n",
      "Row1      0.0      1.0      2.0      3.0      NaN\n",
      "Row2      4.0      5.0      6.0      7.0      NaN\n",
      "Row3      NaN      NaN      NaN      NaN      NaN\n",
      "Row4      8.0      9.0     10.0     11.0      NaN\n",
      "Row5     12.0     13.0     14.0     15.0      NaN\n",
      "\n",
      "DataFrame with new values around Axis 0:\n",
      "       Column1  Column2  Column3  Column4  Column5\n",
      "Row1      0.0      1.0      2.0      3.0      NaN\n",
      "Row2      4.0      5.0      6.0      7.0      NaN\n",
      "Row3      4.0      5.0      6.0      7.0      NaN\n",
      "Row4      8.0      9.0     10.0     11.0      NaN\n",
      "Row5     12.0     13.0     14.0     15.0      NaN\n",
      "\n",
      "DataFrame with new values around Axis 1:\n",
      "       Column1  Column2  Column3  Column4  Column5\n",
      "Row1      0.0      1.0      2.0      3.0      3.0\n",
      "Row2      4.0      5.0      6.0      7.0      7.0\n",
      "Row3      NaN      NaN      NaN      NaN      NaN\n",
      "Row4      8.0      9.0     10.0     11.0     11.0\n",
      "Row5     12.0     13.0     14.0     15.0     15.0\n"
     ]
    }
   ],
   "source": [
    "import numpy as np\n",
    "import pandas as pd\n",
    "\n",
    "df = pd.DataFrame(np.arange(16).reshape(4,4), index=['Row1', 'Row2', 'Row4', 'Row5'], columns=['Column1','Column2','Column3','Column4'])\n",
    "\n",
    "df2 = df.reindex(['Row1', 'Row2', 'Row3', 'Row4', 'Row5'])\n",
    "df2 = df2.reindex(columns=['Column1', 'Column2', 'Column3', 'Column4', 'Column5'])\n",
    "print(\"DataFrame with NaN Values:\\n\", df2)\n",
    "\n",
    "# Fill values row wise\n",
    "print(\"\\nDataFrame with new values around Axis 0:\\n\", df2.ffill(axis = 0))\n",
    "\n",
    "# Fill values column wise\n",
    "print(\"\\nDataFrame with new values around Axis 1:\\n\", df2.ffill(axis = 1))"
   ]
  },
  {
   "cell_type": "markdown",
   "id": "ffd104f4",
   "metadata": {},
   "source": [
    "# Selection in Series"
   ]
  },
  {
   "cell_type": "code",
   "execution_count": 15,
   "id": "4e110769",
   "metadata": {},
   "outputs": [
    {
     "name": "stdout",
     "output_type": "stream",
     "text": [
      "The original Series:\n",
      " Index\n",
      "ind0    0\n",
      "ind1    1\n",
      "ind2    2\n",
      "ind3    3\n",
      "ind4    4\n",
      "ind5    5\n",
      "dtype: int32\n",
      "\n",
      "Series element at index ind3:\n",
      "3\n",
      "\n",
      "Series element at index 3:\n",
      "3\n",
      "\n",
      "Series elements at multiple indexes:\n",
      "\n",
      "Index\n",
      "ind1    1\n",
      "ind4    4\n",
      "dtype: int32\n"
     ]
    }
   ],
   "source": [
    "import numpy as np\n",
    "import pandas as pd\n",
    "\n",
    "srs = pd.Series(np.arange(0, 6, 1), index = ['ind0', 'ind1', 'ind2', 'ind3', 'ind4', 'ind5'])\n",
    "srs.index.name = \"Index\"\n",
    "print(\"The original Series:\\n\", srs)\n",
    "\n",
    "print(\"\\nSeries element at index ind3:\")\n",
    "print(srs['ind3']) # Fetch element at index named ind3\n",
    "\n",
    "print(\"\\nSeries element at index 3:\")\n",
    "print(srs[3]) # Fetch element at index 3\n",
    "\n",
    "print(\"\\nSeries elements at multiple indexes:\\n\")\n",
    "print(srs[['ind1', 'ind4']]) # Fetch elements at multiple indexes"
   ]
  },
  {
   "cell_type": "code",
   "execution_count": 16,
   "id": "11a330ef",
   "metadata": {},
   "outputs": [
    {
     "name": "stdout",
     "output_type": "stream",
     "text": [
      "The original Series:\n",
      " Index\n",
      "ind0    0\n",
      "ind1    1\n",
      "ind2    2\n",
      "ind3    3\n",
      "ind4    4\n",
      "ind5    5\n",
      "dtype: int32\n",
      "\n",
      "Series elements after and including index 4:\n",
      " Index\n",
      "ind4    4\n",
      "ind5    5\n",
      "dtype: int32\n",
      "\n",
      "All Series elements greater than equal to 3:\n",
      " Index\n",
      "ind3    3\n",
      "ind4    4\n",
      "ind5    5\n",
      "dtype: int32\n"
     ]
    }
   ],
   "source": [
    "import numpy as np\n",
    "import pandas as pd\n",
    "\n",
    "srs = pd.Series(np.arange(0, 6, 1), index = ['ind0', 'ind1', 'ind2', 'ind3', 'ind4', 'ind5'])\n",
    "srs.index.name = \"Index\"\n",
    "print(\"The original Series:\\n\", srs)\n",
    "\n",
    "print(\"\\nSeries elements after and including index 4:\\n\", srs[4: ]) # Fetch elements in a range\n",
    "\n",
    "print(\"\\nAll Series elements greater than equal to 3:\\n\", srs[srs >= 3]) # Fetch elements with a condition"
   ]
  },
  {
   "cell_type": "markdown",
   "id": "cbbe50ad",
   "metadata": {},
   "source": [
    "# Dropping entries"
   ]
  },
  {
   "cell_type": "code",
   "execution_count": 17,
   "id": "eaf67ace",
   "metadata": {},
   "outputs": [
    {
     "name": "stdout",
     "output_type": "stream",
     "text": [
      "The original Series:\n",
      " Index\n",
      "ind0    0\n",
      "ind1    1\n",
      "ind2    2\n",
      "ind3    3\n",
      "ind4    4\n",
      "ind5    5\n",
      "dtype: int32\n",
      "The New Series:\n",
      " Index\n",
      "ind0    0\n",
      "ind1    1\n",
      "ind3    3\n",
      "ind4    4\n",
      "ind5    5\n",
      "dtype: int32\n"
     ]
    }
   ],
   "source": [
    "import numpy as np\n",
    "import pandas as pd\n",
    "\n",
    "srs = pd.Series(np.arange(0, 6, 1), index = ['ind0', 'ind1', 'ind2', 'ind3', 'ind4', 'ind5'])\n",
    "srs.index.name = \"Index\"\n",
    "print(\"The original Series:\\n\", srs)\n",
    "\n",
    "srs = srs.drop('ind2') # drop index named ind2\n",
    "\n",
    "print(\"The New Series:\\n\", srs)"
   ]
  },
  {
   "cell_type": "markdown",
   "id": "38214d5a",
   "metadata": {},
   "source": [
    "# Selection in DataFrame"
   ]
  },
  {
   "cell_type": "code",
   "execution_count": 18,
   "id": "09e863f4",
   "metadata": {},
   "outputs": [
    {
     "name": "stdout",
     "output_type": "stream",
     "text": [
      "The original DataFrame\n",
      "       Column1  Column2  Column3  Column4\n",
      "Row1        0        1        2        3\n",
      "Row2        4        5        6        7\n",
      "Row3        8        9       10       11\n",
      "Row4       12       13       14       15\n",
      "\n",
      "Elements which satisfy the condition:\n",
      "       Column1  Column2  Column3  Column4\n",
      "Row3        8        9       10       11\n",
      "Row4       12       13       14       15\n",
      "\n",
      "Elements of Index named Row4:\n",
      " Column1    12\n",
      "Column2    13\n",
      "Column3    14\n",
      "Column4    15\n",
      "Name: Row4, dtype: int32\n"
     ]
    }
   ],
   "source": [
    "import numpy as np\n",
    "import pandas as pd\n",
    "\n",
    "df = pd.DataFrame(np.arange(16).reshape(4,4), index=['Row1', 'Row2', 'Row3', 'Row4'], columns=['Column1','Column2','Column3','Column4'])\n",
    "\n",
    "print(\"The original DataFrame\\n\", df)\n",
    "\n",
    "print(\"\\nElements which satisfy the condition:\\n\", df[df['Column3'] > 6])\n",
    "\n",
    "print(\"\\nElements of Index named Row4:\\n\", df.loc['Row4'])"
   ]
  },
  {
   "cell_type": "markdown",
   "id": "4768efb0",
   "metadata": {},
   "source": [
    "# Dropping entries"
   ]
  },
  {
   "cell_type": "code",
   "execution_count": 19,
   "id": "55278fa3",
   "metadata": {},
   "outputs": [
    {
     "name": "stdout",
     "output_type": "stream",
     "text": [
      "The original DataFrame\n",
      "       Column1  Column2  Column3  Column4\n",
      "Row1        0        1        2        3\n",
      "Row2        4        5        6        7\n",
      "Row3        8        9       10       11\n",
      "Row4       12       13       14       15\n",
      "\n",
      "DataFrame after dropping Index Row2:\n",
      "       Column1  Column2  Column3  Column4\n",
      "Row1        0        1        2        3\n",
      "Row3        8        9       10       11\n",
      "Row4       12       13       14       15\n",
      "\n",
      "DataFrame after dropping Column2:\n",
      "       Column1  Column3  Column4\n",
      "Row1        0        2        3\n",
      "Row2        4        6        7\n",
      "Row3        8       10       11\n",
      "Row4       12       14       15\n"
     ]
    }
   ],
   "source": [
    "import numpy as np\n",
    "import pandas as pd\n",
    "\n",
    "df = pd.DataFrame(np.arange(16).reshape(4,4), index=['Row1', 'Row2', 'Row3', 'Row4'], columns=['Column1','Column2','Column3','Column4'])\n",
    "\n",
    "print(\"The original DataFrame\\n\", df)\n",
    "\n",
    "print(\"\\nDataFrame after dropping Index Row2:\\n\", df.drop('Row2'))\n",
    "\n",
    "print(\"\\nDataFrame after dropping Column2:\\n\", df.drop('Column2',axis=1))"
   ]
  },
  {
   "cell_type": "markdown",
   "id": "8c466a8a",
   "metadata": {},
   "source": [
    "# Sort"
   ]
  },
  {
   "cell_type": "code",
   "execution_count": 20,
   "id": "4a1b7945",
   "metadata": {},
   "outputs": [
    {
     "name": "stdout",
     "output_type": "stream",
     "text": [
      "Numeric Indexes Sorted\n",
      "1    2\n",
      "2    3\n",
      "3    1\n",
      "dtype: int64\n",
      "\n",
      "Alphabetic Indexes Sorted\n",
      "A    3\n",
      "B    1\n",
      "C    2\n",
      "dtype: int64\n",
      "\n",
      "Alphanumeric Indexes Sorted\n",
      "2    2\n",
      "3    1\n",
      "A    3\n",
      "dtype: int64\n"
     ]
    }
   ],
   "source": [
    "import pandas as pd\n",
    "\n",
    "# Numeric indexes\n",
    "print(\"Numeric Indexes Sorted\")\n",
    "srs1 = pd.Series([1,2,3], index = ['3', '1', '2'])\n",
    "print(srs1.sort_index())\n",
    "\n",
    "# Alphabetic indexes\n",
    "print(\"\\nAlphabetic Indexes Sorted\")\n",
    "srs2 = pd.Series([1,2,3], index = ['B', 'C', 'A'])\n",
    "print(srs2.sort_index())\n",
    "\n",
    "# Alhanumeric indexes\n",
    "print(\"\\nAlphanumeric Indexes Sorted\")\n",
    "srs3 = pd.Series([1,2,3], index = ['3', '2', 'A'])\n",
    "print(srs3.sort_index())\n"
   ]
  },
  {
   "cell_type": "code",
   "execution_count": 21,
   "id": "4e622e54",
   "metadata": {},
   "outputs": [
    {
     "name": "stdout",
     "output_type": "stream",
     "text": [
      "Random Numeric Values Sorted\n",
      "1   -1.486021\n",
      "2   -0.549471\n",
      "0    0.266499\n",
      "4    0.931331\n",
      "3    1.366510\n",
      "dtype: float64\n",
      "\n",
      "Alphabetic Values Sorted\n",
      "1    A\n",
      "4    B\n",
      "3    C\n",
      "0    D\n",
      "2    E\n",
      "dtype: object\n"
     ]
    }
   ],
   "source": [
    "import pandas as pd\n",
    "import numpy as np\n",
    "\n",
    "# Numeric values\n",
    "print(\"Random Numeric Values Sorted\")\n",
    "srs1 = pd.Series(np.random.randn(5))\n",
    "print(srs1.sort_values())\n",
    "\n",
    "# Alphabetic values\n",
    "print(\"\\nAlphabetic Values Sorted\")\n",
    "srs2 = pd.Series(['D', 'A', 'E', 'C', 'B'])\n",
    "print(srs2.sort_values())"
   ]
  },
  {
   "cell_type": "markdown",
   "id": "00541f16",
   "metadata": {},
   "source": [
    "# Rank"
   ]
  },
  {
   "cell_type": "code",
   "execution_count": 22,
   "id": "df0423f7",
   "metadata": {},
   "outputs": [
    {
     "name": "stdout",
     "output_type": "stream",
     "text": [
      "The series:\n",
      "0   -1.615288\n",
      "1   -1.160272\n",
      "2    0.079285\n",
      "3   -0.920488\n",
      "4   -2.068569\n",
      "dtype: float64\n",
      "\n",
      "Ranks before sorting:\n",
      "0    2.0\n",
      "1    3.0\n",
      "2    5.0\n",
      "3    4.0\n",
      "4    1.0\n",
      "dtype: float64\n",
      "\n",
      "Ranks after sorting:\n",
      "4    1.0\n",
      "0    2.0\n",
      "1    3.0\n",
      "3    4.0\n",
      "2    5.0\n",
      "dtype: float64\n"
     ]
    }
   ],
   "source": [
    "import pandas as pd\n",
    "import numpy as np\n",
    "\n",
    "srs = pd.Series(np.random.randn(5))\n",
    "\n",
    "print(\"The series:\")\n",
    "print(srs)\n",
    "# Ranks before sorting\n",
    "print(\"\\nRanks before sorting:\")\n",
    "print(srs.rank())\n",
    "\n",
    "srs = srs.sort_values()\n",
    "# Ranks after sorting\n",
    "print(\"\\nRanks after sorting:\")\n",
    "print(srs.rank())"
   ]
  },
  {
   "cell_type": "markdown",
   "id": "be4950b7",
   "metadata": {},
   "source": [
    "# Missing data"
   ]
  },
  {
   "cell_type": "code",
   "execution_count": 23,
   "id": "2cb7b175",
   "metadata": {},
   "outputs": [
    {
     "name": "stdout",
     "output_type": "stream",
     "text": [
      "Series with NaN values:\n",
      "0    False\n",
      "1    False\n",
      "2    False\n",
      "3     True\n",
      "dtype: bool\n",
      "\n",
      "DataFrame with NaN values:\n",
      "       0      1      2      3\n",
      "0  False  False  False   True\n",
      "1   True  False   True  False\n",
      "2   True  False  False   True\n"
     ]
    }
   ],
   "source": [
    "import numpy as np\n",
    "import pandas as pd\n",
    "\n",
    "null_val = np.nan\n",
    "\n",
    "srs = pd.Series(['A','B','C',null_val]) # Declaring series with null values\n",
    "\n",
    "print(\"Series with NaN values:\")\n",
    "print(srs.isnull()) # Checking for null values\n",
    "\n",
    "# Declaring DataFrame with null values\n",
    "df = pd.DataFrame([['A','B','C',null_val],[null_val,'B',null_val,'D'],[null_val,'B','C',null_val]])\n",
    "\n",
    "print(\"\\nDataFrame with NaN values:\")\n",
    "print(df.isnull()) # Checking for null values"
   ]
  },
  {
   "cell_type": "code",
   "execution_count": 24,
   "id": "6d6c8163",
   "metadata": {},
   "outputs": [
    {
     "name": "stdout",
     "output_type": "stream",
     "text": [
      "Originl DataFrame:\n",
      "     0    1    2    3\n",
      "0    A    B    C    D\n",
      "1  NaN    B  NaN    D\n",
      "2  NaN    B    C  NaN\n",
      "3  NaN  NaN  NaN  NaN\n",
      "\n",
      "The dropna() method:\n",
      "   0  1  2  3\n",
      "0  A  B  C  D\n",
      "\n",
      "The dropna(how = all) method:\n",
      "     0  1    2    3\n",
      "0    A  B    C    D\n",
      "1  NaN  B  NaN    D\n",
      "2  NaN  B    C  NaN\n",
      "\n",
      "The dropna(axis=1) method:\n",
      "Empty DataFrame\n",
      "Columns: []\n",
      "Index: [0, 1, 2, 3]\n",
      "\n",
      "The dropna(thresh = n) method:\n",
      "     0  1    2    3\n",
      "0    A  B    C    D\n",
      "1  NaN  B  NaN    D\n",
      "2  NaN  B    C  NaN\n"
     ]
    }
   ],
   "source": [
    "import numpy as np\n",
    "import pandas as pd\n",
    "\n",
    "null_val = np.nan\n",
    "\n",
    "df = pd.DataFrame([['A','B','C','D'],[null_val,'B',null_val,'D'],[null_val,'B','C',null_val],[null_val,null_val,null_val,null_val]])\n",
    "\n",
    "print(\"Originl DataFrame:\")\n",
    "print(df)\n",
    "# Dropping Null values\n",
    "print(\"\\nThe dropna() method:\")\n",
    "print(df.dropna())\n",
    "\n",
    "print(\"\\nThe dropna(how = all) method:\")\n",
    "print(df.dropna(how = 'all'))\n",
    "\n",
    "print(\"\\nThe dropna(axis=1) method:\")\n",
    "print(df.dropna(axis=1))\n",
    "\n",
    "print(\"\\nThe dropna(thresh = n) method:\")\n",
    "print(df.dropna(thresh = 1))"
   ]
  },
  {
   "cell_type": "code",
   "execution_count": 25,
   "id": "7d8de69d",
   "metadata": {},
   "outputs": [
    {
     "name": "stdout",
     "output_type": "stream",
     "text": [
      "Originl DataFrame:\n",
      "     0    1    2    3\n",
      "0    A    B    C    D\n",
      "1  NaN    B  NaN    D\n",
      "2  NaN    B    C  NaN\n",
      "3  NaN  NaN  NaN  NaN\n",
      "\n",
      "The filled DataFrame:\n",
      "   0  1  2  3\n",
      "0  A  B  C  D\n",
      "1  M  B  M  D\n",
      "2  M  B  C  M\n",
      "3  M  M  M  M\n"
     ]
    }
   ],
   "source": [
    "import numpy as np\n",
    "import pandas as pd\n",
    "\n",
    "null_val = np.nan\n",
    "\n",
    "df = pd.DataFrame([['A','B','C','D'],[null_val,'B',null_val,'D'],[null_val,'B','C',null_val],[null_val,null_val,null_val,null_val]])\n",
    "\n",
    "print(\"Originl DataFrame:\")\n",
    "print(df)\n",
    "# Fill the Null values\n",
    "print(\"\\nThe filled DataFrame:\")\n",
    "print(df.fillna('M'))"
   ]
  },
  {
   "cell_type": "markdown",
   "id": "7b9602ec",
   "metadata": {},
   "source": [
    "# Pandas functions"
   ]
  },
  {
   "cell_type": "code",
   "execution_count": 26,
   "id": "b053904f",
   "metadata": {},
   "outputs": [
    {
     "name": "stdout",
     "output_type": "stream",
     "text": [
      "The DataFrame\n",
      "   A  B  C\n",
      "A  0  1  2\n",
      "B  3  4  5\n",
      "C  6  7  8\n",
      "\n",
      "The sum of each Column:\n",
      "A     9\n",
      "B    12\n",
      "C    15\n",
      "dtype: int64\n",
      "\n",
      "The sum of each Row:\n",
      "A     3\n",
      "B    12\n",
      "C    21\n",
      "dtype: int64\n"
     ]
    }
   ],
   "source": [
    "import numpy as np\n",
    "import pandas as pd\n",
    "# Declaring DataFrame \n",
    "df = pd.DataFrame(np.arange(9).reshape(3,3), index=['A', 'B', 'C'], columns=['A', 'B', 'C'])\n",
    "\n",
    "print(\"The DataFrame\")\n",
    "print(df)\n",
    "\n",
    "print(\"\\nThe sum of each Column:\")\n",
    "print(df.sum(axis=0))\n",
    "\n",
    "print(\"\\nThe sum of each Row:\")\n",
    "print(df.sum(axis=1))"
   ]
  },
  {
   "cell_type": "code",
   "execution_count": 27,
   "id": "63efb6e8",
   "metadata": {},
   "outputs": [
    {
     "name": "stdout",
     "output_type": "stream",
     "text": [
      "The DataFrame\n",
      "   A  B  C\n",
      "A  0  1  2\n",
      "B  3  4  5\n",
      "C  6  7  8\n",
      "\n",
      "The minimum from each Column:\n",
      "A    0\n",
      "B    1\n",
      "C    2\n",
      "dtype: int32\n",
      "\n",
      "The minimum from each Row:\n",
      "A    0\n",
      "B    3\n",
      "C    6\n",
      "dtype: int32\n"
     ]
    }
   ],
   "source": [
    "import numpy as np\n",
    "import pandas as pd\n",
    "# Declaring DataFrame \n",
    "df = pd.DataFrame(np.arange(9).reshape(3,3), index=['A', 'B', 'C'], columns=['A', 'B', 'C'])\n",
    "\n",
    "print(\"The DataFrame\")\n",
    "print(df)\n",
    "\n",
    "print(\"\\nThe minimum from each Column:\")\n",
    "print(df.min(axis=0))\n",
    "\n",
    "print(\"\\nThe minimum from each Row:\")\n",
    "print(df.min(axis=1))"
   ]
  },
  {
   "cell_type": "code",
   "execution_count": 28,
   "id": "681d7be2",
   "metadata": {},
   "outputs": [
    {
     "name": "stdout",
     "output_type": "stream",
     "text": [
      "The DataFrame\n",
      "   Col1  Col2  Col3\n",
      "A     0     1     2\n",
      "B     3     4     5\n",
      "C     6     7     8\n",
      "\n",
      "The minimum value in each Column is at index:\n",
      "Col1    A\n",
      "Col2    A\n",
      "Col3    A\n",
      "dtype: object\n",
      "\n",
      "The minimum value at each index is at Column:\n",
      "A    Col1\n",
      "B    Col1\n",
      "C    Col1\n",
      "dtype: object\n"
     ]
    }
   ],
   "source": [
    "import numpy as np\n",
    "import pandas as pd\n",
    "# Declaring DataFrame \n",
    "df = pd.DataFrame(np.arange(9).reshape(3,3), index=['A', 'B', 'C'], columns=['Col1', 'Col2', 'Col3'])\n",
    "\n",
    "print(\"The DataFrame\")\n",
    "print(df)\n",
    "\n",
    "print(\"\\nThe minimum value in each Column is at index:\")\n",
    "print(df.idxmin(axis=0))\n",
    "\n",
    "print(\"\\nThe minimum value at each index is at Column:\")\n",
    "print(df.idxmin(axis=1))"
   ]
  },
  {
   "cell_type": "markdown",
   "id": "7cc5d572",
   "metadata": {},
   "source": [
    "# Multilevel indexing in Series"
   ]
  },
  {
   "cell_type": "code",
   "execution_count": 29,
   "id": "370dd8d1",
   "metadata": {},
   "outputs": [
    {
     "name": "stdout",
     "output_type": "stream",
     "text": [
      "The multileveled index in Series:\n",
      "A  1    0\n",
      "   2    1\n",
      "B  3    2\n",
      "   4    3\n",
      "   5    4\n",
      "dtype: int32\n",
      "\n",
      "The A index:\n",
      "1    0\n",
      "2    1\n",
      "dtype: int32\n",
      "\n",
      "The B index:\n",
      "3    2\n",
      "4    3\n",
      "5    4\n",
      "dtype: int32\n"
     ]
    }
   ],
   "source": [
    "import numpy as np\n",
    "import pandas as pd\n",
    "# Declaring a multilevel indexed Series\n",
    "srs = pd.Series(np.arange(5), index=[['A','A','B','B','B'],[1,2,3,4,5]])\n",
    "\n",
    "print(\"The multileveled index in Series:\")\n",
    "print(srs)\n",
    "\n",
    "print(\"\\nThe A index:\")\n",
    "print(srs['A']) # Fetching elements at index named A\n",
    "\n",
    "print(\"\\nThe B index:\")\n",
    "print(srs['B']) # Fetching elements at index named B"
   ]
  },
  {
   "cell_type": "markdown",
   "id": "f6004dce",
   "metadata": {},
   "source": [
    "# Multilevel indexing in DataFrame"
   ]
  },
  {
   "cell_type": "code",
   "execution_count": 30,
   "id": "b2c05b19",
   "metadata": {},
   "outputs": [
    {
     "name": "stdout",
     "output_type": "stream",
     "text": [
      "The multileveled index in DataFrame:\n",
      "\n",
      "    USA Pak          UK   Ind\n",
      "    Day Day Night Night Night\n",
      "A 1   0   1     2     3     4\n",
      "  2   5   6     7     8     9\n",
      "  3  10  11    12    13    14\n",
      "B 4  15  16    17    18    19\n",
      "  5  20  21    22    23    24\n"
     ]
    }
   ],
   "source": [
    "import numpy as np\n",
    "import pandas as pd\n",
    "# Declaring a multilevel indexed DataFrame\n",
    "df = pd.DataFrame(np.arange(25).reshape(5,5), index=[['A','A','A','B','B'], [1,2,3,4,5]], \n",
    "                        columns=[['USA', 'Pak', 'Pak', 'UK','Ind'], ['Day', 'Day','Night', 'Night', 'Night']])\n",
    "\n",
    "print(\"The multileveled index in DataFrame:\\n\")\n",
    "print(df)"
   ]
  },
  {
   "cell_type": "markdown",
   "id": "46f17d3c",
   "metadata": {},
   "source": [
    "# SUM and SWAP"
   ]
  },
  {
   "cell_type": "code",
   "execution_count": 31,
   "id": "5a5e1b8c",
   "metadata": {},
   "outputs": [
    {
     "name": "stdout",
     "output_type": "stream",
     "text": [
      "           0   1   2    3   4  row_sum\n",
      "0         72  70  36   83  43     81.0\n",
      "1         33  15   2   73  57     79.0\n",
      "2         14  22  62   17  62     82.0\n",
      "3          9  31  11   95  11    112.0\n",
      "4         49   9  80   24  19     73.0\n",
      "col_sum  119  75  76  104  89      NaN\n"
     ]
    }
   ],
   "source": [
    "def Sum_Swap(df):\n",
    "    \n",
    "    minm_r = np.min(df, axis = 1) # Get minimum elements from all rows\n",
    "    \n",
    "    maxm_r = np.max(df, axis = 1) # Get maximum elements from all rows\n",
    "    \n",
    "    df['row_sum'] = minm_r + maxm_r # Add the min & max values and assign them to new column\n",
    "\n",
    "    minm_c = np.min(df, axis = 0) # Get minimum elements from all columns\n",
    "    \n",
    "    maxm_c = np.max(df, axis = 0) # Get maximum elements from all columns\n",
    "    \n",
    "    df.loc['col_sum'] = minm_c + maxm_c # Add the min & max values and assign them to new row\n",
    "\n",
    "    a, b = df['row_sum'].copy(), df.loc['col_sum'].copy() # Store values of row and column in temparory variables\n",
    "    \n",
    "    df['row_sum'], df.loc['col_sum'] = b, a # Interchange the values\n",
    "    \n",
    "    return df\n",
    "\n",
    "# Test Code\n",
    "\n",
    "df = pd.DataFrame(np.random.randint(1, 100, 25).reshape(5, 5))\n",
    "    \n",
    "df_res = Sum_Swap(df.copy())\n",
    "\n",
    "print(df_res)"
   ]
  },
  {
   "cell_type": "code",
   "execution_count": null,
   "id": "7d61464c",
   "metadata": {},
   "outputs": [],
   "source": []
  }
 ],
 "metadata": {
  "kernelspec": {
   "display_name": "Python 3 (ipykernel)",
   "language": "python",
   "name": "python3"
  },
  "language_info": {
   "codemirror_mode": {
    "name": "ipython",
    "version": 3
   },
   "file_extension": ".py",
   "mimetype": "text/x-python",
   "name": "python",
   "nbconvert_exporter": "python",
   "pygments_lexer": "ipython3",
   "version": "3.8.8"
  }
 },
 "nbformat": 4,
 "nbformat_minor": 5
}
