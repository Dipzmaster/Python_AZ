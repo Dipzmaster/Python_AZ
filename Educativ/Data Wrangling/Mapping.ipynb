{
 "cells": [
  {
   "cell_type": "markdown",
   "id": "c182359b",
   "metadata": {},
   "source": [
    "# Mapping data"
   ]
  },
  {
   "cell_type": "code",
   "execution_count": 1,
   "id": "eded6495",
   "metadata": {},
   "outputs": [
    {
     "name": "stdout",
     "output_type": "stream",
     "text": [
      "The Original DataFrame\n",
      "      City  AQI\n",
      "0   Lahore  147\n",
      "1   Mumbai  166\n",
      "2  Karachi  152\n",
      "3   London   81 \n",
      "\n",
      "The Mapped DataFrame\n",
      "      City  AQI   Country\n",
      "0   Lahore  147  Pakistan\n",
      "1   Mumbai  166     India\n",
      "2  Karachi  152  Pakistan\n",
      "3   London   81        UK\n"
     ]
    }
   ],
   "source": [
    "import pandas as pd\n",
    "\n",
    "df = pd.DataFrame({'City':['Lahore', 'Mumbai', 'Karachi', 'London'],\n",
    "                   'AQI':[147, 166, 152, 81]})\n",
    "\n",
    "print(\"The Original DataFrame\")\n",
    "print(df,'\\n')\n",
    "\n",
    "dict_map = {'Lahore':'Pakistan', 'Karachi':'Pakistan', 'Mumbai':'India', 'London':'UK'}\n",
    "\n",
    "df['Country'] = df['City'].map(dict_map)\n",
    "\n",
    "print(\"The Mapped DataFrame\")\n",
    "print(df)"
   ]
  },
  {
   "cell_type": "markdown",
   "id": "ed42b139",
   "metadata": {},
   "source": [
    "# Removing duplicated data"
   ]
  },
  {
   "cell_type": "code",
   "execution_count": 2,
   "id": "90915a70",
   "metadata": {},
   "outputs": [
    {
     "name": "stdout",
     "output_type": "stream",
     "text": [
      "The Original DataFrame\n",
      "  Col1  Col2\n",
      "0    A     1\n",
      "1    B     2\n",
      "2    A     1\n",
      "3    C     3\n",
      "4    B     4\n",
      "5    C     3 \n",
      "\n",
      "The DataFrame without duplicates\n",
      "  Col1  Col2\n",
      "0    A     1\n",
      "1    B     2\n",
      "3    C     3\n",
      "4    B     4 \n",
      "\n",
      "The DataFrame without Column1 duplicates\n",
      "  Col1  Col2\n",
      "0    A     1\n",
      "1    B     2\n",
      "3    C     3\n"
     ]
    }
   ],
   "source": [
    "import pandas as pd\n",
    "\n",
    "df = pd.DataFrame({'Col1':['A', 'B', 'A', 'C', 'B', 'C'],\n",
    "                    'Col2': [1, 2, 1, 3, 4, 3]})\n",
    "\n",
    "print(\"The Original DataFrame\")\n",
    "print(df,'\\n')\n",
    "\n",
    "print(\"The DataFrame without duplicates\")\n",
    "print(df.drop_duplicates(),'\\n')\n",
    "\n",
    "print(\"The DataFrame without Column1 duplicates\")\n",
    "print(df.drop_duplicates(['Col1']))"
   ]
  },
  {
   "cell_type": "code",
   "execution_count": null,
   "id": "df6078c6",
   "metadata": {},
   "outputs": [],
   "source": []
  }
 ],
 "metadata": {
  "kernelspec": {
   "display_name": "Python 3 (ipykernel)",
   "language": "python",
   "name": "python3"
  },
  "language_info": {
   "codemirror_mode": {
    "name": "ipython",
    "version": 3
   },
   "file_extension": ".py",
   "mimetype": "text/x-python",
   "name": "python",
   "nbconvert_exporter": "python",
   "pygments_lexer": "ipython3",
   "version": "3.8.8"
  }
 },
 "nbformat": 4,
 "nbformat_minor": 5
}
