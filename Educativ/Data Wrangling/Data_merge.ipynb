{
 "cells": [
  {
   "cell_type": "markdown",
   "id": "56742902",
   "metadata": {},
   "source": [
    "# Merge"
   ]
  },
  {
   "cell_type": "code",
   "execution_count": 1,
   "id": "0ed3c8cc",
   "metadata": {},
   "outputs": [
    {
     "name": "stdout",
     "output_type": "stream",
     "text": [
      "First DataFrame\n",
      "  pointer  value_df1\n",
      "0       A          0\n",
      "1       B          1\n",
      "2       C          2\n",
      "3       B          3\n",
      "4       A          4\n",
      "5       D          5\n",
      "\n",
      "Second DataFrame\n",
      "  pointer  value_df2\n",
      "0       B          6\n",
      "1       C          7\n",
      "2       B          8\n",
      "3       D          9\n",
      "\n",
      "Merged DataFrame\n",
      "\n",
      "   pointer  value_df1  value_df2\n",
      "0       B          1          6\n",
      "1       B          1          8\n",
      "2       B          3          6\n",
      "3       B          3          8\n",
      "4       C          2          7\n",
      "5       D          5          9\n"
     ]
    }
   ],
   "source": [
    "import numpy as np\n",
    "import pandas as pd\n",
    "\n",
    "df1 = pd.DataFrame({'pointer':['A', 'B', 'C', 'B', 'A', 'D'], \n",
    "                    'value_df1':[0,1,2,3,4,5]})\n",
    "\n",
    "print(\"First DataFrame\")\n",
    "print(df1)\n",
    "\n",
    "df2 = pd.DataFrame({'pointer':['B', 'C', 'B','D'], \n",
    "                    'value_df2':[6,7,8,9]})\n",
    "\n",
    "print(\"\\nSecond DataFrame\")\n",
    "print(df2)\n",
    "\n",
    "print(\"\\nMerged DataFrame\")\n",
    "print('\\n',pd.merge(df1, df2)) # Merging two DataFrames"
   ]
  },
  {
   "cell_type": "markdown",
   "id": "723e0386",
   "metadata": {},
   "source": [
    "# Left merge"
   ]
  },
  {
   "cell_type": "code",
   "execution_count": 2,
   "id": "f97bb7fc",
   "metadata": {},
   "outputs": [
    {
     "name": "stdout",
     "output_type": "stream",
     "text": [
      "Left Merged DataFrame\n",
      "\n",
      "  pointer  value_df1  value_df2\n",
      "0       A          0        NaN\n",
      "1       B          1        6.0\n",
      "2       B          1        8.0\n",
      "3       C          2        7.0\n",
      "4       B          3        6.0\n",
      "5       B          3        8.0\n",
      "6       A          4        NaN\n",
      "7       D          5        9.0\n"
     ]
    }
   ],
   "source": [
    "import numpy as np\n",
    "import pandas as pd\n",
    "\n",
    "df1 = pd.DataFrame({'pointer':['A', 'B', 'C', 'B', 'A', 'D'], \n",
    "                    'value_df1':[0,1,2,3,4,5]})\n",
    "\n",
    "df2 = pd.DataFrame({'pointer':['B', 'C', 'B', 'D', 'E'], \n",
    "                    'value_df2':[6, 7, 8, 9, 12]})\n",
    "\n",
    "print(\"Left Merged DataFrame\\n\")\n",
    "print(pd.merge(df1, df2, how = 'left')) # Performing a left merge"
   ]
  },
  {
   "cell_type": "markdown",
   "id": "c0e304b4",
   "metadata": {},
   "source": [
    "# Right merge"
   ]
  },
  {
   "cell_type": "code",
   "execution_count": 3,
   "id": "6a4182a9",
   "metadata": {},
   "outputs": [
    {
     "name": "stdout",
     "output_type": "stream",
     "text": [
      "Right Merged DataFrame\n",
      "\n",
      "  pointer  value_df1  value_df2\n",
      "0       B        1.0          6\n",
      "1       B        3.0          6\n",
      "2       Z        NaN          7\n",
      "3       C        2.0          8\n",
      "4       B        1.0          9\n",
      "5       B        3.0          9\n",
      "6       D        5.0         10\n",
      "7       E        NaN         11\n"
     ]
    }
   ],
   "source": [
    "import numpy as np\n",
    "import pandas as pd\n",
    "\n",
    "df1 = pd.DataFrame({'pointer':['A', 'B', 'C', 'B', 'A', 'D'], \n",
    "                    'value_df1':[0,1,2,3,4,5]})\n",
    "\n",
    "df2 = pd.DataFrame({'pointer':['B', 'Z', 'C', 'B','D','E'], \n",
    "                    'value_df2':[6,7,8,9,10,11]})\n",
    "\n",
    "print(\"Right Merged DataFrame\\n\")\n",
    "print(pd.merge(df1, df2, how = 'right')) # Performing a right merge"
   ]
  },
  {
   "cell_type": "markdown",
   "id": "76ad041c",
   "metadata": {},
   "source": [
    "# Outer merge"
   ]
  },
  {
   "cell_type": "code",
   "execution_count": 4,
   "id": "cc3739c0",
   "metadata": {},
   "outputs": [
    {
     "name": "stdout",
     "output_type": "stream",
     "text": [
      "Outer Merged DataFrame\n",
      "\n",
      "  pointer  value_df1  value_df2\n",
      "0       A        0.0        NaN\n",
      "1       A        4.0        NaN\n",
      "2       B        1.0        6.0\n",
      "3       B        1.0        9.0\n",
      "4       B        3.0        6.0\n",
      "5       B        3.0        9.0\n",
      "6       C        2.0        8.0\n",
      "7       D        5.0       10.0\n",
      "8       Z        NaN        7.0\n",
      "9       E        NaN       11.0\n"
     ]
    }
   ],
   "source": [
    "import numpy as np\n",
    "import pandas as pd\n",
    "\n",
    "df1 = pd.DataFrame({'pointer':['A', 'B', 'C', 'B', 'A', 'D'], \n",
    "                    'value_df1':[0,1,2,3,4,5]})\n",
    "\n",
    "df2 = pd.DataFrame({'pointer':['B', 'Z', 'C', 'B','D','E'], \n",
    "                    'value_df2':[6,7,8,9,10,11]})\n",
    "\n",
    "print(\"Outer Merged DataFrame\\n\")\n",
    "print(pd.merge(df1, df2, how = 'outer')) # Performing an outer merge"
   ]
  },
  {
   "cell_type": "markdown",
   "id": "44e0230c",
   "metadata": {},
   "source": [
    "# Merge on multiple columns"
   ]
  },
  {
   "cell_type": "code",
   "execution_count": 5,
   "id": "c2a27d42",
   "metadata": {},
   "outputs": [
    {
     "name": "stdout",
     "output_type": "stream",
     "text": [
      "Outer Merged DataFrame on Multiple Columns\n",
      "\n",
      "   column1 column2  value_df1  value_df2\n",
      "0      Pak       A        0.0        NaN\n",
      "1      USA       B        1.0        6.0\n",
      "2      USA       B        1.0        9.0\n",
      "3      Pak       C        2.0        NaN\n",
      "4       UK       B        3.0        NaN\n",
      "5      Ind       A        4.0        NaN\n",
      "6     None       D        5.0        NaN\n",
      "7       UK       Z        NaN        7.0\n",
      "8     None       C        NaN        8.0\n",
      "9      Pak       D        NaN       10.0\n",
      "10     Ind       E        NaN       11.0\n"
     ]
    }
   ],
   "source": [
    "import numpy as np\n",
    "import pandas as pd\n",
    "\n",
    "df1 = pd.DataFrame({'column1':['Pak', 'USA', 'Pak', 'UK', 'Ind','None'], #Column 1\n",
    "                    'column2':['A', 'B', 'C', 'B', 'A', 'D'],            #Column 2\n",
    "                    'value_df1':[0,1,2,3,4,5]})\n",
    "\n",
    "df2 = pd.DataFrame({'column1':['USA', 'UK', 'None', 'USA', 'Pak','Ind'], #Column 1\n",
    "                    'column2':['B', 'Z', 'C', 'B','D','E'],              #Column 2\n",
    "                    'value_df2':[6,7,8,9,10,11]})\n",
    "\n",
    "print(\"Outer Merged DataFrame on Multiple Columns\\n\")\n",
    "print(pd.merge(df1, df2, on = ['column1', 'column2'], how = 'outer'))"
   ]
  },
  {
   "cell_type": "markdown",
   "id": "e5e92d23",
   "metadata": {},
   "source": [
    "# Merge on index"
   ]
  },
  {
   "cell_type": "code",
   "execution_count": 6,
   "id": "7d37ec47",
   "metadata": {},
   "outputs": [
    {
     "name": "stdout",
     "output_type": "stream",
     "text": [
      "   values\n",
      "A      10\n",
      "B      11\n",
      "C      12\n",
      "Merged on index\n",
      "\n",
      "  pointer  value_df1  values\n",
      "0       A          0      10\n",
      "4       A          4      10\n",
      "1       B          1      11\n",
      "3       B          3      11\n",
      "2       C          2      12\n"
     ]
    }
   ],
   "source": [
    "import numpy as np\n",
    "import pandas as pd\n",
    "\n",
    "df1 = pd.DataFrame({'pointer':['A', 'B', 'C', 'B', 'A', 'D'], \n",
    "                    'value_df1':[0,1,2,3,4,5]})\n",
    "\n",
    "df2 = pd.DataFrame(np.arange(10,13,1), index = ['A', 'B','C'], columns = ['values'])\n",
    "print(df2)\n",
    "print(\"Merged on index\\n\")\n",
    "print(pd.merge(df1, df2, left_on='pointer', right_index=True))"
   ]
  },
  {
   "cell_type": "code",
   "execution_count": null,
   "id": "8fdd3b74",
   "metadata": {},
   "outputs": [],
   "source": []
  }
 ],
 "metadata": {
  "kernelspec": {
   "display_name": "Python 3 (ipykernel)",
   "language": "python",
   "name": "python3"
  },
  "language_info": {
   "codemirror_mode": {
    "name": "ipython",
    "version": 3
   },
   "file_extension": ".py",
   "mimetype": "text/x-python",
   "name": "python",
   "nbconvert_exporter": "python",
   "pygments_lexer": "ipython3",
   "version": "3.8.8"
  }
 },
 "nbformat": 4,
 "nbformat_minor": 5
}
