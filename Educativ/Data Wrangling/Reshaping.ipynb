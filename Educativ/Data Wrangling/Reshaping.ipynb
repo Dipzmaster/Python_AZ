{
 "cells": [
  {
   "cell_type": "markdown",
   "id": "4e5eaee9",
   "metadata": {},
   "source": [
    "# Stack"
   ]
  },
  {
   "cell_type": "code",
   "execution_count": 1,
   "id": "29a80e48",
   "metadata": {},
   "outputs": [
    {
     "name": "stdout",
     "output_type": "stream",
     "text": [
      "The Original DataFrame\n",
      "Column  Col1  Col2  Col3  Col4\n",
      "Row                           \n",
      "Row1       0     1     2     3\n",
      "Row2       4     5     6     7\n",
      "Row3       8     9    10    11 \n",
      "\n",
      "The Stacked DataFrame\n",
      "Row   Column\n",
      "Row1  Col1       0\n",
      "      Col2       1\n",
      "      Col3       2\n",
      "      Col4       3\n",
      "Row2  Col1       4\n",
      "      Col2       5\n",
      "      Col3       6\n",
      "      Col4       7\n",
      "Row3  Col1       8\n",
      "      Col2       9\n",
      "      Col3      10\n",
      "      Col4      11\n",
      "dtype: int32\n"
     ]
    }
   ],
   "source": [
    "import numpy as np\n",
    "import pandas as pd\n",
    "\n",
    "df = pd.DataFrame(np.arange(12).reshape(3,4), index = ['Row1', 'Row2', 'Row3'], \n",
    "                                            columns = ['Col1','Col2','Col3','Col4',])\n",
    "\n",
    "df.index.name = 'Row'\n",
    "df.columns.name = 'Column'\n",
    "\n",
    "print(\"The Original DataFrame\")\n",
    "print(df,'\\n')\n",
    "\n",
    "print(\"The Stacked DataFrame\")\n",
    "print(df.stack())"
   ]
  },
  {
   "cell_type": "markdown",
   "id": "cdeb22e0",
   "metadata": {},
   "source": [
    "# Unstack"
   ]
  },
  {
   "cell_type": "code",
   "execution_count": 2,
   "id": "0b75f153",
   "metadata": {},
   "outputs": [
    {
     "name": "stdout",
     "output_type": "stream",
     "text": [
      "The Original DataFrame\n",
      "Column  Col1  Col2  Col3  Col4\n",
      "Row                           \n",
      "Row1       0     1     2     3\n",
      "Row2       4     5     6     7\n",
      "Row3       8     9    10    11 \n",
      "\n",
      "The Stacked DataFrame\n",
      " Row   Column\n",
      "Row1  Col1       0\n",
      "      Col2       1\n",
      "      Col3       2\n",
      "      Col4       3\n",
      "Row2  Col1       4\n",
      "      Col2       5\n",
      "      Col3       6\n",
      "      Col4       7\n",
      "Row3  Col1       8\n",
      "      Col2       9\n",
      "      Col3      10\n",
      "      Col4      11\n",
      "dtype: int32\n",
      "\n",
      "The Unstacked DataFrame\n",
      "Column  Col1  Col2  Col3  Col4\n",
      "Row                           \n",
      "Row1       0     1     2     3\n",
      "Row2       4     5     6     7\n",
      "Row3       8     9    10    11 \n",
      "\n",
      "The Unstacked DataFrame on Named index\n",
      "Row     Row1  Row2  Row3\n",
      "Column                  \n",
      "Col1       0     4     8\n",
      "Col2       1     5     9\n",
      "Col3       2     6    10\n",
      "Col4       3     7    11\n"
     ]
    }
   ],
   "source": [
    "import numpy as np\n",
    "import pandas as pd\n",
    "\n",
    "df = pd.DataFrame(np.arange(12).reshape(3,4), index = ['Row1', 'Row2', 'Row3'], \n",
    "                                            columns = ['Col1','Col2','Col3','Col4',])\n",
    "\n",
    "df.index.name = 'Row'\n",
    "df.columns.name = 'Column'\n",
    "\n",
    "print(\"The Original DataFrame\")\n",
    "print(df,'\\n')\n",
    "\n",
    "stacked_df = df.stack()\n",
    "print(\"The Stacked DataFrame\\n\", stacked_df)\n",
    "\n",
    "print(\"\\nThe Unstacked DataFrame\")\n",
    "print(stacked_df.unstack(),'\\n')\n",
    "\n",
    "print(\"The Unstacked DataFrame on Named index\")\n",
    "print(stacked_df.unstack('Row'))"
   ]
  },
  {
   "cell_type": "markdown",
   "id": "a7a133f3",
   "metadata": {},
   "source": [
    "# Pivot tables"
   ]
  },
  {
   "cell_type": "code",
   "execution_count": 3,
   "id": "21d19ea8",
   "metadata": {},
   "outputs": [
    {
     "name": "stdout",
     "output_type": "stream",
     "text": [
      "The Original DataFrame\n",
      "Column    Company   Product Price\n",
      "Row                              \n",
      "0          Google    Editor  $200\n",
      "1       Microsoft    Editor  $250\n",
      "2          Google  Calendar   $50\n",
      "3       Microsoft     Azure  $400 \n",
      "\n",
      "The Pivoted DataFrame\n",
      "Product   Azure Calendar Editor\n",
      "Company                        \n",
      "Google      NaN      $50   $200\n",
      "Microsoft  $400      NaN   $250\n"
     ]
    }
   ],
   "source": [
    "import numpy as np\n",
    "import pandas as pd\n",
    "\n",
    "df = pd.DataFrame({'Company': ['Google', 'Microsoft', 'Google', 'Microsoft'], \n",
    "      'Product': ['Editor', 'Editor', 'Calendar', 'Azure'], \n",
    "      'Price': ['$200', '$250', '$50', '$400']})\n",
    "\n",
    "df.index.name = 'Row'\n",
    "df.columns.name = 'Column'\n",
    "\n",
    "print(\"The Original DataFrame\")\n",
    "print(df,'\\n')\n",
    "\n",
    "print(\"The Pivoted DataFrame\")\n",
    "print(df.pivot('Company', 'Product', 'Price'))"
   ]
  },
  {
   "cell_type": "code",
   "execution_count": null,
   "id": "9cc4b465",
   "metadata": {},
   "outputs": [],
   "source": []
  }
 ],
 "metadata": {
  "kernelspec": {
   "display_name": "Python 3 (ipykernel)",
   "language": "python",
   "name": "python3"
  },
  "language_info": {
   "codemirror_mode": {
    "name": "ipython",
    "version": 3
   },
   "file_extension": ".py",
   "mimetype": "text/x-python",
   "name": "python",
   "nbconvert_exporter": "python",
   "pygments_lexer": "ipython3",
   "version": "3.8.8"
  }
 },
 "nbformat": 4,
 "nbformat_minor": 5
}
